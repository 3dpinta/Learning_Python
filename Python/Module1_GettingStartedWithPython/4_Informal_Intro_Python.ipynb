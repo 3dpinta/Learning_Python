{
 "cells": [
  {
   "cell_type": "markdown",
   "metadata": {},
   "source": [
    "# Section 4: An Informal Introduction to Python\n",
    "Now that you have the Anaconda distribution of Python installed on your machine, and you have some familiarity with the IPython shell and Jupyter notebooks, it is time to learn some of the basics in Python. In this informal introduction you will:\n",
    "\n",
    "## Learning Objectives\n",
    "- Learn how to do basic calculator operations in Python.\n",
    "- Become familiar with strings and their nuances.\n",
    "- Encounter 'slices' for accessing parts of sequences. (This is very important!)\n",
    "- Learn how to create lists of items.\n",
    "- Use a 'while-loop' to compute the first 6 numbers in the Fibonacci sequence.\n",
    "\n",
    "The tutorial is located [here](https://docs.python.org/3/tutorial/introduction.html). Work through all of the following sections, following along in a Jupyter notebook or in the IPython shell:\n",
    "\n",
    "- [Numbers](https://docs.python.org/3/tutorial/introduction.html#using-python-as-a-calculator)\n",
    "- [Strings](https://docs.python.org/3/tutorial/introduction.html#strings)\n",
    "- [Lists](https://docs.python.org/3/tutorial/introduction.html#lists)\n",
    "- [First Steps Towards Programming](https://docs.python.org/3/tutorial/introduction.html#first-steps-towards-programming)\n"
   ]
  },
  {
   "cell_type": "markdown",
   "metadata": {},
   "source": [
    "## Exercises\n",
    "#### Checking Python Version (not graded)\n",
    "Run `import sys` and then `print(sys.version)` to confirm you have Python 3.5 (or greater).\n",
    "\n",
    "#### Slicing Strings\n",
    "Create a variable, `x`, with the string value `\"I'm a string, hear me roar!\"` assigned to it. Now print out the last 13 characters contained in `x` via slicing.\n",
    "\n",
    "#### Constructing a List (not graded)\n",
    "Create an empty list, `x = []`. Using \n",
    " - a `while` loop \n",
    " - the list-method `append`\n",
    " - the built-in function `len`\n",
    "append numbers to `x` until it contains 0-9: `[0, 1, 2, 3, 4, 5, 6, 7, 8, 9]`.\n",
    "\n",
    "> WARNING: if you give the while-loop a condition that never evaluates to False then your code will run forever. If this happens, at the top of your Jupyter notebook go to Kernel and then click Interrupt. If you are in the IPython shell, hit CTRL-C or close the terminal.\n",
    "\n",
    "**Bonus**: accomplish this without using any variables, other than `x`.\n",
    "\n",
    ">Note that there are much simpler ways to construct a list of numbers than by appending to one in a while loop. For instance, one can use list comprehensions. We will learn about these later.\n",
    "\n",
    "#### Slicing a List\n",
    "Given `x = [1, 2, 3, 4, 5]`, predict the output following sliced lists. Try rewriting any negative indices using the appropriate positive indices.\n",
    "\n",
    "- `x[-3:]`\n",
    "- `x[-3:2]`\n",
    "- `x[-6:4]`\n",
    "\n",
    "#### Operating on Various Data Types (not graded)\n",
    "Why can Python calculate `1 + 1` and `'1' + '1'` but not `'1' + 1`?\n",
    "\n",
    "#### Doing Simple Arithmetic (not graded)\n",
    "Given a, b, and c calculate and print the two solutions to the quadratic equation using the quadratic formula.\n",
    "\n",
    ">(Use `x**.5` to take the square root of an expression)"
   ]
  },
  {
   "cell_type": "code",
   "execution_count": null,
   "metadata": {
    "collapsed": true
   },
   "outputs": [],
   "source": []
  }
 ],
 "metadata": {
  "kernelspec": {
   "display_name": "Python [default]",
   "language": "python",
   "name": "python3"
  },
  "language_info": {
   "codemirror_mode": {
    "name": "ipython",
    "version": 3
   },
   "file_extension": ".py",
   "mimetype": "text/x-python",
   "name": "python",
   "nbconvert_exporter": "python",
   "pygments_lexer": "ipython3",
   "version": "3.6.3"
  }
 },
 "nbformat": 4,
 "nbformat_minor": 2
}
