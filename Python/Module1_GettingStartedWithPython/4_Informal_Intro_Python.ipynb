{
 "cells": [
  {
   "cell_type": "markdown",
   "metadata": {},
   "source": [
    "# Section 4: An Informal Introduction to Python\n",
    "Now that you have the Anaconda distribution of Python installed on your machine, and you have some familiarity with the IPython shell and Jupyter notebooks, it is time to learn some of the basics in Python. In this informal introduction you will:\n",
    "\n",
    "## Learning Objectives\n",
    "- Learn how to do basic calculator operations in Python.\n",
    "- Become familiar with strings and their nuances.\n",
    "- Encounter 'slices' for accessing parts of sequences. (This is very important!)\n",
    "- How to assign values to variables, and what makes a valid variable name.\n",
    "- Learn how to create lists of items.\n",
    "- Use a 'while-loop' to compute the first 6 numbers in the Fibonacci sequence.\n",
    "\n",
    "## Required Reading\n",
    "- [Numbers](https://docs.python.org/3/tutorial/introduction.html#using-python-as-a-calculator)\n",
    "- [Strings](https://docs.python.org/3/tutorial/introduction.html#strings)\n",
    "- [Variables & Assignment](https://anh.cs.luc.edu/python/hands-on/3.1/handsonHtml/variables.html#variables-and-assignment)\n",
    "- [Lists](https://docs.python.org/3/tutorial/introduction.html#lists)\n",
    "- [First Steps Towards Programming](https://docs.python.org/3/tutorial/introduction.html#first-steps-towards-programming)\n"
   ]
  }
 ],
 "metadata": {
  "kernelspec": {
   "display_name": "Python 3",
   "language": "python",
   "name": "python3"
  },
  "language_info": {
   "codemirror_mode": {
    "name": "ipython",
    "version": 3
   },
   "file_extension": ".py",
   "mimetype": "text/x-python",
   "name": "python",
   "nbconvert_exporter": "python",
   "pygments_lexer": "ipython3",
   "version": "3.6.3"
  }
 },
 "nbformat": 4,
 "nbformat_minor": 2
}
