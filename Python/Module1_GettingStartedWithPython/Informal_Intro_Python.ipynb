{
 "cells": [
  {
   "cell_type": "markdown",
   "metadata": {},
   "source": [
    "# An Informal Introduction to Python\n",
    "Now that you have the Anaconda distribution of Python installed on your machine, let's write some simple Python code! We are going to forego writing a full Python script for now, and instead make use of a convenient tool for doing quick code scratchwork. The IPython console was installed as a part of Anaconda. \n",
    "\n",
    "To start the IPython console, open your terminal (mac/linux) or `cmd.exe` (windows), type `ipython` into it, and hit `<Enter>`. You should see the following display on your screen:\n",
    "\n",
    "![IPython console example](attachments/ipython_0.PNG)\n",
    "\n",
    "We can type small pieces of Python code into this console, and hit `<Enter>` to have the CPython interpreter execute our code!\n",
    "\n",
    "Let's enter some Python code that performs simple arithmetic. Typing `2 + 3` into the IPython console, you should see the following input and output:"
   ]
  },
  {
   "cell_type": "code",
   "execution_count": 1,
   "metadata": {},
   "outputs": [
    {
     "data": {
      "text/plain": [
       "5"
      ]
     },
     "execution_count": 1,
     "metadata": {},
     "output_type": "execute_result"
    }
   ],
   "source": [
    "2 + 3"
   ]
  },
  {
   "cell_type": "markdown",
   "metadata": {},
   "source": [
    "This console session is \"persistent\", meaning that we can define variables and then reference them later on. Let's define the variable `x` and assign it to the integer `10` (please follow along in the IPython console)"
   ]
  },
  {
   "cell_type": "code",
   "execution_count": 2,
   "metadata": {},
   "outputs": [],
   "source": [
    "x = 10"
   ]
  },
  {
   "cell_type": "markdown",
   "metadata": {},
   "source": [
    "We can check the contents of `x` in this console by simply entering `x` in the next line and hitting `<ENETER>`:"
   ]
  },
  {
   "cell_type": "code",
   "execution_count": 3,
   "metadata": {},
   "outputs": [
    {
     "data": {
      "text/plain": [
       "10"
      ]
     },
     "execution_count": 3,
     "metadata": {},
     "output_type": "execute_result"
    }
   ],
   "source": [
    "x"
   ]
  },
  {
   "cell_type": "markdown",
   "metadata": {},
   "source": [
    "Now, let's use x in a quadratic equation: $x^{2} + 2x + 3$"
   ]
  },
  {
   "cell_type": "code",
   "execution_count": 4,
   "metadata": {},
   "outputs": [
    {
     "data": {
      "text/plain": [
       "123"
      ]
     },
     "execution_count": 4,
     "metadata": {},
     "output_type": "execute_result"
    }
   ],
   "source": [
    "x**2 + 2*x + 3"
   ]
  },
  {
   "cell_type": "markdown",
   "metadata": {},
   "source": [
    "\n",
    "\n",
    "\n",
    "\n",
    "## Learning Objectives\n",
    "\n",
    "- Learn how to do basic calculator operations in Python.\n",
    "- Become familiar with strings and lists.\n",
    "\n",
    "## A Quick Guide to Formatting\n",
    "Here is a quick rundown of the formatting that will be used throughout this text.\n",
    "\n",
    "The following represents a block of Python code:\n",
    "```python\n",
    "# count to 10\n",
    "cnt = 0\n",
    "for i in range(10):\n",
    "    cnt += 1\n",
    "```\n",
    "\n",
    "The `>>>` symbol is used to distinguish Python code that is entered in a terminal (e.g. in the IPython console) from its output:\n",
    "```python\n",
    ">>> print(2 + 3)  # input python code\n",
    "5\n",
    "```\n",
    "\n",
    "## Writing Comments in Code\n",
    "The pound-sign, `#`, is used to indicate a comment in Python code. Any text\n",
    "to the right of a `#` wil be treated as a comment, and will not be interpreted as code:\n",
    "```python\n",
    ">>> 2 + 3  # + 4 + 5... this is all a comment, so it has no impact on the code!\n",
    "```\n",
    "\n",
    "## Required Reading\n",
    "Please read the following sections from the official Python tutorial:\n",
    "\n",
    "- [Numbers](https://docs.python.org/3/tutorial/introduction.html#using-python-as-a-calculator)\n",
    "- [Strings](https://docs.python.org/3/tutorial/introduction.html#strings)\n",
    "- [Lists](https://docs.python.org/3/tutorial/introduction.html#lists)\n",
    "- [First Steps Towards Programming](https://docs.python.org/3/tutorial/introduction.html#first-steps-towards-programming)"
   ]
  },
  {
   "cell_type": "markdown",
   "metadata": {},
   "source": [
    "## The IPython Console\n",
    "\n",
    "The IPython console (**Interactive** Python console) provides a much nicer shell than the vanilla one described in the preceding section. If you have installed Anaconda, then you can simply execute the command `ipython` in your terminal to begin an IPython console session (make sure that you have exited from the Python console you may have opened in the preceding section):\n",
    "\n",
    "![IPython console example](attachments/IPythonClip.PNG)\n",
    "\n",
    "IPython can perform autocompletion when you are typing known commands and names. Try typing `pri` and then hit the `<TAB>` key. `pri` should autocomplete to `print`. This autocompletion works with any defined Python variables or function names, including ones that you have defined yourself. Writing code is greatly expedited by autocompletion. This is also useful when you can't remember the exact name of a variable hitting `<TAB>` will bring up a list of possible variable names, given what you have typed.\n",
    "\n",
    "Notice, also, that `print` appears in a colored font - this is because it is a built-in function in Python. IPython color-codes text to disambiguate built-in function names, strings of characters, numbers, and other common objects that will appear in your code. This greatly enhances the readability of code. \n",
    "\n",
    "If you type `print(\"Hello World\")`, you will also notice that the parentheses are highlighted when your cursor is on one of them - IPython will highlight pairs of parentheses (and other types of brackets and quotation marks) so that you can easily see if you have a mismatch.\n",
    "\n",
    "Exit the IPython shell by executing the command `exit()`.\n",
    "\n",
    "The IPython console is superior to the \"vanilla\" console that comes with Python in nearly every way. We have only scratched the surface of its capabilities. Read about IPython's other capabilities [here](http://ipython.readthedocs.io/en/stable/interactive/tutorial.html).\n",
    "\n",
    "The IPython shell is a great tool for quickly prototyping and testing small chunks of Python code. Jupyter Notebook is an even more powerful tool for quickly writing and running Python code."
   ]
  },
  {
   "cell_type": "markdown",
   "metadata": {},
   "source": [
    "<div class=\"alert alert-warning\">\n",
    "\n",
    "**Note**:\n",
    "\n",
    "There are reading-comprehension exercises included throughout the text. These are meant to help you put your reading to practice. Solutions for the exercises are included at the bottom of this page.\n",
    "</div>"
   ]
  }
 ],
 "metadata": {
  "anaconda-cloud": {},
  "kernelspec": {
   "display_name": "Python 3",
   "language": "python",
   "name": "python3"
  },
  "language_info": {
   "codemirror_mode": {
    "name": "ipython",
    "version": 3
   },
   "file_extension": ".py",
   "mimetype": "text/x-python",
   "name": "python",
   "nbconvert_exporter": "python",
   "pygments_lexer": "ipython3",
   "version": "3.6.3"
  }
 },
 "nbformat": 4,
 "nbformat_minor": 2
}
