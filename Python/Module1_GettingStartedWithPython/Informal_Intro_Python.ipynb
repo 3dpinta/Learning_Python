{
 "cells": [
  {
   "cell_type": "markdown",
   "metadata": {},
   "source": [
    "# An Informal Introduction to Python\n",
    "Now that you have the Anaconda distribution of Python installed on your machine, let's write some simple Python code! We are going to forego writing a full Python script for now, and instead make use of a convenient tool for doing quick code scratchwork. The IPython console was installed as a part of Anaconda; it will allow us build incrementally off of snippets of code, instead of having to execute an entire script all at once. \n",
    "\n",
    "To start the IPython console, open your terminal (Mac/Linux) or `cmd.exe` (Windows), type `ipython` into it, and hit `<Enter>`. You should see the following display on your screen:\n",
    "\n",
    "![IPython console example](attachments/ipython_0.PNG)\n",
    "\n",
    "We can type small pieces of Python code into this console, and then simply hit `<Enter>` to have the CPython interpreter execute our code immediately within the IPython console!\n",
    "\n",
    "## Dabbling with Numbers \n",
    "Let's enter some Python code that performs simple arithmetic. Typing `2 + 3` into the IPython console and hitting the `<ENTER>` key, you should see the following input and output:"
   ]
  },
  {
   "cell_type": "code",
   "execution_count": 1,
   "metadata": {},
   "outputs": [
    {
     "data": {
      "text/plain": [
       "5"
      ]
     },
     "execution_count": 1,
     "metadata": {},
     "output_type": "execute_result"
    }
   ],
   "source": [
    "2 + 3"
   ]
  },
  {
   "cell_type": "markdown",
   "metadata": {},
   "source": [
    "This console session is \"persistent\", meaning that we can define a variable and then reference it in our code later on within this console session. Let's define the variable `x` and assign it to the integer `10` (please follow along in the IPython console)"
   ]
  },
  {
   "cell_type": "code",
   "execution_count": 2,
   "metadata": {},
   "outputs": [],
   "source": [
    "x = 10"
   ]
  },
  {
   "cell_type": "markdown",
   "metadata": {},
   "source": [
    "We can check the contents of `x` in this console by simply entering `x` in the next line and hitting `<ENTER>`:"
   ]
  },
  {
   "cell_type": "code",
   "execution_count": 3,
   "metadata": {},
   "outputs": [
    {
     "data": {
      "text/plain": [
       "10"
      ]
     },
     "execution_count": 3,
     "metadata": {},
     "output_type": "execute_result"
    }
   ],
   "source": [
    "x"
   ]
  },
  {
   "cell_type": "markdown",
   "metadata": {},
   "source": [
    "Now, let's use `x` in a quadratic equation $x^{2} + 2x + 3$, and compute this total."
   ]
  },
  {
   "cell_type": "code",
   "execution_count": 4,
   "metadata": {},
   "outputs": [
    {
     "data": {
      "text/plain": [
       "123"
      ]
     },
     "execution_count": 4,
     "metadata": {},
     "output_type": "execute_result"
    }
   ],
   "source": [
    "x**2 + 2*x + 3"
   ]
  },
  {
   "cell_type": "markdown",
   "metadata": {},
   "source": [
    "Python's \"standard library\", the various tools and functions that come packaged as part of the core language, includes plenty of familiar mathematical functions. As a matter of organization, Python stores these mathematical functions away in a module named \"math\". To make use of this math module, we must import it into our code. "
   ]
  },
  {
   "cell_type": "code",
   "execution_count": 5,
   "metadata": {},
   "outputs": [],
   "source": [
    "import math"
   ]
  },
  {
   "cell_type": "markdown",
   "metadata": {},
   "source": [
    "THaving imported it, the term `math` now refers the math module in our code. IPython provides a nice way for us see a list of all the functions that are provided by the math module. To utilize this, type into the console `math.` (note the trailing period) and then hit `<TAB>`. You should see this list appear:"
   ]
  },
  {
   "cell_type": "markdown",
   "metadata": {},
   "source": [
    "![Displaying the contents of the math module](attachments/ipython_math.PNG)"
   ]
  },
  {
   "cell_type": "markdown",
   "metadata": {},
   "source": [
    "In general, hitting `<TAB>` will cue IPython to try to autocomplete code for you. This menu displays all the valid things that you could type after `math.`. Looking at the functions starting with \"s\", we see `sqrt()`. This is the square root function. To see autocompletion in action, type `math.sq` and then hit `<TAB>`. You should see the code autocomplete to `math.sqrt`.\n",
    "\n",
    "Let's use this function to compute $\\sqrt{100}$:"
   ]
  },
  {
   "cell_type": "code",
   "execution_count": 6,
   "metadata": {},
   "outputs": [
    {
     "data": {
      "text/plain": [
       "10.0"
      ]
     },
     "execution_count": 6,
     "metadata": {},
     "output_type": "execute_result"
    }
   ],
   "source": [
    "math.sqrt(100)"
   ]
  },
  {
   "cell_type": "markdown",
   "metadata": {},
   "source": [
    "You might wonder why the result displayed as `10.0` and not simply as `10`; in Module 2 we will see that these are two different *types* of numbers in the Python language. The former is called a floating-point number, indicating the presence of its decimal point, whereas the latter is an integer. The `math.sqrt` function is defined such that it always returns its results as floating-point numbers.\n",
    "\n",
    "In the case that we want to make frequent use of a certain function from the math module, it'd be nice to avoid having to type out the math module prefix, `math.`, repeatedly. We can accomplish this by importing an individual function from the math module. Let's import the factorial function from the math module."
   ]
  },
  {
   "cell_type": "code",
   "execution_count": 7,
   "metadata": {},
   "outputs": [],
   "source": [
    "from math import factorial"
   ]
  },
  {
   "cell_type": "markdown",
   "metadata": {},
   "source": [
    "We can now make use of the `factorial` function in our code. Recall that 5-factorial is $5! = 5\\times 4\\times 3\\times 2\\times 1 = 120$  "
   ]
  },
  {
   "cell_type": "code",
   "execution_count": 8,
   "metadata": {},
   "outputs": [
    {
     "data": {
      "text/plain": [
       "120"
      ]
     },
     "execution_count": 8,
     "metadata": {},
     "output_type": "execute_result"
    }
   ],
   "source": [
    "factorial(5)"
   ]
  },
  {
   "cell_type": "markdown",
   "metadata": {},
   "source": [
    "## Messing with Strings\n",
    "In the context of code, written text is referred to as a string of characters, or string for short. Python is an excellent language for doing text-processing work as it provides many convenient, efficient functions for working with strings. \n",
    "\n",
    "To begin, we simply form a string by typing characters between quotation marks:"
   ]
  },
  {
   "cell_type": "code",
   "execution_count": 9,
   "metadata": {},
   "outputs": [
    {
     "data": {
      "text/plain": [
       "'the cat in the hat'"
      ]
     },
     "execution_count": 9,
     "metadata": {},
     "output_type": "execute_result"
    }
   ],
   "source": [
    "\"the cat in the hat\""
   ]
  },
  {
   "cell_type": "markdown",
   "metadata": {},
   "source": [
    "Single quotes also work:"
   ]
  },
  {
   "cell_type": "code",
   "execution_count": 10,
   "metadata": {},
   "outputs": [
    {
     "data": {
      "text/plain": [
       "'the dog in the sash'"
      ]
     },
     "execution_count": 10,
     "metadata": {},
     "output_type": "execute_result"
    }
   ],
   "source": [
    "'the dog in the sash'"
   ]
  },
  {
   "cell_type": "markdown",
   "metadata": {},
   "source": [
    "If you use single quotes to form a string, then that string is able to contain the double-quote as character (and vice versa):"
   ]
  },
  {
   "cell_type": "code",
   "execution_count": 11,
   "metadata": {},
   "outputs": [
    {
     "data": {
      "text/plain": [
       "'He picked up the phone, \"Hello? What do you want?\" Bob was a rather impolite dude.'"
      ]
     },
     "execution_count": 11,
     "metadata": {},
     "output_type": "execute_result"
    }
   ],
   "source": [
    "'He picked up the phone, \"Hello? What do you want?\" Bob was a rather impolite dude.'"
   ]
  },
  {
   "cell_type": "markdown",
   "metadata": {},
   "source": [
    "There are designated special characters that allow us to affect the way a string is formatted when it is printed to the string. For example, if `\\n` ever occurs in a string, it is treated as a single character that indicates a line-break. This will only manifest if such a string is fed to the built-in `print` function, which informs the computer to print text to a user's screen.\n",
    "\n",
    "Let's write a string containing three separate lines of text, when printed to the screen."
   ]
  },
  {
   "cell_type": "code",
   "execution_count": 12,
   "metadata": {},
   "outputs": [
    {
     "name": "stdout",
     "output_type": "stream",
     "text": [
      "I like to talk to dogs.\n",
      "I like to talk to cats.\n",
      "What's my deal?\n"
     ]
    }
   ],
   "source": [
    "print(\"I like to talk to dogs.\\nI like to talk to cats.\\nWhat's my deal?\")"
   ]
  },
  {
   "cell_type": "markdown",
   "metadata": {},
   "source": [
    "Of course, strings are useful beyond merely containing text! Let's explore some ways to manipulate strings. First, we'll write a string and assign a variable named `sentence` to it:"
   ]
  },
  {
   "cell_type": "code",
   "execution_count": 13,
   "metadata": {},
   "outputs": [],
   "source": [
    "sentence = \"Who would have thought that we were robots all along?\""
   ]
  },
  {
   "cell_type": "markdown",
   "metadata": {},
   "source": [
    "Let's see how many characters are in this string by checking the \"length\" of this sequence of characters:"
   ]
  },
  {
   "cell_type": "code",
   "execution_count": 14,
   "metadata": {},
   "outputs": [
    {
     "data": {
      "text/plain": [
       "53"
      ]
     },
     "execution_count": 14,
     "metadata": {},
     "output_type": "execute_result"
    }
   ],
   "source": [
    "len(sentence)"
   ]
  },
  {
   "cell_type": "markdown",
   "metadata": {},
   "source": [
    "We can access the first 4 chatacters in the string, the last 6 characters, or a few in the middle by \"slicing\" the string:"
   ]
  },
  {
   "cell_type": "code",
   "execution_count": 18,
   "metadata": {},
   "outputs": [
    {
     "data": {
      "text/plain": [
       "'Who '"
      ]
     },
     "execution_count": 18,
     "metadata": {},
     "output_type": "execute_result"
    }
   ],
   "source": [
    "sentence[:4]"
   ]
  },
  {
   "cell_type": "code",
   "execution_count": 19,
   "metadata": {},
   "outputs": [
    {
     "data": {
      "text/plain": [
       "'along?'"
      ]
     },
     "execution_count": 19,
     "metadata": {},
     "output_type": "execute_result"
    }
   ],
   "source": [
    "sentence[-6:]"
   ]
  },
  {
   "cell_type": "code",
   "execution_count": 24,
   "metadata": {},
   "outputs": [
    {
     "data": {
      "text/plain": [
       "'ould have thought'"
      ]
     },
     "execution_count": 24,
     "metadata": {},
     "output_type": "execute_result"
    }
   ],
   "source": [
    "sentence[5:22]"
   ]
  },
  {
   "cell_type": "markdown",
   "metadata": {},
   "source": [
    "We can also check to see if some other string is contained within our string. Is the string `\"robot\"` contained within `sentence`?"
   ]
  },
  {
   "cell_type": "code",
   "execution_count": 15,
   "metadata": {},
   "outputs": [
    {
     "data": {
      "text/plain": [
       "True"
      ]
     },
     "execution_count": 15,
     "metadata": {},
     "output_type": "execute_result"
    }
   ],
   "source": [
    "\"robot\" in sentence"
   ]
  },
  {
   "cell_type": "markdown",
   "metadata": {},
   "source": [
    "As a quick way to check out the built-in functions that strings have available to them, we can make use of IPython's autocompletion feature once again. Type `sentence.` (including the trailing period) and then hit `<TAB>`. A menu of functions should appear as so:"
   ]
  },
  {
   "cell_type": "markdown",
   "metadata": {},
   "source": [
    "![Built-in functions for a string](attachments/ipython_string.PNG)"
   ]
  },
  {
   "cell_type": "markdown",
   "metadata": {},
   "source": [
    "Let's use the count function to tally the number of lowercase w's in `sentence`"
   ]
  },
  {
   "cell_type": "code",
   "execution_count": 16,
   "metadata": {},
   "outputs": [
    {
     "data": {
      "text/plain": [
       "3"
      ]
     },
     "execution_count": 16,
     "metadata": {},
     "output_type": "execute_result"
    }
   ],
   "source": [
    "sentence.count('w')"
   ]
  },
  {
   "cell_type": "markdown",
   "metadata": {},
   "source": [
    "Let's see what the replace function does. IPython provides a great utility for looking up the documentation for a function by simply putting two question marks after the function name. For example:\n",
    "\n",
    "![Looking up documentation for a function](attachments/ipython_doc1.PNG)\n",
    "\n",
    "Putting our newfound understanding of the string's replace function, let's replace \"robot\" with \"computer\":"
   ]
  },
  {
   "cell_type": "code",
   "execution_count": 17,
   "metadata": {},
   "outputs": [
    {
     "data": {
      "text/plain": [
       "'Who would have thought that we were computers all along?'"
      ]
     },
     "execution_count": 17,
     "metadata": {},
     "output_type": "execute_result"
    }
   ],
   "source": [
    "sentence.replace(\"robot\", \"computer\")"
   ]
  },
  {
   "cell_type": "markdown",
   "metadata": {},
   "source": [
    "## Playing with Lists"
   ]
  },
  {
   "cell_type": "markdown",
   "metadata": {},
   "source": [
    "## Learning Objectives\n",
    "\n",
    "- Learn how to do basic calculator operations in Python.\n",
    "- Become familiar with strings and lists.\n",
    "\n",
    "## A Quick Guide to Formatting\n",
    "Here is a quick rundown of the formatting that will be used throughout this text.\n",
    "\n",
    "The following represents a block of Python code:\n",
    "```python\n",
    "# count to 10\n",
    "cnt = 0\n",
    "for i in range(10):\n",
    "    cnt += 1\n",
    "```\n",
    "\n",
    "The `>>>` symbol is used to distinguish Python code that is entered in a terminal (e.g. in the IPython console) from its output:\n",
    "```python\n",
    ">>> print(2 + 3)  # input python code\n",
    "5\n",
    "```\n",
    "\n",
    "## Writing Comments in Code\n",
    "The pound-sign, `#`, is used to indicate a comment in Python code. Any text\n",
    "to the right of a `#` wil be treated as a comment, and will not be interpreted as code:\n",
    "```python\n",
    ">>> 2 + 3  # + 4 + 5... this is all a comment, so it has no impact on the code!\n",
    "```\n",
    "\n",
    "## Required Reading\n",
    "Please read the following sections from the official Python tutorial:\n",
    "\n",
    "- [Numbers](https://docs.python.org/3/tutorial/introduction.html#using-python-as-a-calculator)\n",
    "- [Strings](https://docs.python.org/3/tutorial/introduction.html#strings)\n",
    "- [Lists](https://docs.python.org/3/tutorial/introduction.html#lists)\n",
    "- [First Steps Towards Programming](https://docs.python.org/3/tutorial/introduction.html#first-steps-towards-programming)"
   ]
  },
  {
   "cell_type": "markdown",
   "metadata": {},
   "source": [
    "## The IPython Console\n",
    "\n",
    "The IPython console (**Interactive** Python console) provides a much nicer shell than the vanilla one described in the preceding section. If you have installed Anaconda, then you can simply execute the command `ipython` in your terminal to begin an IPython console session (make sure that you have exited from the Python console you may have opened in the preceding section):\n",
    "\n",
    "![IPython console example](attachments/IPythonClip.PNG)\n",
    "\n",
    "IPython can perform autocompletion when you are typing known commands and names. Try typing `pri` and then hit the `<TAB>` key. `pri` should autocomplete to `print`. This autocompletion works with any defined Python variables or function names, including ones that you have defined yourself. Writing code is greatly expedited by autocompletion. This is also useful when you can't remember the exact name of a variable hitting `<TAB>` will bring up a list of possible variable names, given what you have typed.\n",
    "\n",
    "Notice, also, that `print` appears in a colored font - this is because it is a built-in function in Python. IPython color-codes text to disambiguate built-in function names, strings of characters, numbers, and other common objects that will appear in your code. This greatly enhances the readability of code. \n",
    "\n",
    "If you type `print(\"Hello World\")`, you will also notice that the parentheses are highlighted when your cursor is on one of them - IPython will highlight pairs of parentheses (and other types of brackets and quotation marks) so that you can easily see if you have a mismatch.\n",
    "\n",
    "Exit the IPython shell by executing the command `exit()`.\n",
    "\n",
    "The IPython console is superior to the \"vanilla\" console that comes with Python in nearly every way. We have only scratched the surface of its capabilities. Read about IPython's other capabilities [here](http://ipython.readthedocs.io/en/stable/interactive/tutorial.html).\n",
    "\n",
    "The IPython shell is a great tool for quickly prototyping and testing small chunks of Python code. Jupyter Notebook is an even more powerful tool for quickly writing and running Python code."
   ]
  },
  {
   "cell_type": "markdown",
   "metadata": {},
   "source": [
    "<div class=\"alert alert-warning\">\n",
    "\n",
    "**Note**:\n",
    "\n",
    "There are reading-comprehension exercises included throughout the text. These are meant to help you put your reading to practice. Solutions for the exercises are included at the bottom of this page.\n",
    "</div>"
   ]
  }
 ],
 "metadata": {
  "anaconda-cloud": {},
  "kernelspec": {
   "display_name": "Python 3",
   "language": "python",
   "name": "python3"
  },
  "language_info": {
   "codemirror_mode": {
    "name": "ipython",
    "version": 3
   },
   "file_extension": ".py",
   "mimetype": "text/x-python",
   "name": "python",
   "nbconvert_exporter": "python",
   "pygments_lexer": "ipython3",
   "version": "3.6.3"
  }
 },
 "nbformat": 4,
 "nbformat_minor": 2
}
