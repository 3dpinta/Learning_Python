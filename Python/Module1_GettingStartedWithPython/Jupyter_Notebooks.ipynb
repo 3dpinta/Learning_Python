{
 "cells": [
  {
   "cell_type": "markdown",
   "metadata": {},
   "source": [
    "# Jupyter Notebooks\n",
    "A Jupyter Notebook is similar to the IPython shell in that it provides an interface for running Python code. However, a \"notebook\" will actually open up in your web browser (e.g., Firefox, Chrome, or Safari--whichever is your default). Although it opens in your browser, **everything is happening locally on your machine**. You don't need to be connected to the internet to work on a Jupyter notebook!\n",
    "\n",
    "<div class=\"alert alert-info\">\n",
    "\n",
    "**Takeaway**:\n",
    "\n",
    "Although you will open Jupyter notebooks using an internet browser, everything is occuring locally on your machine (i.e. no internet connection is needed). \n",
    "</div>"
   ]
  },
  {
   "cell_type": "markdown",
   "metadata": {},
   "source": [
    "## Running a Notebook Server & Taking a Tour\n",
    "In your terminal, navigate to a directory (a.k.a folder) that you are okay creating files in. If you don't know how to do this, Google it!\n",
    "\n",
    "Once you are in the desired directory, type in your terminal: `jupyter notebook`\n",
    "You should see some text appear in your terminal:\n",
    "\n",
    "![Starting a jupyter notebook server on your machine](attachments/jupyter_login.PNG)\n",
    "\n",
    "This is a \"notebook server\" that is running on your machine - it basically handles all of the communication between your browser and your machine. A new window or tab should open in your web browser, which looks like a file explorer. You can use this to enter subdirectories and to open up any Jupyter notebooks that you have saved.\n",
    "\n",
    "In the top-right corner of this window, click on the dropdown menu labeled \"New\", and select the option `Python [conda root]`.\n",
    "\n",
    "A new tab will open in your browser, revealing a \"Jupyter notebook\" called `Untitled.ipynb` running a Python kernel. The commands that you run in this notebook are interpreted and executed by Python in the essentially same way that they would be in a script or in a console. \n"
   ]
  },
  {
   "cell_type": "markdown",
   "metadata": {},
   "source": [
    "## Notebook Cells \n",
    "Whereas a Python console only allows you to work on one line of code at a time, a notebook allows you to write code within \"cells\" and to execute these chunks of code cell-by-cell. In the first cell, write the lines of code:\n",
    "\n",
    "```python\n",
    "x = 3\n",
    "y = 4\n",
    "```\n",
    "then press `<SHIFT>+<RETURN>`. This will execute all of the code within the given cell (in this instance, assigning the variables `x` and `y` with the values 3 and 4, respectively) and then creates a new cell below. In the next cell type the code:\n",
    "\n",
    "```python\n",
    "x + y\n",
    "```\n",
    "and hit `<SHIFT>+<RETURN>` to execute this code. The number 7 will appear beneath the cell - this, of course, is the value that is returned when `3 + 4` is evaluated: \n",
    "\n",
    "![jupyter notebook example](attachments/jupyter_early.png)\n",
    "\n",
    "Notice that the notebook \"knows\" about its variables across its cells. This doesn't just work from top to bottom - you can define `z = 2` in the third cell, and then execute code that references `z` in the first cell. What really matters is the *order* in which the cells are executed. Notice that `In[1]` denotes that the top cell with the first input-cell executed in the notebook, and `In[2]` denotes the second cell that was executed. Formally, the cells within a given notebook share a common \"namespace\" of all the variable names that have been defined in the notebook. Separate notebooks are completely independent from one another. \n",
    "\n",
    "A major value of using a notebook is that you can rapidly edit these cells (say, change `x = 3` to  `x = 10`), and re-execute them to nimbly tinker with whatever code you are developing. Although simple, this is a hugely powerful environment for prototyping code. "
   ]
  },
  {
   "cell_type": "markdown",
   "metadata": {},
   "source": [
    "## Familiarizing Yourself with Jupyter notebooks\n",
    "\n",
    "While in a notebook, on the toolbar at the top of the notebook, click on *Help* and then *User Interface Tour*.\n",
    "\n",
    "- Work through the brief tour.\n",
    "\n",
    "- Next, click on Help and then Keyboard shortcuts.\n",
    "\n",
    "- Take some time to familiarize yourself with commands that allow you to: run code, insert cells above & below, and delete cells.\n",
    "\n",
    "<div class=\"alert alert-warning\">\n",
    "\n",
    "**Note**:\n",
    "\n",
    "You can \"reset the notebook's kernel\" in order to interrupt and \"reset\" your notebook: its written contents will still there, but it will be as if none of its code has been run and no variables are defined. Press `<ESC>-0-0` to bring up a prompt to reset the kernel. \n",
    "\n",
    "</div>"
   ]
  },
  {
   "cell_type": "markdown",
   "metadata": {},
   "source": [
    "## Notebooks for Visualizing Data and Sharing Information\n",
    "Jupyter notebooks can do much more than run Python code. They can be used to render HTML and Markdown (a lightweight markup language that allows you to write plain text with some stylized elements). You can embed images, videos, and audio in notebooks, and plots of data render nicely beneath cells. This functionality has made Jupyter notebooks wildly popular for use among data scientists, researchers, and other people who want to create, analyze, and share numerical results with one another.\n",
    "\n",
    "By default, every cell is in \"Code\" mode - it expects Python code, and will run any code within it. The cell can also be set to \"Markdown\" mode. Markdown is a lightweight markup language that allows you to write plain text with some stylized elements. If you ever want to write a substantial amount of documentation or explanation about your code, you can set a cell to Markdown mode and type in it as if it were a text editor. \"Running\" a markdown cell will render the text you wrote.\n",
    "\n",
    "<div class=\"alert alert-warning\">\n",
    "\n",
    "**Note**:\n",
    "\n",
    "If you ever find that your Python code isn't being formatted properly, and doesn't run at all when you execute the cell (you get no output, not even errors), there is a good chance that you have accidentally set the cell to 'Markdown' mode! Change it back to 'Code' mode by pressing `<ESC>-Y` when the cell is selected.\n",
    "</div>"
   ]
  },
  {
   "cell_type": "markdown",
   "metadata": {},
   "source": [
    "## Some Bells and Whistles\n",
    "Jupyter notebook provides nice, basic utilities for editing code:\n",
    "- Autocompletion: Hit `<TAB>` as you are typing in an existing function or variable name \n",
    "- Color-coding built-in functions, strings of characters, and numbers\n",
    "\n",
    "**Bringing up documentation for functions**\n",
    "\n",
    "- In a cell (set to Code mode), type `sum` and then press `<SHIFT>+<TAB>` when your text cursor is still on `sum`. \n",
    "- This will bring up the documentation for the built-in Python function sum. \n",
    "- `<SHIFT>-<TAB>-<TAB>` (holding SHIFT, tap TAB twice) will open an extended window to show the full documentation. \n",
    "- This works with any function that has a \"docstring\" defined for it - even ones that you write yourself. This is an excellent way to quickly look up the documentation for any function/object in Python.  Pressing ESC will close the window."
   ]
  }
 ],
 "metadata": {
  "kernelspec": {
   "display_name": "Python 3",
   "language": "python",
   "name": "python3"
  },
  "language_info": {
   "codemirror_mode": {
    "name": "ipython",
    "version": 3
   },
   "file_extension": ".py",
   "mimetype": "text/x-python",
   "name": "python",
   "nbconvert_exporter": "python",
   "pygments_lexer": "ipython3",
   "version": "3.6.3"
  }
 },
 "nbformat": 4,
 "nbformat_minor": 2
}
