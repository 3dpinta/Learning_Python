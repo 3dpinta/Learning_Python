{
 "cells": [
  {
   "cell_type": "markdown",
   "metadata": {},
   "source": [
    "# Import: Modules and Packages\n",
    "\n",
    "Our tour through the essentials of Python and NumPy required us to regularly make use of `import` statements. This allowed us to access the functions and objects that are provided by the standard library and by NumPy.\n",
    "\n",
    "```python\n",
    "# accessing `defaultdict` from the standard library's `collections` package\n",
    "from collections import defaultdict\n",
    "\n",
    "# import the entire numpy package, giving it the alias 'np'\n",
    "import numpy as np\n",
    "```\n",
    "\n",
    "Despite our regular use of the `import` statement, we have thus far swept its details under the rug. Here, we will finally pay our due diligence and discuss Python's import system, which entails understanding the way that code can be organized into modules and packages. Modules are individual `.py` files from which we can import functions and objects, and packages are collections of such modules. Detailing this packaging system will not only provide us with insight into the organization of the standard library and other collections of Python code, but it will permit us to create our own packages of code.\n",
    "\n",
    "To conclude this section, we will demonstrate the process of installing a Python package to your system; supposing that you have written your own Python package, installing it enables you to import it anywhere on your system. Finally, we will provide a brief overview of the two most popular venues for hosting Python packages to the world at large: the Python Package Index (PyPI) and Anaconda.org.\n",
    "\n",
    "The [official Python tutorial](https://docs.python.org/3/tutorial/modules.html) provides a nice overview of this material and dives into details that we will not concern ourselves with here. "
   ]
  },
  {
   "cell_type": "markdown",
   "metadata": {},
   "source": [
    "<div class=\"alert alert-warning\">\n",
    "\n",
    "**Auto-reload**: \n",
    "\n",
    "If you are following along with this section in a Jupyter notebook, which is recommended, include the following code at the top of you notebook:\n",
    "\n",
    "```python\n",
    "%load_ext autoreload\n",
    "%autoreload 2\n",
    "```\n",
    "\n",
    "Executing these \"magic commands\" will inform your notebook to actively reload all imported modules and packages as they are modified. If you do not execute these commands, your notebook will not \"see\" any changes that you have made to a module that has already been imported, unless you restart the kernel for that notebook. \n",
    "\n",
    "</div>"
   ]
  },
  {
   "cell_type": "markdown",
   "metadata": {},
   "source": [
    "## Modules\n",
    "\n",
    "A Python module refers to a single `.py` file that contains function definitions and variable-assignment statements. Importing a module will execute these statements, rendering the resulting objects available via the imported module. \n",
    "\n",
    "Let's create our own module and import it into an interactive Python session. Open a Jupyter notebook or IPython console in a known directory on your computer. Now, with an [IDE](http://www.pythonlikeyoumeanit.com/Module1_GettingStartedWithPython/Getting_Started_With_IDEs_and_Notebooks.html#Integrated-Development-Environments) or simple text editor (not software like Microsoft Word!) create text file named `my_module.py` in the same directory as you Python session. The contents of `my_module.py` should be:\n",
    "\n",
    "```python\n",
    "\"\"\"\n",
    "Our first Python module. This initial string is a module-level documentation string. \n",
    "It is not a necessary component of the module. It is a useful way to describe the\n",
    "purpose of your module.\n",
    "\"\"\"\n",
    "\n",
    "print(\"I am being executed!\")\n",
    "\n",
    "some_list = [\"a\", 1, None]\n",
    "\n",
    "def square(x):\n",
    "    return x ** 2\n",
    "\n",
    "def cube(x):\n",
    "    return x ** 3\n",
    "```\n",
    "\n",
    "Returning to our interactive Python session we can import this module into our session. Python is able to \"find\" this module because it is in the present directory - more on this later. Importing `my_module.py` will execute all of its code in order from top to bottom, and will produce a Python object named `my_module`; this is an instance of the built-in `module` type. Note that we do not include the `.py` suffix in our import statement.\n",
    "\n",
    "```python\n",
    "# importing my_module in our interactive session\n",
    ">>> import my_module\n",
    "I am being executed!\n",
    "\n",
    "# produced is a object that is an instance of the module-type\n",
    ">>> my_module\n",
    "<module 'my_module' from 'usr/my_dir/my_module.py'>\n",
    "\n",
    ">>> type(my_module)\n",
    "module\n",
    "```"
   ]
  },
  {
   "cell_type": "markdown",
   "metadata": {},
   "source": [
    "As expected, importing our module causes our `print` statement to be executed, which explains why `'I am being executed!'` is printed to the console. Next, the objects `some_list`, `square`, and `cube` are defined as the remaining code is executed. *These are made available as attributes of our module object*. \n",
    "\n",
    "```python\n",
    "# all of the variables assigned in the module are made\n",
    "# available as attributes of the module object\n",
    ">>> my_module.some_list\n",
    "['a', 1, None]\n",
    "\n",
    ">>> my_module.square\n",
    "<function my_module.square(x)>\n",
    "\n",
    ">>> my_module.square(2)\n",
    "4\n",
    "\n",
    ">>> my_module.cube(2)\n",
    "8\n",
    "```"
   ]
  },
  {
   "cell_type": "markdown",
   "metadata": {},
   "source": [
    "It is critical to understand that this is the means by which the contents of a module is made available to the environment in which it was imported. In this vein, a good way to get to know the contents of a module is to make use of the [auto-completion](http://www.pythonlikeyoumeanit.com/Module1_GettingStartedWithPython/Informal_Intro_Python.html#Dabbling-with-Numbers) feature provided by IDEs and interactive consoles to list all of the attributes of a module object. The built-in `help` function can also be used to summarize a module's contents:  \n",
    "\n",
    "```python\n",
    ">>> help(my_module)\n",
    "Help on module my_module:\n",
    "\n",
    "NAME\n",
    "    my_module\n",
    "\n",
    "DESCRIPTION\n",
    "    Our first Python module. This initial string is a module-level documentation string. \n",
    "    It is not a necessary component of the module.\n",
    "\n",
    "FUNCTIONS\n",
    "    cube(x)\n",
    "    \n",
    "    square(x)\n",
    "\n",
    "DATA\n",
    "    some_list = ['a', 1, None]\n",
    "\n",
    "FILE\n",
    "    c:\\users\\ryan soklaski\\desktop\\learning_python\\python\\module5_oddsandends\\my_module.py\n",
    "```"
   ]
  },
  {
   "cell_type": "markdown",
   "metadata": {},
   "source": [
    "<div class=\"alert alert-info\">\n",
    "\n",
    "**Takeaway**: \n",
    "\n",
    "A module is simply a text file named with a .py suffix, whose contents consist of Python code. A module can be imported into an interactive console environment (e.g. a Jupyter notebook) or into another module. Importing a module executes that module's code and produces a module-type object instance. Any variables that were assigned during the import are bound as attributes to that object.\n",
    "\n",
    "</div>"
   ]
  },
  {
   "cell_type": "markdown",
   "metadata": {},
   "source": [
    "<div class=\"alert alert-info\">\n",
    "\n",
    "**Reading Comprehension: Creating a simple module**\n",
    "\n",
    "Create a simple math module named `basic_math.py`. It should make available the irrational numbers $\\pi$ and $e$, and the function `deg_to_rad`, which converts an angle from degrees to radians.\n",
    "\n",
    "Next, import this module and compute $e^{i\\pi}$ and compute 45 degrees in radians.\n",
    "</div>"
   ]
  },
  {
   "cell_type": "markdown",
   "metadata": {},
   "source": [
    "## Import Statements\n",
    "\n",
    "Python provides a flexible framework for importing modules and specific members of a module. We have already seen in our work with NumPy that we can specify an *alias* in our import statement; this can be especially convenient for import modules with long names:\n",
    "\n",
    "```python\n",
    "# the module object for numpy is returned with the variable name `np`\n",
    ">>> import numpy as np\n",
    ">>> np.array([2., 3.])\n",
    "array([2., 3.])\n",
    "```\n",
    "\n",
    "In general we can perform an alias for an import via: `import <module_name> as <alias_name>`.\n",
    "\n",
    "Next, the pattern `from <module_name> import <thing1>, <thing2>, ...` permits us to import specific objects from the module instead of the importing the entire module as a whole. Let's import `square` and `some_list` from basic_module.py:\n",
    "\n",
    "```python\n",
    ">>> from my_module import square, some_list\n",
    "I am being executed!\n",
    "\n",
    ">>> some_list\n",
    "['a', 1, None]\n",
    "\n",
    ">>> square(2)\n",
    "4\n",
    "```\n",
    "Note that the module is still being executed in full, however instead of producing the module-instance `my_module`, it instead only yields the specified objects that were defined in the module.\n",
    "\n",
    "We can also make use of aliasing for this style of import:\n",
    "\n",
    "```python\n",
    ">>> from my_module import cube as my_cube\n",
    ">>> my_cube(2)\n",
    "8\n",
    "```"
   ]
  },
  {
   "cell_type": "markdown",
   "metadata": {},
   "source": [
    "## Packages\n",
    "\n",
    "A Python package is a directory containing a file with the name `__init__py`, along with other Python modules and subpackages (subdirectories, each with its own `__init__.py` file and associated modules)."
   ]
  },
  {
   "cell_type": "markdown",
   "metadata": {},
   "source": [
    "## Reading Comprehension Exercise Solutions:"
   ]
  },
  {
   "cell_type": "markdown",
   "metadata": {},
   "source": [
    "**Creating a simple module: Solution**\n",
    "\n",
    "Create a simple math module named `basic_math.py`. It should make available the irrational numbers $\\pi$ and $e$, and the function `deg_to_rad`, which converts an angle from degrees to radians.\n",
    "\n",
    "The contents of `basic_math.py` should be:\n",
    "\n",
    "```python\n",
    "\"\"\"Basic math constants and functions\"\"\"\n",
    "pi = 3.141592653589793\n",
    "e = 2.718281828459045\n",
    "\n",
    "def deg_to_rad(angle):\n",
    "    return (pi / 180) * angle\n",
    "```\n",
    "\n",
    "```python\n",
    ">>> import basic_math\n",
    "\n",
    "# Euler's formula: e**(i * pi) = -1\n",
    ">>> basic_math.e ** (basic_math.pi * complex(0,1))\n",
    "(-1+1.2246467991473532e-16j)\n",
    "\n",
    ">>> basic_math.deg_to_rad(45)\n",
    "0.7853981633974483\n",
    "```"
   ]
  }
 ],
 "metadata": {
  "kernelspec": {
   "display_name": "Python 3",
   "language": "python",
   "name": "python3"
  },
  "language_info": {
   "codemirror_mode": {
    "name": "ipython",
    "version": 3
   },
   "file_extension": ".py",
   "mimetype": "text/x-python",
   "name": "python",
   "nbconvert_exporter": "python",
   "pygments_lexer": "ipython3",
   "version": "3.6.5"
  }
 },
 "nbformat": 4,
 "nbformat_minor": 2
}
