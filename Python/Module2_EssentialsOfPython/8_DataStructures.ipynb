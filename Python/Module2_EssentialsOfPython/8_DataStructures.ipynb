{
 "cells": [
  {
   "cell_type": "markdown",
   "metadata": {},
   "source": [
    "# Section 8: Data Structures\n",
    "Here we survey Python's built-in data structures. You should already be familiar with the lists and tuples, two data structures that faciliatate working with sequential data. Two other critical, built-in data structures to be introduced are:\n",
    "- dictionary: a mapping from \"keys\" to \"values\"\n",
    "- sets: an unordered collection of items that can be used to perform set-algerbra operations (e.g. union and intersection) \n",
    "\n",
    "These data structures are not merely convenient constructs with some nice pre-written functionality; they also provide an interface to some optimized core-utilities that have been written in C (or whatever language your Python interpreter is written in). For example, let's write a function that checks if an item is contained within an iterable:\n",
    "\n",
    "```python\n",
    "def is_in(seq, target):\n",
    "    \"\"\" Returns True if `target` is contained in `seq`.\"\"\"\n",
    "    for item in seq:\n",
    "        if item == target:\n",
    "            return True\n",
    "    return False\n",
    "```\n",
    "\n",
    "This function mirrors the C-algorithm that Python uses for checking for membership in a list (assuming you are using the CPython interpreter, which you almost definitely are). Now let's time our membership function, and compare it to the one implemented for Python's built-in sequences:\n",
    "```python\n",
    ">>> x = [1, \"moo\", 3, True, 5, None, 7, 8]\n",
    "\n",
    ">>> is_in(x, -1)  # takes 980 nanoseconds on my machine\n",
    "False\n",
    "\n",
    ">>> -1 in x       # takes 320 nanoseconds on my machine\n",
    "False\n",
    "```\n",
    "Here, Python's built-in sequence-membership function is 3x faster than using our own function. Furthermore, it will be important to know the advantages provided by each of the data structures. For instance, testing for membership in a set is even faster than is checking for membership in a list:\n",
    "\n",
    "```python\n",
    "# test for membership in a list\n",
    ">>> -1 in [1, \"moo\", 3, True, 5, None, 7, 8]  # takes 295 nanoseconds on my machine\n",
    "\n",
    "# test for membership in a set\n",
    ">>> -1 in {1, \"moo\", 3, True, 5, None, 7, 8}  # takes 65 nanoseconds on my machine\n",
    "```\n",
    "We get a 4.5x speedup in our membership test just by using a set instead of a list. On our end, we merely replaced square brackets with curly braces!\n",
    "\n",
    "<div class=\"alert alert-block alert-success\"> \n",
    "**Takeaway**: Python's built-in data structures provide a wide variety of nice functionality. Furthermore, understanding where each data structure \"shines\" is critical for writing efficient Python code. \n",
    "</div>"
   ]
  },
  {
   "cell_type": "markdown",
   "metadata": {},
   "source": [
    "## A Brief Aside: Describing Algorithm Complexity\n",
    "In order to meaningfully compare the relative efficiency of algorithms, it is useful to summarize how algorithms \"scale\" with problem size. Two sorting algorithms may be comparable when sorting tens of items, and yet they may have wildly different performances when sorting thousands of items. \n",
    "\n",
    "\"Big-O\" notation allows us to denote how an algorithm's run-time scales against problem size. Specifically, it signifies the \"worst-case scenario\" performance of an algorithm. Let's take, for instance, the `is_in` function that we wrote at the beginning of this section. In it, we iterate over a collection to check if it contains a specific item. The worst-case scenario for this algorithm is when the item is not a member of the collection at all - we have to iterate over the entire collection before we can conclude that it does not possess our item. So if we increase the collection to be $n$ times as large, it should take $n$ times as long to iterate over it to determine that the item is not a member of the collection (again, dealing with the worst-case scenario). **Because the worst-case scenario run-time of `is_in` scales linearly with the size of the collection, $n$, we denote it's run-time complexity as $\\mathcal{O}(n)$**.\n",
    "\n",
    "Now suppose we did a truly terrible job writing a membership algorithm, and performed a nested iteration over our collection:\n",
    "\n",
    "```python\n",
    "def is_in_slow(seq, target):\n",
    "    \"\"\" Returns True if `target` is contained in `seq`.\"\"\"\n",
    "    for item in seq:\n",
    "        # for each item in seq, iterate over seq in its entirety!\n",
    "        for item2 in seq:\n",
    "            if item == target:\n",
    "                return True\n",
    "    return False\n",
    "```\n",
    "\n",
    "For each item in `seq` we iterate over `seq` again, thus in the worst-case scenario we need to iterate over $n$ items, $n$ separate times - a total of $n^{2}$ \"steps\" in our algorithm. Thus we would say that `is_in_slow` is a $\\mathcal{O}(n^{2})$ algorithm. Whereas doubling size of `seq` would increase the run time of our $\\mathcal{O}(n)$ algorithm by a factor of 2 (linear scaling), it would increase the run time of this $\\mathcal{O}(n^{2})$ algorithm by 4 (quadratic scaling).\n",
    "\n",
    "Here is a more-formal description of this notation:\n",
    "<div class=\"alert alert-block alert-info\"> \n",
    "**\"Big-O\" Notation**: Suppose that $n$ denotes the \"size\" of the input to an algorithm, and that the mathematical expression $f(n)$ describes the proportion of how many computational steps the algorithm must take in its *worst-case scenario*, given that input. Then the algorithm's run-time complexity can be denoted using the **\"Big-O\"** notation: $\\mathcal{O}(f(n))$.\n",
    "</div>\n",
    "\n",
    "A few important notes:\n",
    "- We only care about the highest-order term in $f(n)$. That is, $\\mathcal{O}(n + n^{2})$ should just be written as $\\mathcal{O}(n^{2})$.\n",
    "- We never care about constant factors in our scaling. That is, even if an algorithm iterates over a sequence twice, its big-O complexity should be written as $\\mathcal{O}(n)$, rather than $\\mathcal{O}(2n)$.\n",
    "- An algorithm whose run-time *does not depend on the size of its input* is a $\\mathcal{O}(1)$ algorithm. \n",
    "  - Example: a function that returns the second element from a list.\n",
    "\n",
    "\n",
    "<div class=\"alert alert-block alert-success\"> \n",
    "**Takeaway**: We will be using the \"big-O\" notation, $\\mathcal{O}(f(n))$, to summarize the performance of the algorithms used by Python's data structures. \n",
    "</div>"
   ]
  },
  {
   "cell_type": "code",
   "execution_count": 43,
   "metadata": {},
   "outputs": [
    {
     "data": {
      "text/plain": [
       "4.538461538461538"
      ]
     },
     "execution_count": 43,
     "metadata": {},
     "output_type": "execute_result"
    }
   ],
   "source": [
    "295/65"
   ]
  },
  {
   "cell_type": "code",
   "execution_count": 39,
   "metadata": {},
   "outputs": [],
   "source": [
    "x = [1, \"moo\", 3, True, 5, None, 7, 8]"
   ]
  },
  {
   "cell_type": "code",
   "execution_count": 41,
   "metadata": {},
   "outputs": [
    {
     "name": "stdout",
     "output_type": "stream",
     "text": [
      "327 ns ± 2.63 ns per loop (mean ± std. dev. of 7 runs, 1000000 loops each)\n"
     ]
    }
   ],
   "source": [
    "%%timeit\n",
    "-1 in x"
   ]
  },
  {
   "cell_type": "code",
   "execution_count": 37,
   "metadata": {},
   "outputs": [
    {
     "name": "stdout",
     "output_type": "stream",
     "text": [
      "296 ns ± 9.28 ns per loop (mean ± std. dev. of 7 runs, 1000000 loops each)\n"
     ]
    }
   ],
   "source": [
    "%%timeit\n",
    "-1 in [1, \"moo\", 3, True, 5, None, 7, 8]"
   ]
  },
  {
   "cell_type": "code",
   "execution_count": 42,
   "metadata": {},
   "outputs": [
    {
     "name": "stdout",
     "output_type": "stream",
     "text": [
      "67.2 ns ± 1.21 ns per loop (mean ± std. dev. of 7 runs, 10000000 loops each)\n"
     ]
    }
   ],
   "source": [
    "%%timeit\n",
    "-1 in {1, \"moo\", 3, True, 5, None, 7, 8}"
   ]
  },
  {
   "cell_type": "code",
   "execution_count": 38,
   "metadata": {},
   "outputs": [
    {
     "name": "stdout",
     "output_type": "stream",
     "text": [
      "67 ns ± 0.893 ns per loop (mean ± std. dev. of 7 runs, 10000000 loops each)\n"
     ]
    }
   ],
   "source": [
    "%%timeit\n",
    "-1 in {1, \"moo\", 3, True, 5, None, 7, 8}"
   ]
  },
  {
   "cell_type": "code",
   "execution_count": 35,
   "metadata": {},
   "outputs": [
    {
     "name": "stdout",
     "output_type": "stream",
     "text": [
      "937 ns ± 11.8 ns per loop (mean ± std. dev. of 7 runs, 1000000 loops each)\n"
     ]
    }
   ],
   "source": [
    "%%timeit\n",
    "is_in(x, -1)"
   ]
  },
  {
   "cell_type": "code",
   "execution_count": 36,
   "metadata": {},
   "outputs": [
    {
     "name": "stdout",
     "output_type": "stream",
     "text": [
      "394 ns ± 7.2 ns per loop (mean ± std. dev. of 7 runs, 1000000 loops each)\n"
     ]
    }
   ],
   "source": [
    "%%timeit\n",
    "50 in x"
   ]
  },
  {
   "cell_type": "code",
   "execution_count": 33,
   "metadata": {},
   "outputs": [
    {
     "data": {
      "text/plain": [
       "1.6618705035971224"
      ]
     },
     "execution_count": 33,
     "metadata": {},
     "output_type": "execute_result"
    }
   ],
   "source": [
    "924 / 556"
   ]
  },
  {
   "cell_type": "code",
   "execution_count": 32,
   "metadata": {},
   "outputs": [
    {
     "name": "stdout",
     "output_type": "stream",
     "text": [
      "556 µs ± 11.9 µs per loop (mean ± std. dev. of 7 runs, 1000 loops each)\n"
     ]
    }
   ],
   "source": [
    "%%timeit\n",
    "-1 in list(range(10000))"
   ]
  },
  {
   "cell_type": "code",
   "execution_count": 21,
   "metadata": {},
   "outputs": [
    {
     "name": "stdout",
     "output_type": "stream",
     "text": [
      "356 ns ± 1.81 ns per loop (mean ± std. dev. of 7 runs, 1000000 loops each)\n"
     ]
    }
   ],
   "source": [
    "%%timeit\n",
    "50 in x"
   ]
  },
  {
   "cell_type": "code",
   "execution_count": 9,
   "metadata": {},
   "outputs": [
    {
     "name": "stdout",
     "output_type": "stream",
     "text": [
      "646 ns ± 7.86 ns per loop (mean ± std. dev. of 7 runs, 1000000 loops each)\n"
     ]
    }
   ],
   "source": [
    "%%timeit\n",
    "50 in range(100)"
   ]
  },
  {
   "cell_type": "code",
   "execution_count": 10,
   "metadata": {},
   "outputs": [
    {
     "data": {
      "text/plain": [
       "6.671826625386997"
      ]
     },
     "execution_count": 10,
     "metadata": {},
     "output_type": "execute_result"
    }
   ],
   "source": [
    "4310/646"
   ]
  },
  {
   "cell_type": "code",
   "execution_count": 4,
   "metadata": {},
   "outputs": [],
   "source": [
    "def is_in(seq, target):\n",
    "    \"\"\" Returns True if `target` is contained in `seq`.\"\"\"\n",
    "    for item in seq:\n",
    "        if item == target:\n",
    "            return True\n",
    "    return False\n",
    "    "
   ]
  },
  {
   "cell_type": "code",
   "execution_count": 17,
   "metadata": {},
   "outputs": [
    {
     "name": "stdout",
     "output_type": "stream",
     "text": [
      "5.36 µs ± 71 ns per loop (mean ± std. dev. of 7 runs, 100000 loops each)\n"
     ]
    }
   ],
   "source": [
    "%%timeit\n",
    "50 in set(range(100))"
   ]
  },
  {
   "cell_type": "code",
   "execution_count": 20,
   "metadata": {},
   "outputs": [
    {
     "name": "stdout",
     "output_type": "stream",
     "text": [
      "888 ns ± 20.5 ns per loop (mean ± std. dev. of 7 runs, 1000000 loops each)\n"
     ]
    }
   ],
   "source": [
    "%%timeit\n",
    "is_in(x, 50)"
   ]
  },
  {
   "cell_type": "code",
   "execution_count": 7,
   "metadata": {},
   "outputs": [
    {
     "data": {
      "text/plain": [
       "False"
      ]
     },
     "execution_count": 7,
     "metadata": {},
     "output_type": "execute_result"
    }
   ],
   "source": [
    "is_in([], 6)"
   ]
  },
  {
   "cell_type": "code",
   "execution_count": 11,
   "metadata": {},
   "outputs": [],
   "source": [
    "from collections import ChainMap"
   ]
  },
  {
   "cell_type": "code",
   "execution_count": 12,
   "metadata": {},
   "outputs": [],
   "source": [
    "d1 = dict(a=1, b=2)\n",
    "d2 = dict(c=3, d=4)"
   ]
  },
  {
   "cell_type": "code",
   "execution_count": 13,
   "metadata": {},
   "outputs": [],
   "source": [
    "m = ChainMap(d1, d2)"
   ]
  },
  {
   "cell_type": "code",
   "execution_count": 16,
   "metadata": {},
   "outputs": [
    {
     "data": {
      "text/plain": [
       "ChainMap({'a': 1, 'b': 2}, {'c': 3, 'd': 4})"
      ]
     },
     "execution_count": 16,
     "metadata": {},
     "output_type": "execute_result"
    }
   ],
   "source": [
    "m"
   ]
  },
  {
   "cell_type": "code",
   "execution_count": 15,
   "metadata": {},
   "outputs": [
    {
     "data": {
      "text/plain": [
       "4"
      ]
     },
     "execution_count": 15,
     "metadata": {},
     "output_type": "execute_result"
    }
   ],
   "source": [
    "m[\"d\"]"
   ]
  },
  {
   "cell_type": "code",
   "execution_count": 14,
   "metadata": {},
   "outputs": [
    {
     "data": {
      "text/plain": [
       "1"
      ]
     },
     "execution_count": 14,
     "metadata": {},
     "output_type": "execute_result"
    }
   ],
   "source": [
    "m[\"a\"]"
   ]
  }
 ],
 "metadata": {
  "kernelspec": {
   "display_name": "Python 3",
   "language": "python",
   "name": "python3"
  },
  "language_info": {
   "codemirror_mode": {
    "name": "ipython",
    "version": 3
   },
   "file_extension": ".py",
   "mimetype": "text/x-python",
   "name": "python",
   "nbconvert_exporter": "python",
   "pygments_lexer": "ipython3",
   "version": "3.6.3"
  }
 },
 "nbformat": 4,
 "nbformat_minor": 2
}
