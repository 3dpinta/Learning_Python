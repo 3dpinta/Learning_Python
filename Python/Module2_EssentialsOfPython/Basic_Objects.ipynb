{
 "cells": [
  {
   "cell_type": "markdown",
   "metadata": {},
   "source": [
    "# Basic Python Object Types\n",
    "You will see the term \"object\" be used frequently throughout this text. In Python, \"object\" is quite the catch-all term; including numbers, strings, lists, functions - a Python object is essentially anything that you assign a variable to. The different types of objects naturally have different uses and different built-in functions available to them. Here, we will review some of the most common object types that are built-in to Python. In a later module, you will learn \"object-oriented\" programming, which will allow you to create your own custom objects!\n",
    "\n",
    "The built-in function `isinstance` will allow us to check if an object is of a given type. For example, this code checks if an object is an integer:\n",
    "\n",
    "```python\n",
    ">>> x = 1  # assign the variable `x` to the integer-object 1\n",
    "\n",
    "# checking that `x` is an integer\n",
    ">>> isinstance(x, int)\n",
    "True\n",
    "```"
   ]
  },
  {
   "cell_type": "markdown",
   "metadata": {},
   "source": [
    "## Numbers\n",
    "Python has three basic types of numbers: integers, \"floating-point\" numbers, and complex numbers. Familiar mathematical symbols can be used to perform arithmetic on all of these numbers (comparison operartors like \"greater than\" are not defined for complex numbers):\n",
    "\n",
    "| Operation  | Description |\n",
    "| ------------- |:-------------:|\n",
    "| `x + y` | Addition of two numbers |   \n",
    "| `x - y` | Difference of two numbers |   \n",
    "| `x * y` | Product of two numbers |   \n",
    "| `x / y` | Quotient of two numbers |   \n",
    "| `x // y` | Quotient of two numbers, returned as an integer | \n",
    "| `x % y` | The remainder of `x / y` |\n",
    "| `x ** y` | `x` raised to the power `y` |\n",
    "| `-x` | A negated number |\n",
    "| `abs(x)` | The absolute value of a number |\n",
    "| `x == y` | Check if two numbers have the same value |\n",
    "| `x > y` | Check if `x` is greater than `y` |\n",
    "| `x >= y` | Check if `x` is greater than or equal to `y` |\n",
    "| `x < y` | Check if `x` is less than `y` |\n",
    "| `x <= y` | Check if `x` is less than or equal to `y` |\n",
    "\n",
    "These operations obey the familiar order of operations from your mathematics class, with parentheses available for association:\n",
    "\n",
    "```python\n",
    "# multiplication takes precendence over addition\n",
    ">>> 1 + 2 * 3\n",
    "7\n",
    "\n",
    "# grouping operations with parentheses\n",
    ">>> (1 + 2) * 3\n",
    "9\n",
    "```\n",
    "\n",
    "It should be noted that in many other programming lanaguages, including the out-dated Python 2, dividing two integers would always return an integer - even if mathematically the result should be a fraction. In Python 3, *the quotient of two integers will always return a floating-point number*:\n",
    "\n",
    "```python\n",
    "# In other languages, 3 / 2 returns the integer 1.\n",
    "# In Python 3, division always returns a floating-point number:\n",
    ">>> 3 / 2\n",
    "1.5\n",
    "```\n",
    "\n",
    "The `//` operator is known as the \"floor-divide\" operator: it performs division between two numbers and returns the result as an integer by discarding any decimal-places for that numer (thus returning the \"floor\" of that number. This can be used to perform the integer-division traditionally used in other programming languages:\n",
    "\n",
    "```python\n",
    "# floor-division\n",
    ">>> 1 // 3  # 0.3333.. -> 0\n",
    "0\n",
    ">>> 3 // 2  # 1.5 -> 1\n",
    "1\n",
    "```\n",
    "\n",
    "### Python's math module\n",
    "The built-in math module provides more numerical functions, like logarithms and trigonometric functions. A complete listing of them [can be found in the official Python documentation](https://docs.python.org/3/library/math.html#number-theoretic-and-representation-functions). This module must be imported into your code in order to use its functions:\n",
    "\n",
    "```python\n",
    "# using the `math` module to use \n",
    "# additonal mathematical functions\n",
    ">>> import math\n",
    ">>> math.sqrt(4.)\n",
    "2.0\n",
    "\n",
    ">>> math.log10(10.)\n",
    "1.0\n",
    "\n",
    ">>> math.factorial(4)\n",
    "24\n",
    "```"
   ]
  },
  {
   "cell_type": "markdown",
   "metadata": {},
   "source": [
    "### Integers\n",
    "As in traditional mathematics, an integer is any \"whole\" number: $\\dots, -3, -2, -1, 0, 1, 2, 3, \\dots$. \n",
    "\n",
    "The built-in `int` type can be used to convert other objects into integers:\n",
    "\n",
    "```python\n",
    "# converting objects to integers, using `int`\n",
    "# converting a string to an integer\n",
    ">>> int(\"10\")\n",
    "10\n",
    "\n",
    "# converting a floating-point number to an integer\n",
    ">>> int(1.3)\n",
    "1\n",
    "```\n",
    "\n",
    "`int` can also be used to verify that an object is an integer-type:\n",
    "```python\n",
    "# 1.3 is not an integer-type object\n",
    ">>> isinstance(1.3, int)\n",
    "False\n",
    "```\n",
    "\n",
    "You can create as large an integer as you'd like, Python will allocate as much memory as needed (and ultimately, as is available) to store an integer:\n",
    "\n",
    "```python\n",
    "# you can make an integer as large as you'd like\n",
    ">>> large_int = 281938481039848500192847576920\n",
    "```"
   ]
  },
  {
   "cell_type": "markdown",
   "metadata": {},
   "source": [
    "### Floating-Point Numbers\n",
    "A \"floating-point\" number is a number with a decimal point. Referred to as a \"float\" for short, this can be used to represent any number, fractional or whole, on the real number line (with a major caveat that will be explained shortly). \n",
    "\n",
    "```python\n",
    "# examples of \"floating-point\" numbers\n",
    ">>> 1.3\n",
    ">>> -3.1415926535\n",
    ">>> 10.  # note that this is different from the integer: 10\n",
    "```\n",
    "\n",
    "The built-in `float` type can be used to convert other objects to floats:\n",
    "\n",
    "```python\n",
    "# converting objects to floats, using `float`\n",
    "# converting a string to an floating-point number\n",
    ">>> float(\"10.456\")\n",
    "10.456\n",
    "\n",
    "# converting an integer to a floating-point number\n",
    ">>> float(-22)\n",
    "-22.0\n",
    "```\n",
    "\n",
    "`float` can also be used to verify that an object is a float-type:\n",
    "```python\n",
    "# the string \"moo\" is not a float-type object\n",
    ">>> isinstance(\"moo\", float)\n",
    "False\n",
    "```\n",
    "#### Scientific Notation\n",
    "The character `e` can be used to create floats making use of the common \"scientific-notation\" for representing numbers, where `e` stands for $\\times 10 $, and the proceeding number is the exponent. Here are some examples of traditional scientific notation, and their corresponding representation in Python:\n",
    "\n",
    "$1.38 \\times 10^{-4} \\rightarrow$ `1.38e-04`\n",
    "\n",
    "$-0.2 \\times 10^{10} \\rightarrow$ `-0.2e10`\n",
    "\n",
    "Python will automatically display a float, that possesses many digits, in scientific notation:\n",
    "```python\n",
    "# python will display many-digit numbers using \n",
    "# scientific notation\n",
    ">>> 0.0000001  # seven leading-zeros\n",
    "1e-07\n",
    "```\n",
    "\n",
    "#### Understanding Numerical Precision\n",
    "Whereas a Python integer can be made to be as large as you'd like, a floating-point number is *limited in the number of digits it can store*. That is, your computer will only use a set amount of memory, 8 bytes (32 bits), to store the value of a floating-point number. \n",
    "\n",
    "In effect, this means that a float can only be represented with a *numerical precision* of approximately 16 decimal places, when the number is written in scientific notation. The computer will not be able to reliably represent a number's digits beyond those accounted for by the allotted 8 bytes. Notice that the following Python integer can be defined with 23 digits, but as a float represented in scientific notation, it only retains 16 decimal places. The computer cannot keep track of those last 6 decimal places, because doing so would require more than 8 bytes of memory to store the entire value of that float. \n",
    "```python\n",
    "# Demonstrating the finite-precision of a float.\n",
    "# An integer with 23 digits.\n",
    ">>> 18181818181818181818181\n",
    "18181818181818181818181\n",
    "\n",
    "# Converted to a float, it retains only \n",
    "# 16 decimal places, when written in scientific\n",
    "# notation.\n",
    ">>> float(18181818181818181818181)\n",
    "1.8181818181818182e+22\n",
    "```\n",
    "\n",
    "\n",
    "Attempting to modify a number in decimal places beyond its numerical precision does not have any effect:\n",
    "\n",
    "```python\n",
    "# changing a float beyond its precision has no effect \n",
    ">>>  1. + 1e-16\n",
    "1.0\n",
    "```\n",
    "\n",
    "Even in light of the preceding discussion on float precision, you may be shocked and dismayed to see the following:\n",
    "\n",
    "```python\n",
    "# the finite-precision of floats \n",
    "# result in non-obvious behavior\n",
    ">>> 0.1 + 0.1 + 0.1 - 0.3 == 0.\n",
    "False\n",
    "\n",
    "# the effects of having finite numerical precision\n",
    ">>> 0.1 + 0.1 + 0.1 - 0.3\n",
    "5.551115123125783e-17\n",
    "```\n",
    "This is not a quirk of Python; this is a well-understood aspect of dealing with numbers of finite numerical precision. To accomodate this, to check if two floats are \"equal\", you should check if they are \"close enough in value\".\n",
    "Let me emphasize this:\n",
    "\n",
    "- **You should never check to see if two floats are exactly equal in value. Instead, you should only check that two floats are approximately equal to one another**. \n",
    "\n",
    "The `math` module has a very nice function for this; `math.isclose` will check if the relative difference between two numbers is less than $1 \\times 10^{-9}$. You can change this tolerance value, and the type of tolerance that is checked by the function; see its documentation [here](https://docs.python.org/3/library/math.html#math.isclose). Because in the previous example we comparing values that are close to 0, we see if their absolute difference is sufficiently small:\n",
    "\n",
    "```python\n",
    "# checking if two float values are \"almost equal\"\n",
    ">>> import math\n",
    ">>> math.isclose((0.1 + 0.1 + 0.1 - 0.3), 0., abs_tol=1e-9)\n",
    "True\n",
    "```\n",
    "If you do not heed this warning, it is very likely that you will end up with serious, hard-to-find bugs in your code. Lastly,\n",
    "when doing numerical work in Python (and any other programming language), you must understand that the finite numerical precision of floating-point numbers is a source of error, akin to error associated with imprecision with a measuring device, and should be accounted for in your analysis (if error analysis warranted at all).\n",
    "\n",
    "Python's [decimal module](https://docs.python.org/3.0/library/decimal.html) can be used if you need to define higher (or lower) precision numbers than permitted by the standard 8-byte floats. Furthermore, all arithmetic involving decimal numbers from this module is guaranteed to be *exact*, meaning that `0.1 + 0.1 + 0.1 - 0.3` would be exactly `0.`. It is very good to keep in mind that this module exists and that floating point numbers are not the only way around the number line in Python. \n",
    "\n",
    "### Infinity\n",
    "It can be useful to make use of an object that represents infinity, meaning that it is guaranteed to be larger than any other number. You can access \"infinity\" and \"negative infinity\", which is smaller than any other number, via `float`:\n",
    "```python\n",
    "# using `float` to retrive the inf-object\n",
    ">>> float(\"inf\")\n",
    "inf\n",
    "\n",
    "# inf is larger than any number\n",
    ">>> 10**34 < float(\"inf\")\n",
    "True\n",
    "\n",
    "# -inf is smaller than any number\n",
    ">>> -float(\"inf\")\n",
    "-inf\n",
    "\n",
    ">>> -float(\"inf\") < -10**34\n",
    "True\n",
    "```"
   ]
  },
  {
   "cell_type": "code",
   "execution_count": 4,
   "metadata": {},
   "outputs": [
    {
     "data": {
      "text/plain": [
       "True"
      ]
     },
     "execution_count": 4,
     "metadata": {},
     "output_type": "execute_result"
    }
   ],
   "source": [
    "-float(\"inf\") < -10**34"
   ]
  },
  {
   "cell_type": "code",
   "execution_count": 1,
   "metadata": {},
   "outputs": [
    {
     "data": {
      "text/plain": [
       "True"
      ]
     },
     "execution_count": 1,
     "metadata": {},
     "output_type": "execute_result"
    }
   ],
   "source": [
    "10**34 < float(\"inf\")"
   ]
  },
  {
   "cell_type": "code",
   "execution_count": 16,
   "metadata": {},
   "outputs": [
    {
     "data": {
      "text/plain": [
       "False"
      ]
     },
     "execution_count": 16,
     "metadata": {},
     "output_type": "execute_result"
    }
   ],
   "source": [
    ">>> 1e32224 < float(\"inf\")"
   ]
  },
  {
   "cell_type": "code",
   "execution_count": 7,
   "metadata": {},
   "outputs": [
    {
     "data": {
      "text/plain": [
       "False"
      ]
     },
     "execution_count": 7,
     "metadata": {},
     "output_type": "execute_result"
    }
   ],
   "source": [
    ">>> (0.1 + 0.1 + 0.1 - 0.3) == 0."
   ]
  },
  {
   "cell_type": "code",
   "execution_count": 9,
   "metadata": {},
   "outputs": [
    {
     "data": {
      "text/plain": [
       "5.551115123125783e-17"
      ]
     },
     "execution_count": 9,
     "metadata": {},
     "output_type": "execute_result"
    }
   ],
   "source": [
    "(0.1 + 0.1 + 0.1 - 0.3)"
   ]
  },
  {
   "cell_type": "code",
   "execution_count": 10,
   "metadata": {},
   "outputs": [
    {
     "data": {
      "text/plain": [
       "True"
      ]
     },
     "execution_count": 10,
     "metadata": {},
     "output_type": "execute_result"
    }
   ],
   "source": [
    ">>> import math\n",
    ">>> math.isclose((0.1 + 0.1 + 0.1 - 0.3), 0., abs_tol=1e-9)"
   ]
  },
  {
   "cell_type": "code",
   "execution_count": 54,
   "metadata": {},
   "outputs": [
    {
     "data": {
      "text/plain": [
       "1.2345678912345679e+26"
      ]
     },
     "execution_count": 54,
     "metadata": {},
     "output_type": "execute_result"
    }
   ],
   "source": [
    "123456789123456789123456789."
   ]
  },
  {
   "cell_type": "code",
   "execution_count": 59,
   "metadata": {},
   "outputs": [
    {
     "data": {
      "text/plain": [
       "18"
      ]
     },
     "execution_count": 59,
     "metadata": {},
     "output_type": "execute_result"
    }
   ],
   "source": [
    "len(\"1.8181818181818182\")"
   ]
  },
  {
   "cell_type": "code",
   "execution_count": 43,
   "metadata": {},
   "outputs": [
    {
     "data": {
      "text/plain": [
       "32"
      ]
     },
     "execution_count": 43,
     "metadata": {},
     "output_type": "execute_result"
    }
   ],
   "source": [
    "4*8"
   ]
  },
  {
   "cell_type": "code",
   "execution_count": 39,
   "metadata": {},
   "outputs": [],
   "source": [
    "import sys"
   ]
  },
  {
   "cell_type": "code",
   "execution_count": 42,
   "metadata": {},
   "outputs": [
    {
     "data": {
      "text/plain": [
       "24"
      ]
     },
     "execution_count": 42,
     "metadata": {},
     "output_type": "execute_result"
    }
   ],
   "source": [
    "sys.getsizeof(1.301010101010100101010101)"
   ]
  },
  {
   "cell_type": "code",
   "execution_count": 38,
   "metadata": {},
   "outputs": [
    {
     "data": {
      "text/plain": [
       "10000000"
      ]
     },
     "execution_count": 38,
     "metadata": {},
     "output_type": "execute_result"
    }
   ],
   "source": [
    "10000000"
   ]
  },
  {
   "cell_type": "code",
   "execution_count": 37,
   "metadata": {},
   "outputs": [
    {
     "data": {
      "text/plain": [
       "1e-07"
      ]
     },
     "execution_count": 37,
     "metadata": {},
     "output_type": "execute_result"
    }
   ],
   "source": [
    "0.0000001"
   ]
  },
  {
   "cell_type": "code",
   "execution_count": 30,
   "metadata": {},
   "outputs": [
    {
     "data": {
      "text/plain": [
       "2.220446049250313e-16"
      ]
     },
     "execution_count": 30,
     "metadata": {},
     "output_type": "execute_result"
    }
   ],
   "source": [
    "float_info.epsilon"
   ]
  },
  {
   "cell_type": "code",
   "execution_count": 44,
   "metadata": {},
   "outputs": [
    {
     "data": {
      "text/plain": [
       "1.0"
      ]
     },
     "execution_count": 44,
     "metadata": {},
     "output_type": "execute_result"
    }
   ],
   "source": [
    " 1 + 1e-16"
   ]
  },
  {
   "cell_type": "code",
   "execution_count": 63,
   "metadata": {},
   "outputs": [
    {
     "data": {
      "text/plain": [
       "False"
      ]
     },
     "execution_count": 63,
     "metadata": {},
     "output_type": "execute_result"
    }
   ],
   "source": [
    "0.1 + 0.1 + 0.1 - 0.3 == 0."
   ]
  },
  {
   "cell_type": "markdown",
   "metadata": {},
   "source": [
    "\n",
    "<div class=\"alert alert-info\"> \n",
    "\n",
    "**Complex numbers**:  \n",
    "\n",
    "In mathematics, complex number is a number with the form: $a + bi$, where $a$ and $b$ are real-valued numbers, and $i$ is defined to be the number that satisfies the relationship $i^2 = -1$. Because no real-valued number satisfies this relationship, $i$ is called the \"imaginary number\". Weirdo electrical engineers use the symbol $j$ in place of $i$, which is why Python would display the complex number $2 + 3i$ as `2+3j`.  \n",
    "\n",
    "</div>"
   ]
  },
  {
   "cell_type": "code",
   "execution_count": 7,
   "metadata": {},
   "outputs": [
    {
     "ename": "TypeError",
     "evalue": "can't convert complex to float",
     "output_type": "error",
     "traceback": [
      "\u001b[1;31m---------------------------------------------------------------------------\u001b[0m",
      "\u001b[1;31mTypeError\u001b[0m                                 Traceback (most recent call last)",
      "\u001b[1;32m<ipython-input-7-abc71651b722>\u001b[0m in \u001b[0;36m<module>\u001b[1;34m()\u001b[0m\n\u001b[1;32m----> 1\u001b[1;33m \u001b[0mfloat\u001b[0m\u001b[1;33m(\u001b[0m\u001b[1;36m2\u001b[0m\u001b[1;33m+\u001b[0m\u001b[1;36m0j\u001b[0m\u001b[1;33m)\u001b[0m\u001b[1;33m\u001b[0m\u001b[0m\n\u001b[0m",
      "\u001b[1;31mTypeError\u001b[0m: can't convert complex to float"
     ]
    }
   ],
   "source": [
    "float(2+0j)"
   ]
  },
  {
   "cell_type": "code",
   "execution_count": null,
   "metadata": {},
   "outputs": [],
   "source": []
  }
 ],
 "metadata": {
  "anaconda-cloud": {},
  "kernelspec": {
   "display_name": "Python 3",
   "language": "python",
   "name": "python3"
  },
  "language_info": {
   "codemirror_mode": {
    "name": "ipython",
    "version": 3
   },
   "file_extension": ".py",
   "mimetype": "text/x-python",
   "name": "python",
   "nbconvert_exporter": "python",
   "pygments_lexer": "ipython3",
   "version": "3.5.3"
  }
 },
 "nbformat": 4,
 "nbformat_minor": 2
}
