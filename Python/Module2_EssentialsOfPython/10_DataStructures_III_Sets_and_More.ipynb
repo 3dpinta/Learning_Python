{
 "cells": [
  {
   "cell_type": "markdown",
   "metadata": {},
   "source": [
    "# Section 10: Data Structures Part III - Sets & the `collections` Module\n",
    "## The \"Set\" Data Structure\n",
    "**The Python \"set\" is an *unordered* collection of *unique*, *immutable* objects.** Similar to a dictionary's keys, checking to see if an object is a member of a given set is a $\\mathcal{O}(1)$ operation - the time required to check for membership does not depend on the size of the set. Furthermore, this data structure supports set-algebra operations for comparing sets.\n",
    "\n",
    "### Creating a set\n",
    "You can initialize a set using the syntax: `{item1, item2, ...}`. Please note that this is distinct from the the dictionary-initialization syntax, which uses a colon to indicate key-value pairs:\n",
    "\n",
    "```python\n",
    "# initializing a set containing immutable objets\n",
    ">>> {1, 3.4, \"apple\", False, (1, 2, 3)}\n",
    "{False, 1, (1, 2, 3), 3.4, 'apple'}\n",
    "```\n",
    "A set can be constructed using the generator-comprehension syntax:\n",
    "```python\n",
    "# initialization via set-comprehension\n",
    ">>> {i**2 for i in range(5) if i != 3}\n",
    "{0, 1, 4, 16}\n",
    "```\n",
    "\n",
    "And, like the `list`, `tuple`, and `dict` constructors, `set` constructs a set from an iterable. **You must use `set()` if you want to create an empty set**, using `{}` creates an empty *dictionary*:\n",
    "```python\n",
    "# using `set` to consume an iterable to construct a set\n",
    ">>> set(range(4))\n",
    "{0, 1, 2, 3}\n",
    "\n",
    "# creating an empty set\n",
    ">>> set()  # specifying `{}` would create an empty *dictionary*\n",
    "```\n",
    "\n",
    "Redundant items are \"ignored\" when constructing or adding to a set. Thus **constructing a set is a great way to extract the unique items from a collection**: \n",
    "```python\n",
    "# filter repeat-items from a collection by feeding it into a set\n",
    ">>> x = [1, 2, 1, 2, 1, \"moo\", \"moo\"]\n",
    ">>> set(x)\n",
    "{1, 2, 'moo'}\n",
    "```"
   ]
  },
  {
   "cell_type": "markdown",
   "metadata": {},
   "source": [
    "### Set operations\n",
    "Sets support membership-checking (which is an $\\mathcal{O}(1)$) operation and iteration. Note that sets are unordered, thus the order of iteration is effectively random:\n",
    "```python\n",
    "# checking membership in a set\n",
    ">>> 2 in {1, 2, 3}\n",
    "True\n",
    "\n",
    "# iterating over a set (the order of iteration is random)\n",
    ">>> [i for i in {\"a\", \"b\", \"c\"}]\n",
    "['b', 'c', 'a']\n",
    "```\n",
    "Python also provides the set-theoretic operations of union, intersection, and the relations of set equality and set inclusion. These can be invoked using operator symbols or by calling functions on the set explicitly:\n",
    "\n",
    "```python\n",
    "\n",
    "```\n"
   ]
  },
  {
   "cell_type": "code",
   "execution_count": 14,
   "metadata": {},
   "outputs": [],
   "source": [
    ">>> x = {\"a\", \"b\", \"c\", \"d\"}\n",
    ">>> y = {\"a\", \"b\", \"e\"}"
   ]
  },
  {
   "cell_type": "code",
   "execution_count": 15,
   "metadata": {},
   "outputs": [
    {
     "data": {
      "text/plain": [
       "{'a', 'b'}"
      ]
     },
     "execution_count": 15,
     "metadata": {},
     "output_type": "execute_result"
    }
   ],
   "source": [
    "x.intersection(y)"
   ]
  },
  {
   "cell_type": "code",
   "execution_count": 16,
   "metadata": {},
   "outputs": [
    {
     "data": {
      "text/plain": [
       "{'c', 'd'}"
      ]
     },
     "execution_count": 16,
     "metadata": {},
     "output_type": "execute_result"
    }
   ],
   "source": [
    "# intersection: items in x but not in y\n",
    "x - y  # or x.intersection(y)"
   ]
  },
  {
   "cell_type": "code",
   "execution_count": 13,
   "metadata": {},
   "outputs": [
    {
     "data": {
      "text/plain": [
       "{'a', 'b', 'c', 'd'}"
      ]
     },
     "execution_count": 13,
     "metadata": {},
     "output_type": "execute_result"
    }
   ],
   "source": [
    "# union: items in x or y, or both\n",
    "x | y "
   ]
  },
  {
   "cell_type": "code",
   "execution_count": null,
   "metadata": {},
   "outputs": [],
   "source": [
    "y"
   ]
  },
  {
   "cell_type": "code",
   "execution_count": 8,
   "metadata": {},
   "outputs": [
    {
     "data": {
      "text/plain": [
       "['b', 'c', 'a']"
      ]
     },
     "execution_count": 8,
     "metadata": {},
     "output_type": "execute_result"
    }
   ],
   "source": [
    ">>> a = set('abracadabra')\n",
    ">>> b = set('alacazam')\n",
    ">>> a                                  # unique letters in a\n",
    "{'a', 'r', 'b', 'c', 'd'}\n",
    ">>> a - b                              # letters in a but not in b\n",
    "{'r', 'd', 'b'}\n",
    ">>> a | b                              # letters in a or b or both\n",
    "{'a', 'c', 'r', 'd', 'b', 'm', 'z', 'l'}\n",
    ">>> a & b                              # letters in both a and b\n",
    "{'a', 'c'}\n",
    ">>> a ^ b                              # letters in a or b but not both\n",
    "{'r', 'd', 'b', 'm', 'z', 'l'}"
   ]
  },
  {
   "cell_type": "code",
   "execution_count": 4,
   "metadata": {},
   "outputs": [
    {
     "data": {
      "text/plain": [
       "type"
      ]
     },
     "execution_count": 4,
     "metadata": {},
     "output_type": "execute_result"
    }
   ],
   "source": [
    "type(set)"
   ]
  },
  {
   "cell_type": "code",
   "execution_count": 5,
   "metadata": {},
   "outputs": [
    {
     "data": {
      "text/plain": [
       "{1, 2, 'moo'}"
      ]
     },
     "execution_count": 5,
     "metadata": {},
     "output_type": "execute_result"
    }
   ],
   "source": [
    "{1, 2, 1, 2, 1, \"moo\", \"moo\"}"
   ]
  },
  {
   "cell_type": "code",
   "execution_count": null,
   "metadata": {},
   "outputs": [],
   "source": []
  }
 ],
 "metadata": {
  "anaconda-cloud": {},
  "kernelspec": {
   "display_name": "Python 3",
   "language": "python",
   "name": "python3"
  },
  "language_info": {
   "codemirror_mode": {
    "name": "ipython",
    "version": 3
   },
   "file_extension": ".py",
   "mimetype": "text/x-python",
   "name": "python",
   "nbconvert_exporter": "python",
   "pygments_lexer": "ipython3",
   "version": "3.5.3"
  }
 },
 "nbformat": 4,
 "nbformat_minor": 2
}
