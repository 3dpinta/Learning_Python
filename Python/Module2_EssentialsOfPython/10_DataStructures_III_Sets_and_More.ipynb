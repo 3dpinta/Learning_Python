{
 "cells": [
  {
   "cell_type": "markdown",
   "metadata": {},
   "source": [
    "# Section 10: Data Structures Part III - Sets & the `collections` Module\n",
    "## The \"Set\" Data Structure\n",
    "The Python \"set\" is an *unordered* collection of *unique*, *immutable* objects. Similar to a dictionary's keys, checking to see if an object is a member of a given set is a $\\mathcal{O}(1)$ operation - the time required to check for membership does not depend on the size of the set. Furthermore, this data structure supports set-algebra operations for comparing sets.\n",
    "\n",
    "You can initialize a set using the syntax: `{item1, item2, ...}`. Please note that this is distinct from the the dictionary-initialization syntax, which uses a colon to indicate key-value pairs."
   ]
  },
  {
   "cell_type": "code",
   "execution_count": null,
   "metadata": {},
   "outputs": [],
   "source": []
  }
 ],
 "metadata": {
  "kernelspec": {
   "display_name": "Python 3",
   "language": "python",
   "name": "python3"
  },
  "language_info": {
   "codemirror_mode": {
    "name": "ipython",
    "version": 3
   },
   "file_extension": ".py",
   "mimetype": "text/x-python",
   "name": "python",
   "nbconvert_exporter": "python",
   "pygments_lexer": "ipython3",
   "version": "3.6.3"
  }
 },
 "nbformat": 4,
 "nbformat_minor": 2
}
