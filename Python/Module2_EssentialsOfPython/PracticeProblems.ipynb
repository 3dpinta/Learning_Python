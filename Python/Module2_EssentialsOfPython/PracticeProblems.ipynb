{
 "cells": [
  {
   "cell_type": "markdown",
   "metadata": {},
   "source": [
    "## Problem 1: difference_fanout\n",
    "\n",
    ">Given a list of numbers, for each number generate a list of the differences between it and $n$ (known as the **fanout** value) following numbers in the list. Return a list of all the lists generated for each number. For members in last part of the list that have less than $n$ following members, calculate as many differences as possible.\n",
    "\n",
    "``` Python\n",
    "# example behavior\n",
    ">>> difference_fanout([3,2,4,6,1], 3)\n",
    "[[1 ,-1 ,-3], [2, 4, -1], [2, -3], [-5], []]\n",
    "```\n",
    "For extra credits (and some extra fun!), try to write your function only using list comprehension. \n",
    "\n",
    "## Solution 1: difference_fanout\n",
    "``` Python\n",
    "def difference_fanout(l, fanout):\n",
    "    \"\"\" Return a list of differences for \n",
    "        each value with its following terms\n",
    "        \n",
    "        Parameters\n",
    "        ----------\n",
    "        l: List[Union(int,double)]\n",
    "            Input list\n",
    "            \n",
    "        fanout: int\n",
    "            Number of neighbors to compute difference with\n",
    "        \n",
    "        Returns\n",
    "        -------\n",
    "        List[List[int]]\n",
    "    \"\"\"\n",
    "    return [[neighbor - base for neighbor \n",
    "             in l[i+1:min(i+1+fanout,len(l))]] \n",
    "            for i,base in enumerate(l)]\n",
    "```\n",
    "\n",
    "This solution uses two list comprehensions, nested together. For readability, the outer list comprehension should probably be written as a for loop, initializing an empty list and iterating through the input list to append the generated list for each value. \n",
    "\n",
    "For each member of the list of index $i$, we compute differences with the slice \n",
    "```Python\n",
    "l[i+1:min(i+1+fanout,len(l))]```\n",
    "where the `min` function is essential for handling the last few values of the list. Stare at it for awhile until it makes sense! "
   ]
  },
  {
   "cell_type": "code",
   "execution_count": null,
   "metadata": {},
   "outputs": [],
   "source": []
  }
 ],
 "metadata": {
  "kernelspec": {
   "display_name": "Python 3",
   "language": "python",
   "name": "python3"
  },
  "language_info": {
   "codemirror_mode": {
    "name": "ipython",
    "version": 3
   },
   "file_extension": ".py",
   "mimetype": "text/x-python",
   "name": "python",
   "nbconvert_exporter": "python",
   "pygments_lexer": "ipython3",
   "version": "3.6.5"
  }
 },
 "nbformat": 4,
 "nbformat_minor": 2
}
