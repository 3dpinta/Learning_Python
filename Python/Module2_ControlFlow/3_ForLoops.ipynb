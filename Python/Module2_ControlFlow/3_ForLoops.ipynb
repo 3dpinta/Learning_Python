{
 "cells": [
  {
   "cell_type": "markdown",
   "metadata": {},
   "source": [
    "# Section 3: For-Loops and Iterables\n",
    "A \"for-loop\" allows you to iterate over a collection of items, and execute a block of code once for each iteration. The general syntax for a \"for-loop\" is:\n",
    "\n",
    "```\n",
    "for <var> in <iterable>:\n",
    "    block of code\n",
    "```\n",
    "\n",
    "Where `<var>` is any valid variable-identifier and `<iterable>` is any **iterable**.\n",
    "\n",
    "<div class=\"alert alert-block alert-info\"> \n",
    "**Definition**: An **iterable** is any Python object capable of returning its members one at a time. Common examples of iterables include lists, tuples, strings, and dictionaries. Formally, an iterable is any Python object with an `__iter__()` method or with a `__getitem__()` method that implements `Sequence` semantics.\n",
    "</div>\n",
    "\n",
    "To be concrete, let's consider the example:\n",
    "```python\n",
    "total = 0\n",
    "for item in [1, 3, 5]:\n",
    "    total = total + item\n",
    "\n",
    "print(total)  # `total` has the value 1 + 3 + 5 = 9\n",
    "# `item` is still defined here, and holds the value 5\n",
    "```\n",
    "\n",
    "This code will perform the following steps:\n",
    "1. Define the variable `total`, and assign it the value `0`\n",
    "2. Iterate on the list, producing value `1`, define the variable `item` and assign it the value `1`\n",
    "3. Assign `total` the value `0 + 1`\n",
    "4. Iterate on the list, producing the value `3` and assigning it to `item`\n",
    "5. Assign `total` the value `1 + 3`\n",
    "6. Iterate on the list, producing the value `5` and assigning it to `item`\n",
    "7. Assign `total` the value `4 + 5`\n",
    "8. Iterate on the list. A `StopIteration` signal it raised by the list, and the for-loop sequence is exited.\n",
    "9. Print the value of `total` (9)\n",
    "\n",
    "Note that the variable `item` will persist after the for-loop block is exited. It will reference the last value from the for-loop iteration (in this case `item` has the value 5). That being said, **you should not write code that depends on the iterate-variable, outside of the context of the for-loop**. In the case that you try to loop over an *empty* iterable, the iterate-variable is never defined:\n",
    "\n",
    "```python\n",
    "for x in []:\n",
    "    print(\"Hello?\")  # this code is never executed\n",
    "print(x)\n",
    "```\n",
    "\n",
    "Because we are attempting to iterate over an empty list, `StopIteration` is raised immediately - before the variable `x` is even defined. Thus the code enclosed within the for-loop is never reached, and the subsequent `print(x)` statement will raise a `NameError`, because `x` was never defined!"
   ]
  },
  {
   "cell_type": "markdown",
   "metadata": {},
   "source": [
    "Tuple unpacking\n",
    "https://www.python.org/dev/peps/pep-3132/#specification"
   ]
  }
 ],
 "metadata": {
  "kernelspec": {
   "display_name": "Python 3",
   "language": "python",
   "name": "python3"
  },
  "language_info": {
   "codemirror_mode": {
    "name": "ipython",
    "version": 3
   },
   "file_extension": ".py",
   "mimetype": "text/x-python",
   "name": "python",
   "nbconvert_exporter": "python",
   "pygments_lexer": "ipython3",
   "version": "3.6.3"
  }
 },
 "nbformat": 4,
 "nbformat_minor": 2
}
