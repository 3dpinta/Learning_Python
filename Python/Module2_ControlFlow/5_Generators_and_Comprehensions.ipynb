{
 "cells": [
  {
   "cell_type": "markdown",
   "metadata": {},
   "source": [
    "# Section 5: Generators & Comprehension Expressions\n",
    "- [Section 5: Generators & Comprehension Expressions](#section-5-generators-comprehension-expressions)\n",
    "    - [Introducing Generators](#introducing-generators)\n",
    "            - [The `range` generator](#the-range-generator)\n",
    "        - [Creating your own generator: generator comprehensions](#creating-your-own-generator-generator-comprehensions)\n",
    "            - [Storing generators](#storing-generators)\n",
    "            - [Consuming generators](#consuming-generators)\n",
    "            - [Using generator comprehensions on the fly](#using-generator-comprehensions-on-the-fly)\n",
    "            - [List comprehensions](#list-comprehensions)\n",
    "            - [Chaining comprehensions](#chaining-comprehensions)\n",
    "            - [Nesting comprehensions](#nesting-comprehensions)\n",
    "- [Generators are über powerful](#generators-are-%C3%BCber-powerful)\n",
    "\n",
    "## Introducing Generators\n",
    "Now we introduce an important type of iterable object called a **generator**, which allows use to generate arbitrarily-many items in a sequence of data, without having to store them all in memory at once.  \n",
    "\n",
    "<div class=\"alert alert-block alert-info\"> \n",
    "**Definition**: An **generator** is a special kind of iterable, which stores the instructions for how to *generate* each of its members, in order, along with its current state of iterations. It generates each member, one at a time, only as it is requested via iteration.\n",
    "</div>\n",
    "\n",
    "To contrast a generator with more familiar iterables, note that a list readily stores all of its members - you can access any of its contents via indexing. A generator, on the otherhand, *does not store any items*. Instead, it stores the instructions for generating each of its members in sequence, and stores its iteration state - meaning that the generator will know if it has generated its second member, and will thus generate its third member the next time it is iterated on. The whole point of this is that you can use a generator to produce a long sequence of items, without having to store them all in memory."
   ]
  },
  {
   "cell_type": "markdown",
   "metadata": {},
   "source": [
    "#### The `range` generator\n",
    "The most popular built-in generator in Python is `range`, which, given the values: \n",
    "- 'start' (inclusive, default=0)\n",
    "- 'stop' (exclusive)\n",
    "- 'step' (default=1) \n",
    "\n",
    "will generate the corresponding sequence of integers upon iteration. Consider the following example usages of `range`:\n",
    "```python\n",
    "# start: 2  (included)\n",
    "#  stop: 7  (excluded)\n",
    "#  step: 1\n",
    "for i in range(2, 7, 1):\n",
    "    print(i)\n",
    "# prints: 2.. 3.. 4.. 5.. 6\n",
    "```\n",
    "\n",
    "```python\n",
    "# start:  1  (included)\n",
    "#  stop: 10  (excluded)\n",
    "#  step:  2\n",
    "for i in range(2, 7, 1):\n",
    "    print(i)\n",
    "# prints: 1.. 3.. 5.. 7.. 9\n",
    "```\n",
    "\n",
    "```python\n",
    "# A very common use case!\n",
    "# start:  0  (default, included)\n",
    "#  stop:  5  (excluded)\n",
    "#  step:  1  (default)\n",
    "for i in range(5):\n",
    "    print(i)\n",
    "# prints: 0.. 1.. 2.. 3.. 4\n",
    "```\n",
    "\n",
    "Because `range` is a generator, the command `range(5)` will simply store the instructions needed to produce the sequence of numbers 0-4, whereas the list `[0, 1, 2, 3, 4]` stores all of these items in memory at once. For short sequences, this seems to be a rather paltry savings; this is not the case for long sequences. The following graph compares the memory consumption used when defining a generator for the sequence of number $0-N$ using `range`, compared to storing the sequence in a list:\n",
    "\n",
    "![Mem_Consumption_Generator.png](./attachments/Mem_Consumption_Generator.png)\n",
    "\n",
    "Given our discussion of generators, it should make sense that the memory consumed simply by defining `range(N)` is independent of $N$, whereas the memory consumed by the list grows linearly with $N$ (for large $N$).\n",
    "\n",
    "<div class=\"alert alert-block alert-success\"> \n",
    "**Takeaway**: `range` is a critically-important built-in generator, which generates sequences of integers.\n",
    "</div>\n"
   ]
  },
  {
   "cell_type": "markdown",
   "metadata": {},
   "source": [
    "## Creating your own generator: generator comprehensions\n",
    "Python provides a sleek syntax for defining a simple generator in a single line of code; this expression is known as a **generator comprehension**. The following syntax is extremely useful and will appear very frequently in Python code:\n",
    "\n",
    "<div class=\"alert alert-block alert-info\"> \n",
    "**Definition**: The syntax \n",
    "<br>\n",
    "`(<expression> for <var> in <iterable> [if <condition>])`\n",
    "<br>\n",
    "specifies the general form for a **generator comprehension**. This produces a generator, whose instructions for generating its members are provided within the parentheses of the statement. \n",
    "</div>\n",
    "\n",
    "Written in a long form, the pseudo-code for `(<expression> for <var> in <iterable> if <condition>)` is:\n",
    "\n",
    "```\n",
    "(<expression> for <var> in <iterable> if <condition>), expressed in pseudo-code:\n",
    "\n",
    "for <var> in <iterable>:\n",
    "    if bool(<condition>):\n",
    "        yield <expression>\n",
    "```\n",
    "\n",
    "The following expression defines a generator for all the even numbers in 0-99:\n",
    "```python\n",
    "# will generate 0.. 2.. 4.. ... 98\n",
    "even_gen = (i for i in range(100) if i%2 == 0)\n",
    "```\n",
    "<div class=\"alert alert-block alert-warning\"> \n",
    "**FYI**: A more efficient and concise way to generate this sequence of numbers is: `range(0, 100, 2)`\n",
    "</div>\n",
    "\n",
    "\n",
    "The `is <condition>` clause is in the generator expression is optional. The generator comprehension `(<expression> for <var> in <iterable>)` corresponds\n",
    "to:\n",
    "\n",
    "```\n",
    "(<expression> for <var> in <iterable>), expressed in pseudo-code:\n",
    "\n",
    "for <var> in <iterable>:\n",
    "    yield <expression>\n",
    "```\n",
    "\n",
    "For example:\n",
    "```python\n",
    "# will generate 0/2.. 9/2.. 21/2.. 32/2\n",
    "example_gen = (i/2 for i in [0, 9, 21, 32])\n",
    "```\n",
    "\n",
    "`<expression>` can be any valid single-line of Python code that returns an object:\n",
    "```python\n",
    "((i, i**2, i**3) for i in range(10))\n",
    "# will generate:\n",
    "# (0, 0, 0)\n",
    "# (1, 1, 1)\n",
    "# (2, 4, 8)\n",
    "# (3, 9, 27)\n",
    "# (4, 16, 64)\n",
    "# (5, 25, 125)\n",
    "# (6, 36, 216)\n",
    "# (7, 49, 343)\n",
    "# (8, 64, 512)\n",
    "# (9, 81, 729)\n",
    "```\n",
    "<div class=\"alert alert-block alert-success\"> \n",
    "**Takeaway**:  A generator comprehension is a single-line specification for defining a generator in Python. It is absolutely essential to learn this syntax in order to write simple and readable code.\n",
    "</div>\n",
    "\n",
    "<div class=\"alert alert-block alert-warning\"> \n",
    "**Note**: Generator comprehensions are **not** the only method for defining generators in Python. We will briefly introduced a more fully-fledged syntax for defining generators, when we learn about `def` statements and functions.\n",
    "</div>"
   ]
  },
  {
   "cell_type": "markdown",
   "metadata": {},
   "source": [
    "### Storing generators\n",
    "Just like we saw with the `range` generator, defining a generator using a comprehension does *not* perform any computations or consumer any memory beyond defining the rules for producing the sequence of data. See what happens when we try to print this generator:\n",
    "```python\n",
    "# will generate 0, 1, 4, 9, 25, ..., 9801\n",
    ">>> gen = (i**2 for i in range(100))\n",
    ">>> print(gen)\n",
    "<generator object <genexpr> at 0x000001E768FE8A40>\n",
    "```\n",
    "This output simply indicates that `gen` stores a generator-expression at the memory address `0x000001E768FE8A40`; this is simply where the instructions for generating our sequence of squared numbers is stored. `gen` will not produce any results until we iterate over it. For this reason, generators cannot be inspected in the same way that lists and other iterable containers can - you cannot query the length of a generator nor can you index into it.\n",
    "\n",
    "<div class=\"alert alert-block alert-success\"> \n",
    "**Takeaway**: Unlike objects like lists and tuples, a generator is merely a set of instructions, thus it cannot be printed and its individual items cannot accessed. (An exception to this is the built-in `range` generator, which can be indexed directly).\n",
    "</div>"
   ]
  },
  {
   "cell_type": "markdown",
   "metadata": {},
   "source": [
    "### Consuming generators\n",
    "We can feed this to any function that accepts iterables. For instance, we can feed `gen` to the built-in `sum` function, which sums the content of an iterable:\n",
    "```python\n",
    "# computes the sum 0 + 1 + 4 + 9 + 25 + ... + 9801\n",
    ">>> gen = (i**2 for i in range(100))\n",
    ">>> sum(gen)\n",
    "328350\n",
    "```\n",
    "This computes the sum of the sequence of numbers *without ever storing the full sequence of numbers in memory*. In fact, only two numbers need be stored during any given iteration of the sum: the current value of the sum, and the number being added to it.\n",
    "\n",
    "What happens if we run this command a second time:\n",
    "```python\n",
    "# computes the sum of ... nothing!\n",
    "# `gen` has alredy been consumed!\n",
    ">>> sum(gen)\n",
    "0\n",
    "```\n",
    "It may be surprising to see that the sum now returns 0. This is because **a generator is exhausted after it is iterated over in full**. You must redefine the generator if you want to iterate over it again; fortunately, defining a generator requires very few resources, so this is not a point of concern.\n",
    "\n",
    "<div class=\"alert alert-block alert-success\"> \n",
    "**Takeaway**: A generator can only be iterated over once, after which it is exhausted and must be re-defined in order to be iterated over again.\n",
    "</div>\n"
   ]
  },
  {
   "cell_type": "markdown",
   "metadata": {},
   "source": [
    "### Using generator comprehensions on the fly\n",
    "A feature of Python that can make it supremely readable and intutive is that **generator comprehensions can be fed directly into functions**. That is,\n",
    "\n",
    "```python\n",
    ">>> gen = (i**2 for i in range(100))\n",
    ">>> sum(gen)\n",
    "328350\n",
    "```\n",
    "\n",
    "can be simplified as:\n",
    "\n",
    "```python\n",
    ">>> sum(i**2 for i in range(100))\n",
    "328350\n",
    "```\n",
    "\n",
    "If you want your code to compute the finite harmonic series:\n",
    "\\begin{equation*}\n",
    "\\sum_{k=1}^{100} \\frac{1}{n} = 1 + \\frac{1}{2} + ... + \\frac{1}{100} \n",
    "\\end{equation*}\n",
    "\n",
    "you can simply write:\n",
    "```python\n",
    ">>> sum(1/n for n in range(1, 101))\n",
    "5.187377517639621\n",
    "```\n",
    "\n",
    "This convenient syntax works for any function that expects an iterable as an argument, such as the `list` function:\n",
    "```python\n",
    ">>> list(i**2 for i in range(10))\n",
    "[0, 1, 4, 9, 16, 25, 36, 49, 64, 81]\n",
    "```\n",
    "Using generator comprehensions to initialize lists is so useful, that Python actually reserves a specialized syntax for it, known as the **list comprehension**.\n",
    "\n",
    "<div class=\"alert alert-block alert-success\"> \n",
    "**Takeaway**: A generator comprehension can be specified directly as an argument to a function, wherever a single iterable is expected as an input to that function.\n",
    "</div>"
   ]
  },
  {
   "cell_type": "markdown",
   "metadata": {},
   "source": [
    "### List comprehensions\n",
    "\n",
    "<div class=\"alert alert-block alert-info\"> \n",
    "**Definition**: A **list comprehension** is a syntax for initializing list, which exactly mirrors the generator comprehension syntax:\n",
    "<br>\n",
    "```\n",
    "[<expression> for <var> in <iterable> {if <condition}]\n",
    "```\n",
    "</br>\n",
    "</div>\n",
    "\n",
    "\n",
    "\n",
    "For example, if we want to create a list of square-numbers, we can simply write:\n",
    "```python\n",
    ">>> [i**2 for i in range(10)]\n",
    "[0, 1, 4, 9, 16, 25, 36, 49, 64, 81]\n",
    "```\n",
    "\n",
    "This produces the exact same result as feeding the `list` function a generator comprehension, however, **using a list comprehension is slightly more efficient than is feeding the `list` function a comprehension expression**:"
   ]
  },
  {
   "cell_type": "code",
   "execution_count": 13,
   "metadata": {},
   "outputs": [
    {
     "name": "stdout",
     "output_type": "stream",
     "text": [
      "395 µs ± 15.5 µs per loop (mean ± std. dev. of 7 runs, 1000 loops each)\n"
     ]
    }
   ],
   "source": [
    "%%timeit\n",
    "list(i**2 for i in range(1000))"
   ]
  },
  {
   "cell_type": "code",
   "execution_count": 14,
   "metadata": {},
   "outputs": [
    {
     "name": "stdout",
     "output_type": "stream",
     "text": [
      "355 µs ± 14.3 µs per loop (mean ± std. dev. of 7 runs, 1000 loops each)\n"
     ]
    }
   ],
   "source": [
    "%%timeit\n",
    "[i**2 for i in range(1000)]"
   ]
  },
  {
   "cell_type": "markdown",
   "metadata": {},
   "source": [
    "If you want to intialize a list containing one hundred 0s (perhaps to be filled later with real data), you can simply write:\n",
    "```python\n",
    "[0 for i in range(100)]\n",
    "```\n",
    "\n",
    "<div class=\"alert alert-block alert-success\"> \n",
    "**Takeaway**: A list comprehension is an extremely useful syntax for creating simple and complicated lists alike.\n",
    "</div>"
   ]
  },
  {
   "cell_type": "markdown",
   "metadata": {},
   "source": [
    "### Chaining comprehensions\n",
    "Because generators are iterables, they can be fed into subsequent generator comprehensions\n",
    "```python\n",
    "# generates 400.. 100.. 0.. 100.. 400 \n",
    ">>> gen_1 = (i**2 for i in [-20, -10, 0, 10, 20])\n",
    "\n",
    "# sums the generated numbers, excluding any numbers whose absolute value is greater than 150\n",
    ">>> sum(i for i in gen_1 if abs(i) <= 150)\n",
    "200\n",
    "```"
   ]
  },
  {
   "cell_type": "markdown",
   "metadata": {},
   "source": [
    "### Nesting comprehensions\n",
    "It can be useful to nest comprehensions within one another:\n",
    "```python\n",
    "# create a 3x4 \"matrix\" (list of lists) of zeros\n",
    ">>> [[0 for col in range(4)] for row in range(3)]\n",
    "[[0, 0, 0, 0], [0, 0, 0, 0], [0, 0, 0, 0]]\n",
    "```"
   ]
  },
  {
   "cell_type": "markdown",
   "metadata": {},
   "source": [
    "<div class=\"alert alert-block alert-danger\"> \n",
    "**Warning**: Chaining and nesting comprehension expressions should be used sparingly. Otherwise you can quickly end up with code that is nearly incomprehensible.\n",
    "</div>\n",
    "\n",
    "```python\n",
    "# don't ever do this... ever\n",
    ">>> [[(i if i>5 else i**2) for i in range(2*j -1) if i %2 ==0] for j in (i//2 for i in range(15))]\n",
    "[[],\n",
    " [],\n",
    " [0],\n",
    " [0],\n",
    " [0, 4],\n",
    " [0, 4],\n",
    " [0, 4, 16],\n",
    " [0, 4, 16],\n",
    " [0, 4, 16, 6],\n",
    " [0, 4, 16, 6],\n",
    " [0, 4, 16, 6, 8],\n",
    " [0, 4, 16, 6, 8],\n",
    " [0, 4, 16, 6, 8, 10],\n",
    " [0, 4, 16, 6, 8, 10],\n",
    " [0, 4, 16, 6, 8, 10, 12]]\n",
    "```"
   ]
  },
  {
   "cell_type": "markdown",
   "metadata": {},
   "source": [
    "## Python's \"Itertools\"\n",
    "Python has an [itertools module](https://docs.python.org/3/library/itertools.html), which provides a core set of fast, memory efficient tools for creating iterables. The majority of these functions create generators. We will briefly showcase a few itertools. It is hard to overstate the utility of this module - it is strongly recommended that you take some time to see what it has in store.\n",
    "\n",
    "Actually there are two itertools that are so useful that they are included in Python by default, and do not need to be imported:\n",
    "\n",
    "#### `enumerate`\n",
    "\"enumerate\" the items in an iterable:\n",
    "```python\n",
    "# `enumerate` produces a generator\n",
    ">>> list(enumerate([\"apple\", \"banana\", \"cat\", \"dog\"]))\n",
    "[(0, 'apple'), (1, 'banana'), (2, 'cat'), (3, 'dog')]\n",
    "```\n",
    "\n",
    "#### `zip`\n",
    "\"zip\" together the corresponding elements of several iterables into tuples:\n",
    "```python\n",
    ">>> names = [\"Angie\", \"Brian\", \"Cassie\", \"David\"]\n",
    ">>> exam_1_scores = [90, 82, 79, 87]\n",
    ">>> exam_2_scores = [95, 84, 72, 91]\n",
    "\n",
    "# `zip` produces a generator\n",
    ">>> list(zip(names, exam_1_scores, exam_2_scores))\n",
    "[('Angie', 90, 95), ('Brian', 82, 84), ('Cassie', 79, 72), ('David', 87, 91)]\n",
    "```\n",
    "\n",
    "#### `itertools.chain`\n",
    "\"chain\" together multiple iterables, end-to-end:\n",
    "```python\n",
    ">>> from itertools import chain\n",
    ">>> gen_1 = range(0, 5, 2)              # 0.. 2.. 4\n",
    ">>> gen_2 = (i**2 for i in range(3, 6))  # 9.. 16.. 25 \n",
    ">>> iter_3 = [\"moo\", \"cow\"]\n",
    ">>> iter_4 = \"hello\"\n",
    "\n",
    "# `chain` produces a generator\n",
    ">>>  list(chain(gen_1, gen_2, iter_3, iter_4))\n",
    "[0, 2, 4, 9, 16, 25, 'moo', 'cow', 'h', 'e', 'l', 'l', 'o']\n",
    "```\n",
    "\n",
    "#### `itertools.combinations`\n",
    "Generate all length-n \"combinations\" from an iterable:\n",
    "```python\n",
    ">>> from itertools import combinations\n",
    "\n",
    "list(combinations('ABCD', 3))\n",
    "```"
   ]
  },
  {
   "cell_type": "code",
   "execution_count": 92,
   "metadata": {},
   "outputs": [
    {
     "data": {
      "text/plain": [
       "[(0, 1, 2), (0, 1, 3), (0, 2, 3), (1, 2, 3)]"
      ]
     },
     "execution_count": 92,
     "metadata": {},
     "output_type": "execute_result"
    }
   ],
   "source": [
    "from itertools import combinations\n",
    "list(combinations([0, 1, 2, 3], 3))"
   ]
  },
  {
   "cell_type": "code",
   "execution_count": 87,
   "metadata": {},
   "outputs": [
    {
     "data": {
      "text/plain": [
       "[0, 2, 4, 9, 16, 25, 'moo', 'cow', 'h', 'e', 'l', 'l', 'o']"
      ]
     },
     "execution_count": 87,
     "metadata": {},
     "output_type": "execute_result"
    }
   ],
   "source": [
    ">>> from itertools import chain\n",
    ">>> gen_1 = range(0, 5, 2)              # 0.. 2.. 4\n",
    ">>> gen_2 = (i**2 for i in range(3, 6))  # 9.. 16.. 25 \n",
    ">>> iter_3 = [\"moo\", \"cow\"]\n",
    ">>> iter_4 = \"hello\"\n",
    ">>> list(chain(gen_1, gen_2, iter_3, iter_4))"
   ]
  },
  {
   "cell_type": "code",
   "execution_count": 85,
   "metadata": {},
   "outputs": [
    {
     "data": {
      "text/plain": [
       "[0, 2, 4, 6, 8, 9, 16, 25, 'moo', 'cow', 'h', 'e', 'l', 'l', 'o']"
      ]
     },
     "execution_count": 85,
     "metadata": {},
     "output_type": "execute_result"
    }
   ],
   "source": [
    "from itertools import chain\n",
    "gen_1 = range(0, 10, 2)              # 0.. 2.. 4.. 6.. 8\n",
    "gen_2 = (i**2 for i in range(3, 6))  # 9.. 16.. 25 \n",
    "iter_3 = [\"moo\", \"cow\"]\n",
    "iter_4 = \"hello\"\n",
    "list(chain(gen_1, gen_2, iter_3, iter_4))"
   ]
  },
  {
   "cell_type": "markdown",
   "metadata": {},
   "source": [
    "## Generators are über powerful\n",
    "How many times does the word \"a\" occur in wikipedia?\n",
    "```python\n",
    "with open(\"all_of_wikipedia.txt\", mode=\"r\") as f:\n",
    "    gen_\n",
    "```"
   ]
  },
  {
   "cell_type": "code",
   "execution_count": 77,
   "metadata": {},
   "outputs": [],
   "source": [
    "with open(\"all_of_wikipedia.txt\", mode=\"r\") as my_file:\n",
    "    gen_sentences = (sentence for sentence in my_file)\n",
    "    gen_lower_case_words = \n",
    "    num_of_a = sum(sum(1 for word in sentence.split() if word.lower() == \"a\") for sentence in f)"
   ]
  },
  {
   "cell_type": "code",
   "execution_count": 78,
   "metadata": {},
   "outputs": [
    {
     "data": {
      "text/plain": [
       "4"
      ]
     },
     "execution_count": 78,
     "metadata": {},
     "output_type": "execute_result"
    }
   ],
   "source": [
    "num_of_a"
   ]
  },
  {
   "cell_type": "code",
   "execution_count": 48,
   "metadata": {},
   "outputs": [],
   "source": [
    "m = \"I am a dude I really am a dude a\\n I am a dude\""
   ]
  },
  {
   "cell_type": "code",
   "execution_count": 70,
   "metadata": {},
   "outputs": [
    {
     "data": {
      "text/plain": [
       "4"
      ]
     },
     "execution_count": 70,
     "metadata": {},
     "output_type": "execute_result"
    }
   ],
   "source": [
    "lines = (line for line in m.splitlines())\n",
    "words = (line.split() for line in lines)\n",
    "sum(sum(1 for i in word if i == \"a\") for word in words)"
   ]
  },
  {
   "cell_type": "code",
   "execution_count": 64,
   "metadata": {},
   "outputs": [
    {
     "data": {
      "text/plain": [
       "[['I', 'am', 'a', 'dude', 'I', 'really', 'am', 'a', 'dude', 'a'],\n",
       " ['I', 'am', 'a', 'dude']]"
      ]
     },
     "execution_count": 64,
     "metadata": {},
     "output_type": "execute_result"
    }
   ],
   "source": [
    "list(words)"
   ]
  }
 ],
 "metadata": {
  "kernelspec": {
   "display_name": "Python 3",
   "language": "python",
   "name": "python3"
  },
  "language_info": {
   "codemirror_mode": {
    "name": "ipython",
    "version": 3
   },
   "file_extension": ".py",
   "mimetype": "text/x-python",
   "name": "python",
   "nbconvert_exporter": "python",
   "pygments_lexer": "ipython3",
   "version": "3.6.3"
  }
 },
 "nbformat": 4,
 "nbformat_minor": 2
}
