{
 "cells": [
  {
   "cell_type": "markdown",
   "metadata": {},
   "source": [
    "# Section 6: Basics of Functions\n",
    "Defining a function allows you to encapsulate a segment of code, specifying the information that enters and leaves the code, allowing you to make use of this \"code-capsule\" repeatedly and in many different contexts. For example, suppose you want to count how many vowels are in a string. The following defines a function that accomplishes this:\n",
    "\n",
    "```python\n",
    "def count_vowels(in_string):\n",
    "    \"\"\" Returns the number of vowels contained in `in_string`\"\"\"\n",
    "    vowel_count = 0\n",
    "    vowels = \"aeiou\"\n",
    "    \n",
    "    for char in in_string:\n",
    "        # make the character lowercased before seeing if it is a vowel\n",
    "        if char.lower() in vowels:\n",
    "            vowel_count += 1  # equivalent to vowel_count = vowel_count + 1\n",
    "    return vowel_count\n",
    "```\n",
    "\n",
    "Executing this code will define the *function* `count_vowel`. This function expects to be passed one object, represented by `in_string`, as an *input argument*, and it will *return* the number vowels stored in that object.  Invoking `count_vowel`, passing it an input object, is referred to as *calling* the function:\n",
    "\n",
    "```python\n",
    ">>> count_vowels(\"Hi my name is Ryan\")\n",
    "5\n",
    "```\n",
    "\n",
    "The great thing about this is that it can be used over and over!\n",
    "\n",
    "```python\n",
    ">>> count_vowels(\"Apple\")\n",
    "2\n",
    "\n",
    ">>> count_vowels(\"envelope\")\n",
    "4\n",
    "```\n",
    "\n",
    "In this section, we will learn about the syntax for defining and calling functions in Python"
   ]
  },
  {
   "cell_type": "markdown",
   "metadata": {},
   "source": [
    "<div class=\"alert alert-block alert-info\"> \n",
    "**Definition**: A Python **function** is an object that encapsulates user-specified code. *Calling* the function will execute the code, and *return* a user-specified value. A function can be defined so that it accepts *input arguments*, which are objects that are to be passed to the encapsulated code.  \n",
    "</div>"
   ]
  },
  {
   "cell_type": "markdown",
   "metadata": {},
   "source": [
    "## The `def` Statement\n",
    "Similar to `if`, `else`, and `for`, the `def` statement is reserved by the Python grammar to signify the definition of functions (and a few other things that we'll cover later). The following is the general syntax for defining a Python function:\n",
    "\n",
    "```\n",
    "def <function name>(<function signature>):\n",
    "    \"\"\" documentation string \"\"\"\n",
    "    <encapsulated code>\n",
    "    return <object>\n",
    "```\n",
    "\n",
    "- `<function name>` can be any valid variable name, and *must* be followed by parentheses and then a colon .\n",
    "- `<function signature>` specifies the input arguments to the function, and may be left blank (if the function does not accept any input arguments).\n",
    "- The documentation string may span multiple lines, and should indicate what the function's purpose is. It is optional.\n",
    "- `<encapsulated code>` can consist of general Python code.\n",
    "- `return` is used to indicate what object should be returned, whenever the function is called.\n",
    " \n",
    "The `return` statement is also reserved by Python. It denotes the end of a function - if reached, a `return` statement immediately concludes the execution of the function and returns the specified value. \n",
    "\n",
    "Note that, like an if-statement and a for-loop, the content of a function is indicated by indentation:\n",
    "***\n",
    "```python\n",
    "# wrong indentation\n",
    "def bad_func1():\n",
    "x = 1\n",
    "    return 1\n",
    "```\n",
    "***\n",
    "```python\n",
    "# wrong indentation\n",
    "def bad_func2():\n",
    "    x = 1\n",
    "return 1\n",
    "```\n",
    "***\n",
    "```python\n",
    "# missing colon\n",
    "def bad_func3()\n",
    "    x = 1\n",
    "    return 1\n",
    "```\n",
    "***\n",
    "```python\n",
    "# missing parenthesis\n",
    "def bad_func4:\n",
    "    x = 1\n",
    "    return 1\n",
    "```\n",
    "\n",
    "***\n",
    "```python\n",
    "# this is ok\n",
    "def ok_func():\n",
    "    x = 1\n",
    "    return 1\n",
    "```"
   ]
  },
  {
   "cell_type": "markdown",
   "metadata": {},
   "source": [
    "## The `return` Statement\n",
    "In general, any Python object can follow a function's `return` statement. Furthermore, an **empty** `return` statement can be specified, or the **return** statement of a function can be omitted altogether. In both of these cases, *the function will return the `None` object*.\n",
    "\n",
    "```python\n",
    "# this function returns `None`\n",
    "# an \"empty\" return statement\n",
    "def f():\n",
    "    x = 1\n",
    "    return\n",
    "```\n",
    "\n",
    "```python\n",
    "# this function returns `None`\n",
    "# return statement is omitted\n",
    "def f():\n",
    "    x = 1\n",
    "```\n",
    "\n",
    "<div class=\"alert alert-block alert-danger\"> \n",
    "**Warning**: Take care to not mistakenly omit a return statement or leave it blank. You will still be able to call your function, but it will return `None` no matter what!\n",
    "</div>\n",
    "\n",
    "A function also need not have any additional code beyond its return statement. For example, we can make use of `sum` and a generator comprehension (see the previous section of this module) to shorten our `count_vowel` function:\n",
    "\n",
    "```python\n",
    "# the returned object of a function can be specified straight-away\n",
    "def count_vowels(in_string): \n",
    "    \"\"\" Returns the number of vowels contained in `in_string`\"\"\"\n",
    "    return sum(1 for char in in_string if char.lower() in \"aeiou\")\n",
    "```"
   ]
  },
  {
   "cell_type": "markdown",
   "metadata": {},
   "source": [
    "## Inline Functions\n",
    "Functions can be defined in-line, as a single return statement:\n",
    "\n",
    "```python\n",
    "def add_2(x):\n",
    "    return x + 2\n",
    "```\n",
    "\n",
    "can be rewritten as:\n",
    "\n",
    "```python\n",
    "def add_2(x): return x + 2\n",
    "```\n",
    "\n",
    "This should be used sparingly, only for exceedingly simple functions that can be easily understood without docstrings."
   ]
  },
  {
   "cell_type": "markdown",
   "metadata": {},
   "source": [
    "## Input Arguments\n",
    "A sequence of comma-separated variable names can specified in the function signature to indicated *positional* arguments for the function. For example, the finally specifies `x`, `lower`, and `upper` as input arguments to a function, `is_bounded`:\n",
    "\n",
    "```python\n",
    "def is_bounded(x, lower, upper):\n",
    "    return lower <= x <= upper\n",
    "```\n",
    "\n",
    "This function can then be passed its arguments in several way:\n",
    "\n",
    "#### positional inputs:\n",
    "The objects passed to `is_bounded` will be assigned to its input variables based on their positions. That is, `is_bounded(3, 2, 4)` will assign `x=3`, `lower=2`, and `upper=4`, in accordance with the positional ordering of the function's input arguments:\n",
    "\n",
    "```python\n",
    "# evaluate: 2 <= 3 <= 4\n",
    "# specifying inputs based on position\n",
    ">>> is_bounded(3, 2, 4)\n",
    "True\n",
    "```\n",
    "\n",
    "Feeding a function too-few or too-many arguments will raise a `TypeError`\n",
    "```python\n",
    "# too few inputs: raises error\n",
    ">>> is_bounded(3)\n",
    "True\n",
    "\n",
    "# too many inputs: raises error\n",
    ">>> is_bounded(1, 2, 3, 4)\n",
    "True\n",
    "```\n",
    "\n",
    "#### named inputs:\n",
    "You can provide explicit names when specifying the input arguments of the function, in which case their ordering does not matter. This is very nice for writing clear and flexible code:\n",
    "```python\n",
    "# evaluate: 2 <= 3 <= 4\n",
    "# specify inputs using explicit input names\n",
    ">>> is_bounded(lower=2, x=3, upper=4)\n",
    "True\n",
    "```\n",
    "\n",
    "You can mix-and-match positional and named input by using position-based inputs first:\n",
    "\n",
    "```python\n",
    "# evaluate: 2 <= 3 <= 4\n",
    "# `x` is specified based on position\n",
    "# `lower` and `upper` are specified by name\n",
    ">>> is_bounded(3, upper=4, lower=2)\n",
    "True\n",
    "```"
   ]
  },
  {
   "cell_type": "markdown",
   "metadata": {},
   "source": [
    "### Default Arguments\n",
    "You can specify default values for input arguments to a function. Their default values are utilized if a user does not specify these inputs when calling the function. Consider out `count_vowels` function.\n",
    "\n",
    "```python\n",
    "def count_vowels(in_string, include_y=False): \n",
    "    \"\"\" Returns the number of vowels contained in `in_string`\"\"\"\n",
    "    vowels = \"aeiou\"\n",
    "    if include_y:\n",
    "        vowels += \"y\"  # include \"y\" in vowels  \n",
    "    return sum(1 for char in in_string if char.lower() in vowels)\n",
    "```"
   ]
  },
  {
   "cell_type": "code",
   "execution_count": 18,
   "metadata": {},
   "outputs": [],
   "source": [
    "def f(x, y, *, z=3):\n",
    "    return y"
   ]
  },
  {
   "cell_type": "code",
   "execution_count": 21,
   "metadata": {},
   "outputs": [
    {
     "ename": "TypeError",
     "evalue": "f() takes 2 positional arguments but 4 were given",
     "output_type": "error",
     "traceback": [
      "\u001b[1;31m---------------------------------------------------------------------------\u001b[0m",
      "\u001b[1;31mTypeError\u001b[0m                                 Traceback (most recent call last)",
      "\u001b[1;32m<ipython-input-21-ce6385d5a9f7>\u001b[0m in \u001b[0;36m<module>\u001b[1;34m()\u001b[0m\n\u001b[1;32m----> 1\u001b[1;33m \u001b[0mf\u001b[0m\u001b[1;33m(\u001b[0m\u001b[1;36m1\u001b[0m\u001b[1;33m,\u001b[0m\u001b[1;36m2\u001b[0m\u001b[1;33m,\u001b[0m\u001b[1;36m2\u001b[0m\u001b[1;33m,\u001b[0m\u001b[1;36m2\u001b[0m\u001b[1;33m)\u001b[0m\u001b[1;33m\u001b[0m\u001b[0m\n\u001b[0m",
      "\u001b[1;31mTypeError\u001b[0m: f() takes 2 positional arguments but 4 were given"
     ]
    }
   ],
   "source": [
    "f(1,2,2,2)"
   ]
  },
  {
   "cell_type": "code",
   "execution_count": 15,
   "metadata": {},
   "outputs": [
    {
     "data": {
      "text/plain": [
       "True"
      ]
     },
     "execution_count": 15,
     "metadata": {},
     "output_type": "execute_result"
    }
   ],
   "source": [
    "is_bounded(3, 2, 4)"
   ]
  },
  {
   "cell_type": "code",
   "execution_count": 16,
   "metadata": {},
   "outputs": [
    {
     "data": {
      "text/plain": [
       "True"
      ]
     },
     "execution_count": 16,
     "metadata": {},
     "output_type": "execute_result"
    }
   ],
   "source": [
    "is_bounded(3, upper=4, lower=2)"
   ]
  },
  {
   "cell_type": "code",
   "execution_count": 7,
   "metadata": {},
   "outputs": [],
   "source": [
    "def is_bounded(x, lower, upper):\n",
    "    return lower <= x <= upper"
   ]
  },
  {
   "cell_type": "code",
   "execution_count": 1,
   "metadata": {},
   "outputs": [
    {
     "data": {
      "text/plain": [
       "5"
      ]
     },
     "execution_count": 1,
     "metadata": {},
     "output_type": "execute_result"
    }
   ],
   "source": [
    "def count_vowels(in_string): return sum(1 for char in in_string if char.lower() in \"aeiou\")\n",
    "count_vowels(\"Hi my name is Ryan\")"
   ]
  },
  {
   "cell_type": "code",
   "execution_count": 24,
   "metadata": {},
   "outputs": [],
   "source": [
    "def count_vowels(in_string):\n",
    "    \"\"\" Returns the number of vowels contained in `in_string`\"\"\"\n",
    "    vowel_count = 0\n",
    "    vowels = \"aeiou\"\n",
    "    \n",
    "    for char in in_string:\n",
    "        if char.lower() in vowels:\n",
    "            vowel_count += 1  # equivalent to vowel_count = vowel_count + 1\n",
    "    return vowel_count"
   ]
  },
  {
   "cell_type": "code",
   "execution_count": 25,
   "metadata": {},
   "outputs": [
    {
     "data": {
      "text/plain": [
       "4"
      ]
     },
     "execution_count": 25,
     "metadata": {},
     "output_type": "execute_result"
    }
   ],
   "source": [
    "count_vowels(\"envelope\")"
   ]
  },
  {
   "cell_type": "code",
   "execution_count": 32,
   "metadata": {},
   "outputs": [
    {
     "data": {
      "text/plain": [
       "5"
      ]
     },
     "execution_count": 32,
     "metadata": {},
     "output_type": "execute_result"
    }
   ],
   "source": []
  },
  {
   "cell_type": "code",
   "execution_count": null,
   "metadata": {},
   "outputs": [],
   "source": []
  }
 ],
 "metadata": {
  "kernelspec": {
   "display_name": "Python 3",
   "language": "python",
   "name": "python3"
  },
  "language_info": {
   "codemirror_mode": {
    "name": "ipython",
    "version": 3
   },
   "file_extension": ".py",
   "mimetype": "text/x-python",
   "name": "python",
   "nbconvert_exporter": "python",
   "pygments_lexer": "ipython3",
   "version": "3.6.3"
  }
 },
 "nbformat": 4,
 "nbformat_minor": 2
}
