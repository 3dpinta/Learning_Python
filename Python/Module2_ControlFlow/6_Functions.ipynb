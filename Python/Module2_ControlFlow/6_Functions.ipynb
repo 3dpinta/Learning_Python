{
 "cells": [
  {
   "cell_type": "markdown",
   "metadata": {},
   "source": [
    "# Section 6: Functions\n",
    "Defining a function allows you to encapsulate a segment of code, specifying the information that enters and leaves the code, allowing you to make use of this \"code-capsule\" repeatedly and in many different contexts. For example, suppose you want to count how many vowels are in a string. The following defines a function that accomplishes this:\n",
    "\n",
    "```python\n",
    "def count_vowels(in_string):\n",
    "    \"\"\" Returns the number of vowels contained in `in_string`\"\"\"\n",
    "    vowel_count = 0\n",
    "    vowels = \"aeiou\"\n",
    "    \n",
    "    for char in in_string:\n",
    "        # make the character lowercased before seeing if it is a vowel\n",
    "        if char.lower() in vowels:\n",
    "            vowel_count += 1  # equivalent to vowel_count = vowel_count + 1\n",
    "    return vowel_count\n",
    "```\n",
    "\n",
    "Executing this code will define the *function* `count_vowel`. This function expects to be passed one object, represented by `in_string`, as an *input argument*, and it will *return* the number vowels stored in that object.  Invoking `count_vowel`, passing it an input object, is referred to as *calling* the function:\n",
    "\n",
    "```python\n",
    ">>> count_vowels(\"Hi my name is Ryan\")\n",
    "5\n",
    "```\n",
    "\n",
    "The great thing about this is that it can be used over and over!\n",
    "\n",
    "```python\n",
    ">>> count_vowels(\"Apple\")\n",
    "2\n",
    "\n",
    ">>> count_vowels(\"envelope\")\n",
    "4\n",
    "```"
   ]
  },
  {
   "cell_type": "code",
   "execution_count": 4,
   "metadata": {},
   "outputs": [],
   "source": [
    "def count_vowels(in_string):\n",
    "    \"\"\" Returns the number of vowels contained in `in_string`\"\"\"\n",
    "    vowel_count = 0\n",
    "    vowels = \"aeiou\"\n",
    "    \n",
    "    for char in in_string:\n",
    "        if char.lower() in vowels:\n",
    "            vowel_count += 1  # equivalent to vowel_count = vowel_count + 1\n",
    "    return vowel_count"
   ]
  },
  {
   "cell_type": "code",
   "execution_count": 8,
   "metadata": {},
   "outputs": [
    {
     "data": {
      "text/plain": [
       "4"
      ]
     },
     "execution_count": 8,
     "metadata": {},
     "output_type": "execute_result"
    }
   ],
   "source": [
    "count_vowels(\"envelope\")"
   ]
  },
  {
   "cell_type": "code",
   "execution_count": 6,
   "metadata": {},
   "outputs": [
    {
     "data": {
      "text/plain": [
       "5"
      ]
     },
     "execution_count": 6,
     "metadata": {},
     "output_type": "execute_result"
    }
   ],
   "source": [
    "count_vowels(\"Hi my name is Ryan\")"
   ]
  },
  {
   "cell_type": "code",
   "execution_count": null,
   "metadata": {},
   "outputs": [],
   "source": []
  }
 ],
 "metadata": {
  "kernelspec": {
   "display_name": "Python 3",
   "language": "python",
   "name": "python3"
  },
  "language_info": {
   "codemirror_mode": {
    "name": "ipython",
    "version": 3
   },
   "file_extension": ".py",
   "mimetype": "text/x-python",
   "name": "python",
   "nbconvert_exporter": "python",
   "pygments_lexer": "ipython3",
   "version": "3.6.3"
  }
 },
 "nbformat": 4,
 "nbformat_minor": 2
}
