{
 "cells": [
  {
   "cell_type": "markdown",
   "metadata": {},
   "source": [
    "# Basic and Advanced Indexing\n",
    "\n",
    "Thus far we have seen that we can access the contents of a NumPy array by specifying an integer or slice-object as an index for each one of its dimensions. \n",
    "\n",
    "```python\n",
    "# accessing the contents an array with \"basic indexing\"\n",
    ">>> import numpy as np\n",
    ">>> x = np.array([[ -5,   2,  0, -7],\n",
    "...               [ -1,   9,  3,  8],\n",
    "...               [ -3,  -3,  4,  6]])\n",
    "\n",
    "# access the column-1 of row-0 and row-2\n",
    ">>> x[::2, 1]\n",
    "array([ 2, -3])\n",
    "```\n",
    "\n",
    "However, NumPy also provides a sophisticated system of \"advanced indexing\", which permits us powerful means for accessing elements of an array that is flexible beyond specifying integers and slices and indices. For example, we can access all of the negative-valued elements from `x`:\n",
    "\n",
    "```python\n",
    "# An example of advanced indexing.\n",
    "# Access all negative elements in `x`\n",
    ">>> x[x < 0]\n",
    "array([-5, -7, -1, -3, -3])\n",
    "```\n",
    "\n",
    "This section is dedicated to understanding the capabilities of advanced indexing and its difference from basic indexing."
   ]
  },
  {
   "cell_type": "markdown",
   "metadata": {},
   "source": [
    "## Basic Indexing\n",
    "We begin this subsection by defining precisely what basic indexing is. Next, we will touch on each component of this definition, and lastly we will delve into the significance of basic indexing in the way it permits us to reference the underlying data of an array without copying it.\n",
    "\n",
    "<div class=\"alert alert-info\"> \n",
    "\n",
    "**Definition: Basic Indexing**: \n",
    "\n",
    "Given an $N$-dimensional array, `x`, `x[index]` invokes **basic indexing** whenever `index` is a tuple containing any combination of the following types of objects:\n",
    "\n",
    "- integers\n",
    "- [slice](http://www.pythonlikeyoumeanit.com/Module2_EssentialsOfPython/SequenceTypes.html#Slicing) objects (e.g. `slice(0, 2)`)\n",
    "- `Ellipsis` objects\n",
    "- [numpy.newaxis](http://www.pythonlikeyoumeanit.com/Module3_IntroducingNumpy/Broadcasting.html#Inserting-Size-1-Dimensions-into-An-Array) objects\n",
    "\n",
    "</div>\n",
    "\n",
    "Accessing the contents of an array via basic indexing *does not create a copy of those contents*. Rather, a \"view\" of the same underlying data is produced. This matter will be discussed in detail."
   ]
  },
  {
   "cell_type": "markdown",
   "metadata": {},
   "source": [
    "### Integers and slice objects\n",
    "Our discussion of [accessing data along multiple dimensions of a NumPy array](http://www.pythonlikeyoumeanit.com/Module3_IntroducingNumpy/AccessingDataAlongMultipleDimensions.html) already provided a comprehensive of the use of integers and slices to access the contents of an array. According to the preceding definition, *these were all examples of basic indexing*.\n",
    "\n",
    "To review the material discussed in that section, recall that one can access an individual element or a \"subsection\" of an $N$-dimensional array by specifying $N$ integers or slice-objects, or a combination of the two. We also saw that, when supplied fewer-than $N$ indices, NumPy will automatically \"fill-in\" the remaining indices with trailing slices. Keep in mind that the indices start at 0, such that the 4th column in `x` corresponds to column-3.\n",
    "\n",
    "```python \n",
    "# Accessing the element located\n",
    "# at row-1, last-column of `x`\n",
    ">>> x[1, -1]\n",
    "8\n",
    "\n",
    "# Access the subsection of `x`\n",
    "# contained within the first two rows\n",
    "# and the first three columns\n",
    ">>> x[:2, :3]\n",
    "array([[-5,  2,  0],\n",
    "       [-1,  9,  3]])\n",
    "\n",
    "# NumPy fills in \"trailing\" slices\n",
    "# if we don't supply as many indices\n",
    "# as there are dimensions in that array\n",
    ">>> x[0]  # equivalent to x[0, :]\n",
    "array([-5,  2,  0, -7])\n",
    "```\n",
    "\n",
    "Recall that the familiar [slicing](http://www.pythonlikeyoumeanit.com/Module2_EssentialsOfPython/SequenceTypes.html#Slicing) syntax actually forms `slice` objects \"behind the scenes\".\n",
    "\n",
    "```python\n",
    "# Reviewing the `slice` object\n",
    "\n",
    "# equivalent: x[:2, :3]\n",
    ">>> x[slice(None, 2), slice(None, 3)]\n",
    "array([[-5,  2,  0],\n",
    "       [-1,  9,  3]])\n",
    "```"
   ]
  },
  {
   "cell_type": "markdown",
   "metadata": {},
   "source": [
    "### N-dimensional Indices As Tuples\n",
    "According to its definition, we must supply our array-indices as a tuple in order to invoke basic indexing. As it turns out, we have been forming tuples of indices all along! That is, every time that we index into a an array using the syntax `x[i, j, k]`, we are actually forming a [tuple](http://www.pythonlikeyoumeanit.com/Module2_EssentialsOfPython/SequenceTypes.html#Tuples) containing those indices\n",
    "\n",
    "`x[i, j, k]` forms the tuple `(i, j, k)` and passes that to the array's \"get-item\" mechanism. Thus, `x[0, 3]` is equivalent to `x[(0, 3)]`. \n",
    "\n",
    "\n",
    "```python\n",
    "# N-dimensional indexing utilizes tuples:\n",
    "# `x[i, j, k]` is equivalent to `x[(i, j, k)]`\n",
    "\n",
    "# equivalent: x[1, -1]\n",
    ">>> x[(1, -1)]  \n",
    "8\n",
    "\n",
    "# equivalent: x[:2, :3]\n",
    ">>> x[(slice(None, 2), slice(None, 3))]  \n",
    "array([[-5,  2,  0],\n",
    "       [-1,  9,  3]])\n",
    "\n",
    "# equivalent: x[0]\n",
    ">>> x[(0,)]\n",
    "array([-5,  2,  0, -7])\n",
    "```\n",
    "\n",
    "All objects used in this \"get-item\" syntax are packed into a tuple. For instance, `x[0, (0, 1)]` is equivalent to `x[(0, (0, 1))]`. You may be surprised to find that this is a valid index, however *it does not invoke basic indexing*; the index used here is a tuple that contains an integer *and another tuple*, which is not permitted by the rules of basic indexing. We will dive into this form of index when we discuss advanced indexing."
   ]
  },
  {
   "cell_type": "code",
   "execution_count": 42,
   "metadata": {},
   "outputs": [
    {
     "data": {
      "text/plain": [
       "array([-5,  2])"
      ]
     },
     "execution_count": 42,
     "metadata": {},
     "output_type": "execute_result"
    }
   ],
   "source": [
    "x[0, (0, 1)]"
   ]
  },
  {
   "cell_type": "markdown",
   "metadata": {},
   "source": [
    "### Ellipsis and Newaxis objects\n",
    "Recall from our discussion of broadcasting, that the `numpy.newaxis` object can be passed as an index to an array, in order to [insert a size-1 dimension into the array](http://www.pythonlikeyoumeanit.com/Module3_IntroducingNumpy/Broadcasting.html#Inserting-Size-1-Dimensions-into-An-Array).\n",
    "\n",
    "```python\n",
    "# inserting size-1 dimensions with `np.newaxis`\n",
    ">>> x.shape\n",
    ">>> x[np.newaxis, :, :, np.newaxis].shape\n",
    "(1, 3, 4, 1)\n",
    "\n",
    "# forming the index as an explicit tuple\n",
    ">>> x[(np.newaxis, slice(None), slice(None), np.newaxis)].shape\n",
    "(1, 3, 4, 1)\n",
    "```\n",
    "\n",
    "We can also use the built-in `Ellipsis` object in order to insert slices into our index, such that the index has as many entries as the array has dimensions. In the same way that `:` can be used to represent a `slice` object, `...` can be used to represent an `Ellipsis` object.\n",
    "\n",
    "```python\n",
    ">>> y = np.array([[[ 0,  1,  2,  3],\n",
    "...                [ 4,  5,  6,  7]],\n",
    "...        \n",
    "...               [[ 8,  9, 10, 11],\n",
    "...                [12, 13, 14, 15]],\n",
    "...        \n",
    "...               [[16, 17, 18, 19],\n",
    "...                [20, 21, 22, 23]]])\n",
    "\n",
    "# equivalent: `y[:, :, 0]`\n",
    ">>> y[..., 0]\n",
    "array([[ 0,  4],\n",
    "       [ 8, 12],\n",
    "       [16, 20]])\n",
    "\n",
    "# using an explicit tuple\n",
    ">>> y[(Ellipsis, 0)]\n",
    "array([[ 0,  4],\n",
    "       [ 8, 12],\n",
    "       [16, 20]])\n",
    "\n",
    "# equivalent: `y[0, :, 1]`\n",
    ">>> y[0, ..., 1]\n",
    "array([1, 5])\n",
    "```\n",
    "\n",
    "An index cannot possess more than one `Ellipsis` entry. This can be extremely useful when working with arrays of varying dimensionalities. To access column-0 along all dimensions of an array, `z`, would look like `z[:, 0]` for a 2D array, `z[:, :, 0]` for a 3D array, and so on. `z[..., 0]` succinctly encapsulates all iterations of this. "
   ]
  },
  {
   "cell_type": "markdown",
   "metadata": {},
   "source": [
    "***\n",
    "\n",
    "**Reading Comprehension: Basic Indexing**\n",
    "\n",
    "Given a shape-(4, 3) array:\n",
    "\n",
    "```python\n",
    ">>> arr = np.array([[ 0,  1,  2,  3],\n",
    "...                 [ 4,  5,  6,  7],\n",
    "...                 [ 8,  9, 10, 11]])\n",
    "```\n",
    "\n",
    "which of the following indexing schemes *fails* to perform basic indexing. That is, in which instances does the index used does not satisfy the rules of basic indexing?\n",
    "\n",
    " - `arr[0]`\n",
    " - `arr[:-1, 0]`\n",
    " - `arr[(2, 3)]`\n",
    " - `arr[np.array([2, 3])]`\n",
    " - `arr[(0, 1), (2, 3)]`\n",
    "\n",
    "***"
   ]
  },
  {
   "cell_type": "code",
   "execution_count": 39,
   "metadata": {},
   "outputs": [
    {
     "data": {
      "text/plain": [
       "array([[ 0,  1,  2,  3],\n",
       "       [ 4,  5,  6,  7],\n",
       "       [ 8,  9, 10, 11]])"
      ]
     },
     "execution_count": 39,
     "metadata": {},
     "output_type": "execute_result"
    }
   ],
   "source": [
    "np.arange(12).reshape(3,4)"
   ]
  },
  {
   "cell_type": "markdown",
   "metadata": {},
   "source": [
    "## Views of an Array\n",
    "As posited "
   ]
  }
 ],
 "metadata": {
  "kernelspec": {
   "display_name": "Python 3",
   "language": "python",
   "name": "python3"
  },
  "language_info": {
   "codemirror_mode": {
    "name": "ipython",
    "version": 3
   },
   "file_extension": ".py",
   "mimetype": "text/x-python",
   "name": "python",
   "nbconvert_exporter": "python",
   "pygments_lexer": "ipython3",
   "version": "3.6.3"
  }
 },
 "nbformat": 4,
 "nbformat_minor": 2
}
