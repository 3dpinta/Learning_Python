{
 "cells": [
  {
   "cell_type": "markdown",
   "metadata": {},
   "source": [
    "# Basic and Advanced Indexing\n",
    "\n",
    "Thus far we have seen that we can access the contents of a NumPy array by specifying an integer or slice-object as an index for each one of its dimensions. \n",
    "\n",
    "```python\n",
    "# accessing the contents an array with \"basic indexing\"\n",
    ">>> import numpy as np\n",
    "x = np.array([[ -5,   2,  0, -7],\n",
    "              [ -1,   9,  3,  8],\n",
    "              [ -3,  -3,  4,  6]])\n",
    "\n",
    "# access the column-1 of row-0 and row-2\n",
    ">>> x[::2, 1]\n",
    "array([ 2, -3])\n",
    "```\n",
    "\n",
    "However, NumPy also provides a sophisticated system of \"advanced indexing\", which permits us powerful means for accessing elements of an array that is flexible beyond specifying integers and slices and indices. For example, we can access all of the negative-valued elements from `x`:\n",
    "\n",
    "```python\n",
    "# An example of advanced indexing.\n",
    "# Access all negative elements in `x`\n",
    ">>> x[x < 0]\n",
    "array([-5, -7, -1, -3, -3])\n",
    "```\n",
    "\n",
    "This section is dedicated to understanding the capabilities of advanced indexing and its difference from basic indexing. First, we will "
   ]
  },
  {
   "cell_type": "markdown",
   "metadata": {},
   "source": [
    "## Basic Indexing\n",
    "\n",
    "### Review\n",
    "Our discussion of [accessing data along multiple dimensions of a NumPy array](http://www.pythonlikeyoumeanit.com/Module3_IntroducingNumpy/AccessingDataAlongMultipleDimensions.html) already provided a nearly-comprehensive overview of basic indexing. To review the material discussed in that section, recall that one can access an individual element or a \"subsection\" of an $N$-dimensional array by specifying $N$ integers or slice-objects, or a combination of the two. We also saw that, when supplied fewer-than $N$ indices, NumPy will automatically \"fill-in\" the remaining indices with trailing slices. Keep in mind that the indices start at 0, such that the 4th column in `x` corresponds to column-3.\n",
    "\n",
    "```python \n",
    "# Reviewing basic indexing.\n",
    "\n",
    "# Accessing the element located\n",
    "# at row-1, last-column of `x`\n",
    ">>> x[1, -1]\n",
    "8\n",
    "\n",
    "# Access the subsection of `x`\n",
    "# contained within the first two rows\n",
    "# and the first three columns\n",
    ">>> x[:2, :3]\n",
    "array([[-5,  2,  0],\n",
    "       [-1,  9,  3]])\n",
    "\n",
    "# NumPy fills in \"trailing\" slices\n",
    "# if we don't supply as many indices\n",
    "# as there are dimensions in that array\n",
    ">>> x[0]  # equivalent to x[0, :]\n",
    "array([-5,  2,  0, -7])\n",
    "```\n",
    "\n",
    "### N-dimensional Indices Are Tuples\n",
    "To understand "
   ]
  }
 ],
 "metadata": {
  "kernelspec": {
   "display_name": "Python 3",
   "language": "python",
   "name": "python3"
  },
  "language_info": {
   "codemirror_mode": {
    "name": "ipython",
    "version": 3
   },
   "file_extension": ".py",
   "mimetype": "text/x-python",
   "name": "python",
   "nbconvert_exporter": "python",
   "pygments_lexer": "ipython3",
   "version": "3.6.3"
  }
 },
 "nbformat": 4,
 "nbformat_minor": 2
}
