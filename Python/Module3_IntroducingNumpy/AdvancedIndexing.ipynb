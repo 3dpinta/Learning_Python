{
 "cells": [
  {
   "cell_type": "markdown",
   "metadata": {},
   "source": [
    "# Advanced Indexing\n",
    "\n",
    "We conclude our discussion of indexing into N-dimensional NumPy arrays by understanding advanced indexing. Unlike basic indexing, which allows us to access distinct elements and regular slices of an array, advanced indexing is significantly more flexible. For example, it permits the use of *boolean-valued* arrays as indices, \n",
    "\n",
    "```python\n",
    "# Use a boolean-valued array to access\n",
    "# the diagonal values of an array\n",
    ">>> import numpy as np\n",
    "\n",
    ">>> x = np.array([[0, 1, 2],\n",
    "...               [3, 4, 5],\n",
    "...               [6, 7, 8]])\n",
    "\n",
    "# Specify `True` wherever we want to access \n",
    "# the the entry of `x`\n",
    ">>> bool_index = np.array([[ True, False, False],\n",
    "...                        [False,  True, False],\n",
    "...                        [False, False,  True]])\n",
    "\n",
    ">>> x[bool_index]\n",
    "array([0, 4, 8])\n",
    "```\n",
    "\n",
    "Additionally, arrays of integers can be used to access arbitrary and even repeated entries from an array,\n",
    "\n",
    "```python\n",
    "# Construct the following 2D array\n",
    "# from the contents of `x`:\n",
    "#\n",
    "#     [[x[0, 0], x[0, 1]],\n",
    "#      [x[2, 2], x[2, 2]]]\n",
    ">>> rows = np.array([[0, 0], \n",
    "...                  [2, 2]])\n",
    "\n",
    ">>> cols = np.array([[0, 1], \n",
    "...                  [2, 2]])\n",
    "\n",
    ">>> x[rows, cols]\n",
    "array([[0, 1],\n",
    "       [8, 8]])\n",
    "```\n",
    "\n",
    "Unlike basic indexing, advanced indexing always produces a copy of the underlying data.\n",
    "```python\n",
    ">>> np.shares_memory(x, x[bool_index])\n",
    "False\n",
    "\n",
    ">>> np.shares_memory(x, x[rows, cols])\n",
    "False\n",
    "```\n",
    "The flexibility permitted by advanced indexing makes it a difficult topic to treat exhaustively without delving into somewhat terse and abstract notation. It is best to refer to [the official documentation](https://docs.scipy.org/doc/numpy/reference/arrays.indexing.html#advanced-indexing) for such a treatment of the topic. Here, we will discuss the essential aspects of advanced indexing, with the aim of the discussion being  both thorough and accessible."
   ]
  },
  {
   "cell_type": "markdown",
   "metadata": {},
   "source": [
    "<div class=\"alert alert-info\"> \n",
    "\n",
    "**Definition: Advanced Indexing**: \n",
    "\n",
    "Given an $N$-dimensional array, `x`, `x[index]` invokes **advanced indexing** whenever `index` is:\n",
    "\n",
    "- an integer-type or boolean-type `numpy.ndarray`\n",
    "- a `tuple` with at least one *sequence*-type object as an element\n",
    "\n",
    "Accessing the contents of an array via advanced indexing *always returns a copy of those contents*, whereas basic indexing returns a view.\n",
    "\n",
    "</div>"
   ]
  },
  {
   "cell_type": "markdown",
   "metadata": {},
   "source": [
    "## Integer Array Indexing\n",
    "\n",
    "### Indexing into 1-Dimensional Arrays\n",
    "Using an integer-type array as an index allows us to access the contents of an array arbitrarily, permitting items to be accessed out of order, and even repeatedly. Consider the following 1-dimensional array.\n",
    "\n",
    "```python\n",
    "y = np.array([ 0, -1, -2, -3, -4, -5])\n",
    "```\n",
    "\n",
    "See that we can access its contents in an unpatterned way, which is not permissible via basic index:\n",
    "\n",
    "```python\n",
    "# advanced indexing with an integer-array\n",
    ">>> index = np.array([2, 4, 0, 4, 4, 4])\n",
    ">>> y[index]\n",
    "array([-2, -4,  0, -4, -4, -4])\n",
    "```\n"
   ]
  },
  {
   "cell_type": "markdown",
   "metadata": {},
   "source": [
    "The specification for accessing the contents of `y` in this way is straight-forward to interpret. Each entry of the index-array is used to access an element from `y`, as illustrated here:"
   ]
  },
  {
   "cell_type": "markdown",
   "metadata": {},
   "source": [
    "\\begin{equation}\n",
    "\\left(\n",
    "\\begin{array}{*{6}{X}}\n",
    "  y[2] & y[4] & y[0] & y[4] & y[4] & y[4]\n",
    "\\end{array}\n",
    "\\right)\n",
    "% \n",
    "\\rightarrow\n",
    "\\left(\n",
    "\\begin{array}{*{6}{X}}\n",
    "  -2 & -4 & 0 & -4 & -4 & -4\n",
    "\\end{array}\n",
    "\\right)\n",
    "\\end{equation}"
   ]
  },
  {
   "cell_type": "markdown",
   "metadata": {},
   "source": [
    "This returns a *copy* of the data, as do all occurrences of advanced indexing."
   ]
  },
  {
   "cell_type": "markdown",
   "metadata": {},
   "source": [
    "```python\n",
    "# advanced indexing returns a copy\n",
    ">>> np.shares_memory(y, y[index])\n",
    "```"
   ]
  },
  {
   "cell_type": "markdown",
   "metadata": {},
   "source": [
    "The indexing array can have an arbitrary shape; the resulting array will match that shape.\n",
    "\n",
    "```python\n",
    "# utilizing a 2D integer array as an index\n",
    ">>> index_2d = np.array([[ 1,  2,  0],\n",
    "...                      [ 5,  5,  5],\n",
    "...                      [ 2,  3,  4]])\n",
    "\n",
    ">>> y[index_2d]\n",
    "array([[-1, -2,  0],\n",
    "       [-5, -5, -5],\n",
    "       [-2, -3, -4]])\n",
    "```"
   ]
  },
  {
   "cell_type": "markdown",
   "metadata": {},
   "source": [
    "\\begin{equation}\n",
    "\\left(\n",
    "\\begin{array}{*{3}{X}}\n",
    "  y[1] & y[2] & y[0] \\\\\n",
    "  y[5] & y[5] & y[5] \\\\\n",
    "  y[2] & y[3] & y[4]\n",
    "\\end{array}\n",
    "\\right)\n",
    "% \n",
    "\\rightarrow\n",
    "\\left(\n",
    "\\begin{array}{*{3}{X}}\n",
    "  -1 & -2 & 0 \\\\\n",
    "  -5 & -5 & -5 \\\\\n",
    "  -2 & -3 & -4\n",
    "\\end{array}\n",
    "\\right)\n",
    "\\end{equation}"
   ]
  },
  {
   "cell_type": "markdown",
   "metadata": {},
   "source": [
    "### Indexing into N-Dimensional Arrays\n",
    "\n",
    "In the preceding examples, we specified a single index-array array to access the contents along the single dimension of a flat array. As you may guess, in order to perform this style  "
   ]
  },
  {
   "cell_type": "code",
   "execution_count": 50,
   "metadata": {},
   "outputs": [
    {
     "name": "stdout",
     "output_type": "stream",
     "text": [
      "\\newcolumntype{X}{D{.}{.}{1,0}}\n",
      "\\begin{array}{*{3}{X}}\n",
      "  1 & 2 & 0 \\\\\n",
      "  5 & 5 & 5 \\\\\n",
      "  2 & 3 & 4\n",
      "\\end{array}\n"
     ]
    }
   ],
   "source": [
    "print(to_latex(index_2d))"
   ]
  },
  {
   "cell_type": "code",
   "execution_count": 43,
   "metadata": {},
   "outputs": [
    {
     "data": {
      "text/plain": [
       "array([[-1, -2,  0],\n",
       "       [-5, -5, -5],\n",
       "       [-2, -3, -4]])"
      ]
     },
     "execution_count": 43,
     "metadata": {},
     "output_type": "execute_result"
    }
   ],
   "source": [
    "y[index_2d]"
   ]
  },
  {
   "cell_type": "code",
   "execution_count": 42,
   "metadata": {},
   "outputs": [],
   "source": [
    ">>> index_2d = np.array([[ 1,  2,  0],\n",
    "...                      [-1, -1, -1],\n",
    "...                      [ 2,  3,  4]])"
   ]
  },
  {
   "cell_type": "code",
   "execution_count": 40,
   "metadata": {},
   "outputs": [
    {
     "data": {
      "text/plain": [
       "array([[ 1,  2,  0],\n",
       "       [-1, -1, -1],\n",
       "       [ 2,  3,  4]])"
      ]
     },
     "execution_count": 40,
     "metadata": {},
     "output_type": "execute_result"
    }
   ],
   "source": [
    "np.array([1, 2, 0, -1, -1, -1, 2, 3, 4]).reshape(3,3) "
   ]
  },
  {
   "cell_type": "markdown",
   "metadata": {},
   "source": [
    "## Boolean Array Indexing"
   ]
  },
  {
   "cell_type": "code",
   "execution_count": 22,
   "metadata": {},
   "outputs": [
    {
     "ename": "IndexError",
     "evalue": "boolean index did not match indexed array along dimension 1; dimension is 3 but corresponding boolean dimension is 1",
     "output_type": "error",
     "traceback": [
      "\u001b[1;31m---------------------------------------------------------------------------\u001b[0m",
      "\u001b[1;31mIndexError\u001b[0m                                Traceback (most recent call last)",
      "\u001b[1;32m<ipython-input-22-8645d561a037>\u001b[0m in \u001b[0;36m<module>\u001b[1;34m()\u001b[0m\n\u001b[1;32m----> 1\u001b[1;33m \u001b[0mx\u001b[0m\u001b[1;33m[\u001b[0m\u001b[0mnp\u001b[0m\u001b[1;33m.\u001b[0m\u001b[0marray\u001b[0m\u001b[1;33m(\u001b[0m\u001b[1;33m[\u001b[0m\u001b[1;33m[\u001b[0m\u001b[1;32mTrue\u001b[0m\u001b[1;33m]\u001b[0m\u001b[1;33m,\u001b[0m \u001b[1;33m[\u001b[0m\u001b[1;32mTrue\u001b[0m\u001b[1;33m]\u001b[0m\u001b[1;33m,\u001b[0m \u001b[1;33m[\u001b[0m\u001b[1;32mTrue\u001b[0m\u001b[1;33m]\u001b[0m\u001b[1;33m]\u001b[0m\u001b[1;33m)\u001b[0m\u001b[1;33m]\u001b[0m\u001b[1;33m\u001b[0m\u001b[0m\n\u001b[0m",
      "\u001b[1;31mIndexError\u001b[0m: boolean index did not match indexed array along dimension 1; dimension is 3 but corresponding boolean dimension is 1"
     ]
    }
   ],
   "source": [
    "x[np.array([[True], [True], [True]])]"
   ]
  },
  {
   "cell_type": "code",
   "execution_count": 18,
   "metadata": {},
   "outputs": [],
   "source": [
    ">>> x = np.array([[0, 1, 2],\n",
    "...               [3, 4, 5],\n",
    "...               [6, 7, 8]])"
   ]
  },
  {
   "cell_type": "code",
   "execution_count": 16,
   "metadata": {},
   "outputs": [],
   "source": [
    "x[rows, cols] *= 33"
   ]
  },
  {
   "cell_type": "code",
   "execution_count": 17,
   "metadata": {},
   "outputs": [
    {
     "data": {
      "text/plain": [
       "array([[  0,  33,   2],\n",
       "       [  3,   4,   5],\n",
       "       [  6,   7, 264]])"
      ]
     },
     "execution_count": 17,
     "metadata": {},
     "output_type": "execute_result"
    }
   ],
   "source": [
    "x"
   ]
  },
  {
   "cell_type": "code",
   "execution_count": 3,
   "metadata": {},
   "outputs": [],
   "source": [
    "\n"
   ]
  },
  {
   "cell_type": "code",
   "execution_count": 5,
   "metadata": {},
   "outputs": [],
   "source": [
    "index = np.array([[True, False, False], [False, True, False], [False, False, True]])"
   ]
  },
  {
   "cell_type": "code",
   "execution_count": 6,
   "metadata": {},
   "outputs": [
    {
     "data": {
      "text/plain": [
       "array([[ True, False, False],\n",
       "       [False,  True, False],\n",
       "       [False, False,  True]], dtype=bool)"
      ]
     },
     "execution_count": 6,
     "metadata": {},
     "output_type": "execute_result"
    }
   ],
   "source": [
    "index"
   ]
  },
  {
   "cell_type": "markdown",
   "metadata": {},
   "source": [
    "## Links to Official Documentation\n",
    "\n",
    "- [Advanced Indexing](https://docs.scipy.org/doc/numpy/reference/arrays.indexing.html#advanced-indexing)"
   ]
  }
 ],
 "metadata": {
  "kernelspec": {
   "display_name": "Python 3",
   "language": "python",
   "name": "python3"
  },
  "language_info": {
   "codemirror_mode": {
    "name": "ipython",
    "version": 3
   },
   "file_extension": ".py",
   "mimetype": "text/x-python",
   "name": "python",
   "nbconvert_exporter": "python",
   "pygments_lexer": "ipython3",
   "version": "3.6.3"
  }
 },
 "nbformat": 4,
 "nbformat_minor": 2
}
