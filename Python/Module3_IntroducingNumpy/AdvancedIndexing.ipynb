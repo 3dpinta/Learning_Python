{
 "cells": [
  {
   "cell_type": "markdown",
   "metadata": {},
   "source": [
    "# Advanced Indexing\n",
    "\n",
    "We conclude our discussion of indexing into N-dimensional NumPy arrays by understanding advanced indexing. Unlike basic indexing, which allows us to access distinct elements and regular slices of an array, advanced indexing is significantly more flexible. For example, it permits the use of *boolean-valued* arrays as indices, \n",
    "\n",
    "```python\n",
    "# Use a boolean-valued array to access\n",
    "# the diagonal values of an array\n",
    ">>> import numpy as np\n",
    "\n",
    ">>> x = np.array([[0, 1, 2],\n",
    "...               [3, 4, 5],\n",
    "...               [6, 7, 8]])\n",
    "\n",
    "# Specify `True` wherever we want to access \n",
    "# the the entry of `x`\n",
    ">>> bool_index = np.array([[ True, False, False],\n",
    "...                        [False,  True, False],\n",
    "...                        [False, False,  True]])\n",
    "\n",
    ">>> x[bool_index]\n",
    "array([0, 4, 8])\n",
    "```\n",
    "\n",
    "Additionally, arrays of integers can be used to access arbitrary and even repeated entries from an array,\n",
    "\n",
    "```python\n",
    "# Construct the following 2D array\n",
    "# from the contents of `x`:\n",
    "#\n",
    "#     [[x[0, 0], x[0, 1]],\n",
    "#      [x[2, 2], x[2, 2]]]\n",
    ">>> rows = np.array([[0, 0], \n",
    "...                  [2, 2]])\n",
    "\n",
    ">>> cols = np.array([[0, 1], \n",
    "...                  [2, 2]])\n",
    "\n",
    ">>> x[rows, cols]\n",
    "array([[0, 1],\n",
    "       [8, 8]])\n",
    "```\n",
    "\n",
    "Unlike basic indexing, advanced indexing always produces a copy of the underlying data.\n",
    "```python\n",
    ">>> np.shares_memory(x, x[bool_index])\n",
    "False\n",
    "\n",
    ">>> np.shares_memory(x, x[rows, cols])\n",
    "False\n",
    "```\n",
    "The flexibility permitted by advanced indexing makes it a difficult topic to treat exhaustively without delving into somewhat terse and abstract notation. It is best to refer to [the official documentation](https://docs.scipy.org/doc/numpy/reference/arrays.indexing.html#advanced-indexing) for such a treatment of the topic. Here, we will discuss the essential aspects of advanced indexing, with the aim of the discussion being  both thorough and accessible."
   ]
  },
  {
   "cell_type": "markdown",
   "metadata": {},
   "source": [
    "<div class=\"alert alert-info\"> \n",
    "\n",
    "**Definition: Advanced Indexing**: \n",
    "\n",
    "Given an $N$-dimensional array, `x`, `x[index]` invokes **advanced indexing** whenever `index` is:\n",
    "\n",
    "- an integer-type or boolean-type `numpy.ndarray`\n",
    "- a `tuple` with at least one *sequence*-type object as an element\n",
    "\n",
    "Accessing the contents of an array via advanced indexing *always returns a copy of those contents*, whereas basic indexing returns a view.\n",
    "\n",
    "</div>"
   ]
  },
  {
   "cell_type": "markdown",
   "metadata": {},
   "source": [
    "## Integer Array Indexing\n",
    "\n",
    "### Indexing into 1-Dimensional Arrays\n",
    "Using an integer-type array as an index allows us to access the contents of an array arbitrarily, permitting items to be accessed out of order, and even repeatedly. Consider the following 1-dimensional array.\n",
    "\n",
    "```python\n",
    "y = np.array([ 0, -1, -2, -3, -4, -5])\n",
    "```\n",
    "\n",
    "See that we can access its contents in an unpatterned way, which is not permissible via basic index:\n",
    "\n",
    "```python\n",
    "# advanced indexing with an integer-array\n",
    ">>> index = np.array([2, 4, 0, 4, 4, 4])\n",
    ">>> y[index]\n",
    "array([-2, -4,  0, -4, -4, -4])\n",
    "```\n"
   ]
  },
  {
   "cell_type": "markdown",
   "metadata": {},
   "source": [
    "The specification for accessing the contents of `y` in this way is straight-forward to interpret. Each entry of the index-array is used to access an element from `y`, as illustrated here:"
   ]
  },
  {
   "cell_type": "markdown",
   "metadata": {},
   "source": [
    "\\begin{equation}\n",
    "\\left(\n",
    "\\begin{array}{*{6}{X}}\n",
    "  y[2] & y[4] & y[0] & y[4] & y[4] & y[4]\n",
    "\\end{array}\n",
    "\\right)\n",
    "% \n",
    "\\rightarrow\n",
    "\\left(\n",
    "\\begin{array}{*{6}{X}}\n",
    "  -2 & -4 & 0 & -4 & -4 & -4\n",
    "\\end{array}\n",
    "\\right)\n",
    "\\end{equation}"
   ]
  },
  {
   "cell_type": "markdown",
   "metadata": {},
   "source": [
    "This returns a *copy* of the data, as do all occurrences of advanced indexing."
   ]
  },
  {
   "cell_type": "markdown",
   "metadata": {},
   "source": [
    "```python\n",
    "# advanced indexing returns a copy\n",
    ">>> np.shares_memory(y, y[index])\n",
    "```"
   ]
  },
  {
   "cell_type": "markdown",
   "metadata": {},
   "source": [
    "The indexing array can have an arbitrary shape; the resulting array will match that shape.\n",
    "\n",
    "```python\n",
    "# utilizing a 2D-array as an index\n",
    ">>> index_2d = np.array([[ 1,  2,  0],\n",
    "...                      [ 5,  5,  5],\n",
    "...                      [ 2,  3,  4]])\n",
    "\n",
    "# the resulting shape matches the shape of the indexing array\n",
    ">>> y[index_2d]\n",
    "array([[-1, -2,  0],\n",
    "       [-5, -5, -5],\n",
    "       [-2, -3, -4]])\n",
    "```"
   ]
  },
  {
   "cell_type": "markdown",
   "metadata": {},
   "source": [
    "\\begin{equation}\n",
    "\\left(\n",
    "\\begin{array}{*{3}{X}}\n",
    "  y[1] & y[2] & y[0] \\\\\n",
    "  y[5] & y[5] & y[5] \\\\\n",
    "  y[2] & y[3] & y[4]\n",
    "\\end{array}\n",
    "\\right)\n",
    "% \n",
    "\\rightarrow\n",
    "\\left(\n",
    "\\begin{array}{*{3}{X}}\n",
    "  -1 & -2 & 0 \\\\\n",
    "  -5 & -5 & -5 \\\\\n",
    "  -2 & -3 & -4\n",
    "\\end{array}\n",
    "\\right)\n",
    "\\end{equation}"
   ]
  },
  {
   "cell_type": "markdown",
   "metadata": {},
   "source": [
    "<div class=\"alert alert-info\"> \n",
    "\n",
    "**Reading Comprehension: Array Indexing (1-D)**\n",
    "\n",
    "Given the following array:\n",
    "\n",
    "```python\n",
    "y = np.array([ 0, -1, -2, -3, -4, -5])\n",
    "```\n",
    "\n",
    "Use advanced indexing, using an integer-array, to produce the following arrays:\n",
    "\n",
    "```python\n",
    "# 1\n",
    "array([-1])\n",
    "\n",
    "#2\n",
    "array([-1, -2, -1, -2])\n",
    "\n",
    "#3\n",
    "array([[ 0, -5],\n",
    "       [-1, -4]])\n",
    "\n",
    "#4\n",
    "array([[-2],\n",
    "       [-3],\n",
    "       [-2]])\n",
    "```\n",
    "\n",
    "</div>"
   ]
  },
  {
   "cell_type": "markdown",
   "metadata": {},
   "source": [
    "### Indexing into N-Dimensional Arrays\n",
    "\n",
    "In the preceding examples, we specified a single index-array array to access the contents along the only dimension of a flat array. As you may guess, in order to perform this variety of indexing on an $N$-dimensional array, we must specify $N$ index-arrays. Each of the $N$ index-arrays must have the same shape. The common shape of the index-arrays determines the shape of the resulting array. \n",
    "\n",
    "The corresponding entries of each of the $N$ index arrays is used to specify a specific array element to be accessed. For example, consider the following 3-dimensional array whose elements we will be accessing:\n",
    "\n",
    "```python\n",
    "# Indexing a 3D array using integer index-arrays\n",
    ">>> z = np.array([[[ 0,  1,  2,  3],\n",
    "...                [ 4,  5,  6,  7],\n",
    "...                [ 8,  9, 10, 11]],\n",
    "...\n",
    "...               [[12, 13, 14, 15],\n",
    "...                [16, 17, 18, 19],\n",
    "...                [20, 21, 22, 23]]])\n",
    "```\n",
    "\n",
    "We specify three index-arrays, the indices to be accessed along axis-0, axis-1, and axis-2, respectively. Suppose we want to produce the array: `array([ 3, 23,  4])`. The layout of these elements is as follows:\n",
    "\n",
    "- `3`: sheet-0, row-0, column-3\n",
    "- `23`: sheet-1, row-2, column-3\n",
    "- `4`: sheet-0, row-1, column-0\n",
    "\n",
    "Each index-array must a shape (3,) in order to produce the result of the appropriate shape. The index-array supplied for axis-0 must be `np.array([0, 1, 0])` in order to select sheet-0 for `3`, sheet-1 for `23`, and then sheet-0 for `4`. The other index arrays are formed accordingly. \n",
    "\n",
    "```python\n",
    "# specifies subsequent sheets to access\n",
    ">>> index_0 = np.array([0, 1, 0])\n",
    "\n",
    "# specifies subsequent rows to access\n",
    ">>> index_1 = np.array([0, 2, 1])\n",
    "\n",
    "# specifies subsequent columns to access\n",
    ">>> index_2 = np.array([3, 3, 0])\n",
    "\n",
    ">>> z[index_0, index_1, index_2]\n",
    "array([ 3, 23,  4])\n",
    "```\n",
    "\\begin{equation}\n",
    "\\left(\n",
    "\\begin{array}{*{3}{X}}\n",
    "   z[0, 0, 3] & z[1, 2, 3] & z[0, 1, 0] \n",
    "\\end{array}\n",
    "\\right)\n",
    "% \n",
    "\\rightarrow\n",
    "\\left(\n",
    "\\begin{array}{*{3}{X}}\n",
    "  3 & 23 & 4\n",
    "\\end{array}\n",
    "\\right)\n",
    "\\end{equation}"
   ]
  },
  {
   "cell_type": "markdown",
   "metadata": {},
   "source": [
    "The index arrays are traversed using [row-major ordering](https://www.pythonlikeyoumeanit.com/Module3_IntroducingNumpy/ArrayTraversal.html), when populating the resulting array."
   ]
  },
  {
   "cell_type": "markdown",
   "metadata": {},
   "source": [
    "<div class=\"alert alert-info\"> \n",
    "\n",
    "**Reading Comprehension: Array Indexing (N-D)**\n",
    "\n",
    "Given the following array:\n",
    "\n",
    "```python\n",
    ">>> z = np.array([[[ 0,  1,  2,  3],\n",
    "...                [ 4,  5,  6,  7],\n",
    "...                [ 8,  9, 10, 11]],\n",
    "...\n",
    "...               [[12, 13, 14, 15],\n",
    "...                [16, 17, 18, 19],\n",
    "...                [20, 21, 22, 23]]])\n",
    "```\n",
    "\n",
    "Use advanced indexing, using integer-arrays, to produce the following arrays:\n",
    "\n",
    "```python\n",
    "# 1\n",
    "array([[ 0,  5, 10],\n",
    "       [12, 17, 22]])\n",
    "\n",
    "#2\n",
    "array([[ 0, 23],\n",
    "       [23,  0]])\n",
    "\n",
    "```\n",
    "\n",
    "</div>"
   ]
  },
  {
   "cell_type": "markdown",
   "metadata": {},
   "source": [
    "<div class=\"alert alert-info\"> \n",
    "\n",
    "**Takeaway:**\n",
    "\n",
    "An $N$-dimensional array's contents can be accessed by supplying $N$ index-arrays of integers, one for each axis of data. The index-arrays must have the same shape as one another, and this common shape determines the shape of the resulting array. This is a form of advanced indexing, and thus a copy of the parent array's data is created.\n",
    "\n",
    "</div>"
   ]
  },
  {
   "cell_type": "markdown",
   "metadata": {},
   "source": [
    "## Boolean Array Indexing\n",
    "NumPy also permits the use of a boolean-value array as an index, to perform advanced indexing on an array. In its simplest form, this is an extremely intuitive and elegant method for selecting contents from an array based on logical conditions.\n",
    "\n",
    "```python\n",
    "# advanced indexing using a boolean-array\n",
    ">>> x = np.array([[[-0.26,  0.49,  0.18],\n",
    "...                [ 0.43,  0.3 ,  0.29]],\n",
    "...        \n",
    "...               [[-0.44,  0.3 ,  0.28],\n",
    "...                [ 0.27, -0.09, -0.13]]])\n",
    "\n",
    "# `True` wherever `x` is positive\n",
    ">>> bool_ind = x > 0\n",
    ">>> bool_ind\n",
    "array([[[False,  True,  True],\n",
    "        [ True,  True,  True]],\n",
    "\n",
    "       [[False,  True,  True],\n",
    "        [ True, False, False]]], dtype=bool)\n",
    "\n",
    ">>> x[bool_ind]\n",
    "array([ 0.49,  0.18,  0.43,  0.3 ,  0.29,  0.3 ,  0.28,  0.27])\n",
    "```\n",
    "In its simplest form, boolean indexing behaves as follows: Suppose `x` is an $N$-dimensional array, and `ind` is a boolean-value *of the same shape as* `x`. Then `x[ind]` returns a 1-dimensional array, which is formed by traversing `x` and `ind` using [row-major ordering](https://www.pythonlikeyoumeanit.com/Module3_IntroducingNumpy/ArrayTraversal.html). Wherever an element of `ind` is `True`, the corresponding entry of `x` is added to the end of the resulting array. Refer to the preceding example and convince yourself that this is the behavior that is exhibited."
   ]
  },
  {
   "cell_type": "code",
   "execution_count": 22,
   "metadata": {},
   "outputs": [
    {
     "ename": "IndexError",
     "evalue": "boolean index did not match indexed array along dimension 1; dimension is 3 but corresponding boolean dimension is 1",
     "output_type": "error",
     "traceback": [
      "\u001b[1;31m---------------------------------------------------------------------------\u001b[0m",
      "\u001b[1;31mIndexError\u001b[0m                                Traceback (most recent call last)",
      "\u001b[1;32m<ipython-input-22-8645d561a037>\u001b[0m in \u001b[0;36m<module>\u001b[1;34m()\u001b[0m\n\u001b[1;32m----> 1\u001b[1;33m \u001b[0mx\u001b[0m\u001b[1;33m[\u001b[0m\u001b[0mnp\u001b[0m\u001b[1;33m.\u001b[0m\u001b[0marray\u001b[0m\u001b[1;33m(\u001b[0m\u001b[1;33m[\u001b[0m\u001b[1;33m[\u001b[0m\u001b[1;32mTrue\u001b[0m\u001b[1;33m]\u001b[0m\u001b[1;33m,\u001b[0m \u001b[1;33m[\u001b[0m\u001b[1;32mTrue\u001b[0m\u001b[1;33m]\u001b[0m\u001b[1;33m,\u001b[0m \u001b[1;33m[\u001b[0m\u001b[1;32mTrue\u001b[0m\u001b[1;33m]\u001b[0m\u001b[1;33m]\u001b[0m\u001b[1;33m)\u001b[0m\u001b[1;33m]\u001b[0m\u001b[1;33m\u001b[0m\u001b[0m\n\u001b[0m",
      "\u001b[1;31mIndexError\u001b[0m: boolean index did not match indexed array along dimension 1; dimension is 3 but corresponding boolean dimension is 1"
     ]
    }
   ],
   "source": [
    "x[np.array([[True], [True], [True]])]"
   ]
  },
  {
   "cell_type": "markdown",
   "metadata": {},
   "source": [
    "### Converting from Boolean Arrays to Integer Index-Arrays: numpy.where\n",
    "\n",
    "NumPy provides "
   ]
  },
  {
   "cell_type": "code",
   "execution_count": 18,
   "metadata": {},
   "outputs": [],
   "source": [
    ">>> x = np.array([[0, 1, 2],\n",
    "...               [3, 4, 5],\n",
    "...               [6, 7, 8]])"
   ]
  },
  {
   "cell_type": "code",
   "execution_count": 16,
   "metadata": {},
   "outputs": [],
   "source": [
    "x[rows, cols] *= 33"
   ]
  },
  {
   "cell_type": "code",
   "execution_count": 17,
   "metadata": {},
   "outputs": [
    {
     "data": {
      "text/plain": [
       "array([[  0,  33,   2],\n",
       "       [  3,   4,   5],\n",
       "       [  6,   7, 264]])"
      ]
     },
     "execution_count": 17,
     "metadata": {},
     "output_type": "execute_result"
    }
   ],
   "source": [
    "x"
   ]
  },
  {
   "cell_type": "code",
   "execution_count": 3,
   "metadata": {},
   "outputs": [],
   "source": [
    "\n"
   ]
  },
  {
   "cell_type": "code",
   "execution_count": 5,
   "metadata": {},
   "outputs": [],
   "source": [
    "index = np.array([[True, False, False], [False, True, False], [False, False, True]])"
   ]
  },
  {
   "cell_type": "code",
   "execution_count": 6,
   "metadata": {},
   "outputs": [
    {
     "data": {
      "text/plain": [
       "array([[ True, False, False],\n",
       "       [False,  True, False],\n",
       "       [False, False,  True]], dtype=bool)"
      ]
     },
     "execution_count": 6,
     "metadata": {},
     "output_type": "execute_result"
    }
   ],
   "source": [
    "index"
   ]
  },
  {
   "cell_type": "markdown",
   "metadata": {},
   "source": [
    "## Links to Official Documentation\n",
    "\n",
    "- [Advanced Indexing](https://docs.scipy.org/doc/numpy/reference/arrays.indexing.html#advanced-indexing)"
   ]
  },
  {
   "cell_type": "markdown",
   "metadata": {},
   "source": [
    "## Reading Comprehension Solutions"
   ]
  },
  {
   "cell_type": "markdown",
   "metadata": {},
   "source": [
    "**Array Indexing (1-D): Solution**\n",
    "\n",
    "```python\n",
    "y = np.array([ 0, -1, -2, -3, -4, -5])\n",
    "```\n",
    "\n",
    "```python\n",
    "# 1\n",
    ">>> ind1 = np.array([1])\n",
    ">>> y[ind1]\n",
    "array([-1])\n",
    "\n",
    "#2\n",
    ">>> ind2 = np.array([1, 2, 1, 2])\n",
    ">>> y[ind2]\n",
    "array([-1, -2, -1, -2])\n",
    "\n",
    "#3\n",
    ">>> ind3 = np.array([[0, 5],\n",
    "...                  [1, 4]])\n",
    ">>> y[ind3]\n",
    "array([[ 0, -5],\n",
    "       [-1, -4]])\n",
    "\n",
    "#4\n",
    ">>> ind4 = np.array([[2],\n",
    "...                  [3],\n",
    "...                  [2]])\n",
    ">>> y[ind4]\n",
    "array([[-2],\n",
    "       [-3],\n",
    "       [-2]])\n",
    "```"
   ]
  },
  {
   "cell_type": "markdown",
   "metadata": {},
   "source": [
    "**Array Indexing (N-D): Solution**\n",
    "\n",
    "```python\n",
    ">>> z = np.array([[[ 0,  1,  2,  3],\n",
    "...                [ 4,  5,  6,  7],\n",
    "...                [ 8,  9, 10, 11]],\n",
    "...\n",
    "...               [[12, 13, 14, 15],\n",
    "...                [16, 17, 18, 19],\n",
    "...                [20, 21, 22, 23]]])\n",
    "```\n",
    "\n",
    "```python\n",
    "# 1\n",
    ">>> ind0 = np.array([0, 0, 0, 1, 1, 1]).reshape(2, 3)\n",
    ">>> ind1 = np.array([0, 1, 2, 0, 1, 2]).reshape(2, 3)\n",
    ">>> ind2 = np.array([0, 1, 2, 0, 1, 2]).reshape(2, 3)\n",
    ">>> z[ind0, ind1, ind2]\n",
    "array([[ 0,  5, 10],\n",
    "       [12, 17, 22]])\n",
    "\n",
    "# 2\n",
    ">>> ind0 = np.array([0, 1, 1, 0]).reshape(2, 2)\n",
    ">>> ind1 = np.array([0, 2, 2, 0]).reshape(2, 2)\n",
    ">>> ind2 = np.array([0, 3, 3, 0]).reshape(2, 2)\n",
    ">>> z[ind0, ind1, ind2]\n",
    "array([[ 0, 23],\n",
    "       [23,  0]])\n",
    "```"
   ]
  }
 ],
 "metadata": {
  "kernelspec": {
   "display_name": "Python 3",
   "language": "python",
   "name": "python3"
  },
  "language_info": {
   "codemirror_mode": {
    "name": "ipython",
    "version": 3
   },
   "file_extension": ".py",
   "mimetype": "text/x-python",
   "name": "python",
   "nbconvert_exporter": "python",
   "pygments_lexer": "ipython3",
   "version": "3.6.3"
  }
 },
 "nbformat": 4,
 "nbformat_minor": 2
}
