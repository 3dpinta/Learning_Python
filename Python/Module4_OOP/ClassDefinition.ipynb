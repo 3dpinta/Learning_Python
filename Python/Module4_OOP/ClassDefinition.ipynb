{
 "cells": [
  {
   "cell_type": "markdown",
   "metadata": {},
   "source": [
    "# Defining a New Class of Object\n",
    "\n",
    "This section will introduce the basic syntax for defining a new class (a.k.a type) of  Python object. Recall that the phrase `def` is used to denote the definition of a function. Similarly, `class` is used to denote the beginning of a class definition. The body of the class definition is used to define the class' various **attributes**.\n",
    "\n",
    "The following defines a new class of object, named `MyGuy`, specifying four attributes `x`, `y`, `z`, and `f`\n",
    "\n",
    "```python\n",
    "# defining a new class/type of object\n",
    "class MyGuy:\n",
    "    x = 1 + 2\n",
    "    y = [2, 4, 6]\n",
    "    z = \"hi\"\n",
    "    \n",
    "    def f():\n",
    "        return 3\n",
    "```\n",
    "\n",
    "Once this definition for a new class of object is executed, you can proceed to reference that object in your code. Here, we will access the various attributes of `MyGuy`.\n",
    "\n",
    "```python\n",
    ">>> MyGuy.x\n",
    "3\n",
    "\n",
    ">>> MyGuy.y\n",
    "[2, 4, 6]\n",
    "\n",
    ">>> MyGuy.z\n",
    "\"hi\"\n",
    "\n",
    ">>> MyGuy.f\n",
    "<function __main__.MyGuy.f>\n",
    "```\n",
    "\n",
    "See that all of the attributes can be accessed using the \"dot\" syntax: `object.attribute_name`. The attribute `f` is a function, thus we can call it and it will evaluate as expected:\n",
    "\n",
    "```python\n",
    "# calling the attribute f\n",
    ">>> MyGuy.f()\n",
    "3\n",
    "```\n",
    "\n",
    "An object attribute that is also a function is referred to as a **method**. Thus `f` is a method of `MyGuy`.\n"
   ]
  },
  {
   "cell_type": "markdown",
   "metadata": {},
   "source": [
    "## The General Form of a Class Definition\n",
    "The general form for a class definition is simply a collection of attribute definitions, which either take the form of variable assignments or function definitions, resulting in the formation of a new class of object, with its attributes and methods:\n",
    "\n",
    "```python\n",
    "class ClassName:\n",
    "    \"\"\" class docstring \"\"\"\n",
    "    <statement-1>\n",
    "    .\n",
    "    .\n",
    "    .\n",
    "    <statement-N>\n",
    "```\n",
    "\n",
    "where each `<statement-j>` defines an attribute (e.g. `z = \"hi\"` defines the attribute `z`, or a function definition creates a method) for that class of object. \n",
    "\n",
    "Similar to function definitions, class definitions can contain effectively arbitrary Python code, and the definition has its own [score](http://www.pythonlikeyoumeanit.com/Module2_EssentialsOfPython/Scope.html), however *any* variables assigned within the class definition will available as attributes. \n",
    "\n",
    "```python\n",
    "# any variable assigned within a class definition becomes\n",
    "# available as ab attribute for that class of object, even\n",
    "# a variable defined in a for-loop, for instance.\n",
    "\n",
    "class Dummy:\n",
    "    cnt = 0\n",
    "    \n",
    "    for i in range(5, 11):\n",
    "        # i = 5\n",
    "        # i = 6\n",
    "        # ...\n",
    "        # i = 10\n",
    "        cnt += i\n",
    "    \n",
    "    # last iteration of loop assigns i = 10\n",
    "    # thus i is an attribute of Dummy with value 10\n",
    "```\n",
    "\n",
    "```python\n",
    ">>> Dummy.cnt  # cnt = 0 + 5 + 6 + 7 + 8 + 9 + 10\n",
    "45\n",
    "\n",
    ">>> Dummy.i\n",
    "10\n",
    "```"
   ]
  },
  {
   "cell_type": "markdown",
   "metadata": {},
   "source": [
    "<div class=\"alert alert-warning\">\n",
    "\n",
    "**Naming Classes of Objects:**\n",
    "\n",
    "The convention for naming a new class/type of object is to use \"camel-casing\". Thus if I wanted to call my class of objects \"pizza shop\", I would use the name `PizzaShop`. This is in contrast to variable names, function names,  \n",
    "\n",
    "</div>"
   ]
  },
  {
   "cell_type": "code",
   "execution_count": 18,
   "metadata": {},
   "outputs": [],
   "source": [
    "class CustomClass:\n",
    "    cnt = 0\n",
    "    \n",
    "    for i in range(5, 11):\n",
    "        cnt += i"
   ]
  },
  {
   "cell_type": "code",
   "execution_count": 20,
   "metadata": {},
   "outputs": [
    {
     "data": {
      "text/plain": [
       "10"
      ]
     },
     "execution_count": 20,
     "metadata": {},
     "output_type": "execute_result"
    }
   ],
   "source": [
    "CustomClass.i"
   ]
  },
  {
   "cell_type": "code",
   "execution_count": null,
   "metadata": {},
   "outputs": [],
   "source": []
  }
 ],
 "metadata": {
  "kernelspec": {
   "display_name": "Python 3",
   "language": "python",
   "name": "python3"
  },
  "language_info": {
   "codemirror_mode": {
    "name": "ipython",
    "version": 3
   },
   "file_extension": ".py",
   "mimetype": "text/x-python",
   "name": "python",
   "nbconvert_exporter": "python",
   "pygments_lexer": "ipython3",
   "version": "3.6.3"
  }
 },
 "nbformat": 4,
 "nbformat_minor": 2
}
