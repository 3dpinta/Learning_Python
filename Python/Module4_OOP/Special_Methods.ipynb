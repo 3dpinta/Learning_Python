{
 "cells": [
  {
   "cell_type": "markdown",
   "metadata": {},
   "source": [
    "# Special Methods\n",
    "In this section we will learn about a variety of instance methods that are reserved by Python, which affect an object's high level behavior and its interactions with operators. These are known as special methods. `__init__` is an example of a special method; recall that it controls the process of creating instances of a class. Similarly, we will see that `__add__` controls the behavior of an object when it is operated on by the `+` symbol, for example. Learning to leverage special methods will enable us to design elegant and powerful classes of objects,\n",
    "\n",
    "In general, the names of special methods take the form of `__<name>__`, where the two underscores proceed and succeed the name. Accordingly, special methods can also be referred to as \"dunder\" (double-underscore) methods. \n",
    "\n",
    "\n",
    "This section is not meant to be a comprehensive treatment of special methods, which would require us to reach beyond our desired level of sophistication. The [official Python documentation](https://docs.python.org/3/reference/datamodel.html#special-method-names) provides a rigorous but somewhat inaccessible treatment of special methods. [Dive into Python 3](http://www.diveintopython3.net/special-method-names.html) has an excellent appendix on special methods. It is strongly recommended that readers consult this resource."
   ]
  },
  {
   "cell_type": "code",
   "execution_count": 28,
   "metadata": {},
   "outputs": [],
   "source": [
    "class a:\n",
    "    def __div__(self, other) : return 1\n",
    "    def __floordiv__(self, other) : return 0"
   ]
  },
  {
   "cell_type": "code",
   "execution_count": 29,
   "metadata": {},
   "outputs": [
    {
     "data": {
      "text/plain": [
       "0"
      ]
     },
     "execution_count": 29,
     "metadata": {},
     "output_type": "execute_result"
    }
   ],
   "source": [
    "a() // 22"
   ]
  },
  {
   "cell_type": "markdown",
   "metadata": {},
   "source": [
    "## Interfacing with Mathematical Operators\n",
    "The following special methods control how an object interacts with `+`, `*`, `**`, and other mathematical operators. \n",
    "\n",
    "|Method| Signature | Explanation |\n",
    "|---|---|---|\n",
    "|Add|`__add__(self, other)`|`x + y` invokes `x.__add__(y)`|\n",
    "|Subtract|`__sub__(self, other)`|`x - y` invokes `x.__sub__(y)`|\n",
    "|Multiply|`__mul__(self, other)`|`x * y` invokes `x.__mul__(y)`|\n",
    "|Divide|`__truediv__(self, other)`|`x / y` invokes `x.__truediv__(y)`|\n",
    "|Power|`__pow__(self, other)`|`x ** y` invokes `x.__pow__(y)`|\n",
    "\n",
    "You may be wondering why division has the peculiar name `__truediv__`, whereas the other operators have more sensible names. This is an artifact of the transition from Python 2 to Python 3; [the default integer-division was replaced by float-division](http://www.pythonlikeyoumeanit.com/Module2_EssentialsOfPython/Basic_Objects.html#Number-Types), and thus `__div__` was replaced by `__truediv__` for the sake of 2-3 compatibility.     "
   ]
  },
  {
   "cell_type": "code",
   "execution_count": 14,
   "metadata": {},
   "outputs": [
    {
     "data": {
      "text/plain": [
       "'̶r̶y̶a̶n̶ ̶h̶e̶l̶l̶o̶ '"
      ]
     },
     "execution_count": 14,
     "metadata": {},
     "output_type": "execute_result"
    }
   ],
   "source": [
    "strike(\"ryan hello \")"
   ]
  },
  {
   "cell_type": "code",
   "execution_count": 13,
   "metadata": {},
   "outputs": [],
   "source": [
    "def strike(text):\n",
    "    return ''.join('\\u0336{}'.format(c) for c in text)"
   ]
  },
  {
   "cell_type": "code",
   "execution_count": null,
   "metadata": {},
   "outputs": [],
   "source": []
  },
  {
   "cell_type": "markdown",
   "metadata": {},
   "source": [
    "## "
   ]
  },
  {
   "cell_type": "markdown",
   "metadata": {},
   "source": [
    "## Links to Official Documentation\n",
    "\n",
    "- [Special Methods](https://docs.python.org/3/reference/datamodel.html#special-method-names)"
   ]
  }
 ],
 "metadata": {
  "kernelspec": {
   "display_name": "Python 3",
   "language": "python",
   "name": "python3"
  },
  "language_info": {
   "codemirror_mode": {
    "name": "ipython",
    "version": 3
   },
   "file_extension": ".py",
   "mimetype": "text/x-python",
   "name": "python",
   "nbconvert_exporter": "python",
   "pygments_lexer": "ipython3",
   "version": "3.6.3"
  }
 },
 "nbformat": 4,
 "nbformat_minor": 2
}
