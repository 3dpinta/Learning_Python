{
 "cells": [
  {
   "cell_type": "markdown",
   "metadata": {},
   "source": [
    "# Special Methods\n",
    "In this section we will learn about a variety of instance methods that are reserved by Python, which affect an object's high level behavior and its interactions with operators. These are known as special methods. `__init__` is an example of a special method; recall that it controls the process of creating instances of a class. Similarly, we will see that `__add__` controls the behavior of an object when it is operated on by the `+` symbol, for example. Learning to leverage special methods will enable us to design elegant and powerful classes of objects,\n",
    "\n",
    "In general, the names of special methods take the form of `__<name>__`, where the two underscores proceed and succeed the name. Accordingly, special methods can also be referred to as \"dunder\" (double-underscore) methods. \n",
    "\n",
    "\n",
    "This section is not meant to be a comprehensive treatment of special methods, which would require us to reach beyond our desired level of sophistication. The [official Python documentation](https://docs.python.org/3/reference/datamodel.html#special-method-names) provides a rigorous but somewhat inaccessible treatment of special methods. [Dive into Python 3](http://www.diveintopython3.net/special-method-names.html) has an excellent appendix on special methods. It is strongly recommended that readers consult this resource."
   ]
  },
  {
   "cell_type": "markdown",
   "metadata": {},
   "source": [
    "## String-Representations of Objects\n",
    "The following methods determines how an object should be represented as a string in various contexts. For example, this texts consistently utilizes the fact that passing an object to the Python console will prompt the console to print out a representation of that object as a string. That is,\n",
    "\n",
    "```python\n",
    ">>> x = list((\"a\", 1, True))\n",
    ">>> x\n",
    "['a', 1, True]\n",
    "```\n",
    "\n",
    "Under the hood, the special method `x.__repr__` is being called to obtain this string representation. The method returns the string `\"['a', 1, True]\"`, which is then printed out to the console. This is an extremely useful for creating classes whose objects can be inspected conveniently in a python console or in a Jupyter notebook. Similarly `__str__` returns the string that will be produced when `str` is called on the object.\n",
    "\n",
    "|Method| Signature | Explanation |\n",
    "|---|---|---|\n",
    "|Returns string for a printable representation of object|`__repr__(self)`|`repr(x)` invokes `x.__repr__()`, this is also invoked when an object is returned by a console|\n",
    "|Returns string representation of an object|`__str__(self)`|`str(x)` invokes `x.__str__()`|"
   ]
  },
  {
   "cell_type": "markdown",
   "metadata": {},
   "source": [
    "The following demonstrates simple uses of these special methods\n",
    "```python\n",
    "class StringExample():\n",
    "    def __init__(self, x):\n",
    "        self.x = x\n",
    "    \n",
    "    def __repr__(self):\n",
    "        return \"StringExample[x={}]\".format(self.x)\n",
    "    \n",
    "    def __str__(self):\n",
    "        return \"some string: {}\".format(self.x)\n",
    "```"
   ]
  },
  {
   "cell_type": "markdown",
   "metadata": {},
   "source": [
    "```python\n",
    ">>> example = StringExample(33)\n",
    "\n",
    "# Calling __repr__ explicitly\n",
    ">>> example.__repr__()\n",
    "'StringExample[x=33]'\n",
    "\n",
    "# Using the built-in function `repr`\n",
    ">>> repr(example)\n",
    "'StringExample[x=33]'\n",
    "\n",
    "# entering an object at the console automatically\n",
    "# prints its repr-stirng\n",
    ">>> example\n",
    "StringExample[x=33]\n",
    "\n",
    "# Calling __str__ explicitly\n",
    ">>> example.__str__()\n",
    "'some string: 33'\n",
    "\n",
    "# Using the built-in type `str`\n",
    ">>> str(example)\n",
    "'some string: 33'\n",
    "```\n"
   ]
  },
  {
   "cell_type": "markdown",
   "metadata": {},
   "source": [
    "```python\n",
    "def strike(text):\n",
    "    \"\"\" Renders string with strike-through characters through it:\n",
    "        \n",
    "        `strike('hello world')` -> '̶h̶e̶l̶l̶o̶ ̶w̶o̶r̶l̶d'\"\"\"\n",
    "    return ''.join('\\u0336{}'.format(c) for c in text)\n",
    "\n",
    "class ShoppingList():\n",
    "    def __init__(self, items):\n",
    "        \"\"\" Parameters\n",
    "            ----------\n",
    "            items : Iterable[str]\n",
    "                Iterable of item-names to add to shopping list\"\"\"\n",
    "        self._needed = set(items)\n",
    "        self._purchased = set()\n",
    "    \n",
    "    def __repr__(self):\n",
    "        if self._needed or self._purchased:\n",
    "            remaining_items = [str(i) for i in self._needed]\n",
    "            purchased_items = [strike(str(i)) for i in self._purchased]\n",
    "            return \"• \" + \"\\n• \".join(remaining_items + purchased_items)\n",
    "    \n",
    "    def add_new_items(self, items):\n",
    "        \"\"\" Add more items to the shopping list\n",
    "\n",
    "            Parameters\n",
    "            ----------\n",
    "            items : Iterable[str]\n",
    "                Iterable of item-names to add to shopping list\"\"\"\n",
    "        self._needed |= set(items)\n",
    "    \n",
    "    def remove_items(self, items):\n",
    "        \"\"\" Provide names of items to be removed from the list entirely\n",
    "\n",
    "            Parameters\n",
    "            ----------\n",
    "            items : Iterable[str] \"\"\"\n",
    "        self._needed -= set(items)\n",
    "        self._purchased -= set(items)\n",
    "        \n",
    "    def purchase_items(self, items):\n",
    "        \"\"\" Provide names of items to mark as 'purchased'\n",
    "\n",
    "            Parameters\n",
    "            ----------\n",
    "            items : Iterable[str]\"\"\"\n",
    "        self._purchased |= set(items) & self._needed\n",
    "        self._needed -= self._purchased\n",
    "```"
   ]
  },
  {
   "cell_type": "code",
   "execution_count": 214,
   "metadata": {},
   "outputs": [],
   "source": [
    "def strike(text):\n",
    "    \"\"\" Renders string with strike-through characters through it:\n",
    "        \n",
    "        `strike('hello world')` -> '̶h̶e̶l̶l̶o̶ ̶w̶o̶r̶l̶d'\"\"\"\n",
    "    return ''.join('\\u0336{}'.format(c) for c in text)\n",
    "\n",
    "class ShoppingList():\n",
    "    def __init__(self, items):\n",
    "        \"\"\" Parameters\n",
    "            ----------\n",
    "            items : Iterable[str]\n",
    "                Iterable of item-names to add to shopping list\"\"\"\n",
    "        self._needed = set()\n",
    "        self._purchased = set()\n",
    "        self.add_new_items(items)\n",
    "    \n",
    "    def __repr__(self):\n",
    "        \"\"\" Returns formatted shopping list as string with purchased items being\n",
    "            crossed out.\n",
    "            \n",
    "            Returns\n",
    "            -------\n",
    "            str\"\"\"\n",
    "        if self._needed or self._purchased:\n",
    "            remaining_items = [str(i) for i in self._needed]\n",
    "            purchased_items = [strike(str(i)) for i in self._purchased]\n",
    "            return \"• \" + \"\\n• \".join(remaining_items + purchased_items)\n",
    "    \n",
    "    def add_new_items(self, items):\n",
    "        \"\"\" Add more items to the shopping list\n",
    "\n",
    "            Parameters\n",
    "            ----------\n",
    "            items : Iterable[str]\n",
    "                Iterable of item-names to add to shopping list\"\"\"\n",
    "        self._needed |= set(items)\n",
    "    \n",
    "    def remove_items(self, items):\n",
    "        \"\"\" Provide names of items to be removed from the list entirely\n",
    "\n",
    "            Parameters\n",
    "            ----------\n",
    "            items : Iterable[str] \"\"\"\n",
    "        self._needed -= set(items)\n",
    "        self._purchased -= set(items)\n",
    "        \n",
    "    def purchase_items(self, items):\n",
    "        \"\"\" Provide names of items to mark as 'purchased'\n",
    "\n",
    "            Parameters\n",
    "            ----------\n",
    "            items : Iterable[str]\"\"\"\n",
    "        self._purchased |= set(items) & self._needed\n",
    "        self._needed -= self._purchased"
   ]
  },
  {
   "cell_type": "code",
   "execution_count": 210,
   "metadata": {},
   "outputs": [],
   "source": [
    "l = ShoppingList([\"grapes\", \"beets\", \"apples\", \"milk\"])"
   ]
  },
  {
   "cell_type": "code",
   "execution_count": 211,
   "metadata": {},
   "outputs": [],
   "source": [
    "l.purchase_items([\"apples\", \"beets\"])"
   ]
  },
  {
   "cell_type": "code",
   "execution_count": 208,
   "metadata": {},
   "outputs": [],
   "source": [
    "l.remove_items([\"grapes\", \"beets\"])"
   ]
  },
  {
   "cell_type": "code",
   "execution_count": 212,
   "metadata": {},
   "outputs": [
    {
     "data": {
      "text/plain": [
       "• milk\n",
       "• grapes\n",
       "• ̶a̶p̶p̶l̶e̶s\n",
       "• ̶b̶e̶e̶t̶s"
      ]
     },
     "execution_count": 212,
     "metadata": {},
     "output_type": "execute_result"
    }
   ],
   "source": [
    "l"
   ]
  },
  {
   "cell_type": "code",
   "execution_count": 184,
   "metadata": {},
   "outputs": [
    {
     "data": {
      "text/plain": [
       "'some string: 33'"
      ]
     },
     "execution_count": 184,
     "metadata": {},
     "output_type": "execute_result"
    }
   ],
   "source": [
    ">>> example = StringExample(33)\n",
    "\n",
    "# Calling __repr__ explicitly\n",
    ">>> example.__repr__()\n",
    "\n",
    "# Using the built-in function `repr`\n",
    ">>> repr(example)\n",
    "\n",
    "# entering an object at the console automatically\n",
    "# displays its repr-stirng\n",
    ">>> example\n",
    "\n",
    "# Calling __str__ explicitly\n",
    ">>> example.__str__()\n",
    "\n",
    "# Using the built-in type `str`\n",
    ">>> str(example)"
   ]
  },
  {
   "cell_type": "code",
   "execution_count": 179,
   "metadata": {},
   "outputs": [],
   "source": [
    "class StringExample():\n",
    "    def __init__(self, x):\n",
    "        self.x = x\n",
    "    \n",
    "    def __repr__(self):\n",
    "        return \"StringExample[x={}]\".format(self.x)\n",
    "    \n",
    "    def __str__(self):\n",
    "        return \"some string: {}\".format(self.x)"
   ]
  },
  {
   "cell_type": "code",
   "execution_count": 176,
   "metadata": {},
   "outputs": [],
   "source": [
    "r = StringExample(33)"
   ]
  },
  {
   "cell_type": "code",
   "execution_count": 177,
   "metadata": {},
   "outputs": [
    {
     "data": {
      "text/plain": [
       "StringExample[x=33]"
      ]
     },
     "execution_count": 177,
     "metadata": {},
     "output_type": "execute_result"
    }
   ],
   "source": [
    "r"
   ]
  },
  {
   "cell_type": "code",
   "execution_count": 62,
   "metadata": {},
   "outputs": [
    {
     "data": {
      "text/plain": [
       "[0, 1, 2, 0, 1, 2, 3]"
      ]
     },
     "execution_count": 62,
     "metadata": {},
     "output_type": "execute_result"
    }
   ],
   "source": [
    "list(chain(range(3), range(4)))"
   ]
  },
  {
   "cell_type": "code",
   "execution_count": 143,
   "metadata": {},
   "outputs": [
    {
     "data": {
      "text/plain": [
       "'̶h̶e̶l̶l̶o̶ ̶w̶o̶r̶l̶d'"
      ]
     },
     "execution_count": 143,
     "metadata": {},
     "output_type": "execute_result"
    }
   ],
   "source": [
    "strike('hello world')"
   ]
  },
  {
   "cell_type": "code",
   "execution_count": 169,
   "metadata": {},
   "outputs": [],
   "source": []
  },
  {
   "cell_type": "code",
   "execution_count": 187,
   "metadata": {},
   "outputs": [],
   "source": []
  },
  {
   "cell_type": "code",
   "execution_count": 188,
   "metadata": {},
   "outputs": [
    {
     "data": {
      "text/plain": [
       "• milk\n",
       "• apples\n",
       "• beets"
      ]
     },
     "execution_count": 188,
     "metadata": {},
     "output_type": "execute_result"
    }
   ],
   "source": [
    "l"
   ]
  },
  {
   "cell_type": "code",
   "execution_count": 189,
   "metadata": {},
   "outputs": [],
   "source": []
  },
  {
   "cell_type": "code",
   "execution_count": 190,
   "metadata": {},
   "outputs": [
    {
     "data": {
      "text/plain": [
       "• milk\n",
       "• ̶a̶p̶p̶l̶e̶s\n",
       "• ̶b̶e̶e̶t̶s"
      ]
     },
     "execution_count": 190,
     "metadata": {},
     "output_type": "execute_result"
    }
   ],
   "source": [
    "l"
   ]
  },
  {
   "cell_type": "code",
   "execution_count": 97,
   "metadata": {},
   "outputs": [
    {
     "data": {
      "text/plain": [
       "0"
      ]
     },
     "execution_count": 97,
     "metadata": {},
     "output_type": "execute_result"
    }
   ],
   "source": [
    "a() // 22"
   ]
  },
  {
   "cell_type": "markdown",
   "metadata": {},
   "source": [
    "## Interfacing with Mathematical Operators\n",
    "The following special methods control how an object interacts with `+`, `*`, `**`, and other mathematical operators. \n",
    "\n",
    "|Method| Signature | Explanation |\n",
    "|---|---|---|\n",
    "|Add|`__add__(self, other)`|`x + y` invokes `x.__add__(y)`|\n",
    "|Subtract|`__sub__(self, other)`|`x - y` invokes `x.__sub__(y)`|\n",
    "|Multiply|`__mul__(self, other)`|`x * y` invokes `x.__mul__(y)`|\n",
    "|Divide|`__truediv__(self, other)`|`x / y` invokes `x.__truediv__(y)`|\n",
    "|Power|`__pow__(self, other)`|`x ** y` invokes `x.__pow__(y)`|\n",
    "\n",
    "You may be wondering why division has the peculiar name `__truediv__`, whereas the other operators have more sensible names. This is an artifact of the transition from Python 2 to Python 3; [the default integer-division was replaced by float-division](http://www.pythonlikeyoumeanit.com/Module2_EssentialsOfPython/Basic_Objects.html#Number-Types), and thus `__div__` was replaced by `__truediv__` for the sake of 2-3 compatibility.     "
   ]
  },
  {
   "cell_type": "code",
   "execution_count": 14,
   "metadata": {},
   "outputs": [
    {
     "data": {
      "text/plain": [
       "'̶r̶y̶a̶n̶ ̶h̶e̶l̶l̶o̶ '"
      ]
     },
     "execution_count": 14,
     "metadata": {},
     "output_type": "execute_result"
    }
   ],
   "source": [
    "strike(\"ryan hello \")"
   ]
  },
  {
   "cell_type": "code",
   "execution_count": 13,
   "metadata": {},
   "outputs": [],
   "source": [
    "def strike(text):\n",
    "    return ''.join('\\u0336{}'.format(c) for c in text)"
   ]
  },
  {
   "cell_type": "code",
   "execution_count": null,
   "metadata": {},
   "outputs": [],
   "source": []
  },
  {
   "cell_type": "markdown",
   "metadata": {},
   "source": [
    "## "
   ]
  },
  {
   "cell_type": "markdown",
   "metadata": {},
   "source": [
    "## Links to Official Documentation\n",
    "\n",
    "- [Special Methods](https://docs.python.org/3/reference/datamodel.html#special-method-names)"
   ]
  }
 ],
 "metadata": {
  "kernelspec": {
   "display_name": "Python 3",
   "language": "python",
   "name": "python3"
  },
  "language_info": {
   "codemirror_mode": {
    "name": "ipython",
    "version": 3
   },
   "file_extension": ".py",
   "mimetype": "text/x-python",
   "name": "python",
   "nbconvert_exporter": "python",
   "pygments_lexer": "ipython3",
   "version": "3.6.3"
  }
 },
 "nbformat": 4,
 "nbformat_minor": 2
}
