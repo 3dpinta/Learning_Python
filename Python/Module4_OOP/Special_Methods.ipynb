{
 "cells": [
  {
   "cell_type": "markdown",
   "metadata": {},
   "source": [
    "# Special Methods\n",
    "In this section we will learn about a variety of instance methods that are reserved by Python, which affect an object's high level behavior and its interactions with operators. These are known as special methods. `__init__` is an example of a special method; recall that it controls the process of creating instances of a class. Similarly, we will see that `__add__` controls the behavior of an object when it is operated on by the `+` symbol, for example. Learning to leverage special methods will enable us to design elegant and powerful classes of objects,\n",
    "\n",
    "In general, the names of special methods take the form of `__<name>__`, where the two underscores proceed and succeed the name. Accordingly, special methods can also be referred to as \"dunder\" (double-underscore) methods. \n",
    "\n",
    "\n",
    "This section is not meant to be a comprehensive treatment of special methods, which would require us to reach beyond our desired level of sophistication. The [official Python documentation](https://docs.python.org/3/reference/datamodel.html#special-method-names) provides a rigorous but somewhat inaccessible treatment of special methods. [Dive into Python 3](http://www.diveintopython3.net/special-method-names.html) has an excellent appendix on special methods. It is strongly recommended that readers consult this resource."
   ]
  },
  {
   "cell_type": "markdown",
   "metadata": {},
   "source": [
    "## String-Representations of Objects\n",
    "The following methods determines how an object should be represented as a string in various contexts. For example, this texts consistently utilizes the fact that passing an object to the Python console will prompt the console to print out a representation of that object as a string. That is,\n",
    "\n",
    "```python\n",
    ">>> x = list((\"a\", 1, True))\n",
    ">>> x\n",
    "['a', 1, True]\n",
    "```\n",
    "\n",
    "Under the hood, the special method `x.__repr__` is being called to obtain this string representation. The method returns the string `\"['a', 1, True]\"`, which is then printed out to the console. This is an extremely useful for creating classes whose objects can be inspected conveniently in a python console or in a Jupyter notebook. Similarly `__str__` returns the string that will be produced when `str` is called on the object.\n",
    "\n",
    "|Method| Signature | Explanation |\n",
    "|---|---|---|\n",
    "|Returns string for a printable representation of object|`__repr__(self)`|`repr(x)` invokes `x.__repr__()`, this is also invoked when an object is returned by a console|\n",
    "|Returns string representation of an object|`__str__(self)`|`str(x)` invokes `x.__str__()`|"
   ]
  },
  {
   "cell_type": "markdown",
   "metadata": {},
   "source": [
    "A well-implemented `__repr__` method can greatly improve the convenience of working with a class. For example, let's add this method to our `ShoppingList` class that we wrote in the preceding section; the `__repr__` will create a string with our shopping items on a bulleted list with purchased items crossed out:"
   ]
  },
  {
   "cell_type": "markdown",
   "metadata": {},
   "source": [
    "```python\n",
    "def strike(text):\n",
    "    \"\"\" Renders string with strike-through characters through it.\n",
    "        \\u0336 is a special strike-through unicode character; it\n",
    "        is not unique to Python.\n",
    "        \n",
    "        `strike('hello world')` -> '̶h̶e̶l̶l̶o̶ ̶w̶o̶r̶l̶d'\"\"\"\n",
    "    return ''.join('\\u0336{}'.format(c) for c in text)\n",
    "\n",
    "class ShoppingList:\n",
    "    def __init__(self, items):\n",
    "        self._needed = set(items)\n",
    "        self._purchased = set()\n",
    "\n",
    "    def __repr__(self):\n",
    "        \"\"\" Returns formatted shopping list as string with purchased items being\n",
    "            crossed out.\n",
    "            \n",
    "            Returns\n",
    "            -------\n",
    "            str\"\"\"\n",
    "        if self._needed or self._purchased:\n",
    "            remaining_items = [str(i) for i in self._needed]\n",
    "            purchased_items = [strike(str(i)) for i in self._purchased]\n",
    "            return \"• \" + \"\\n• \".join(remaining_items + purchased_items)\n",
    "        \n",
    "    def add_new_items(self, items):  \n",
    "        self._needed.update(items) \n",
    "\n",
    "    def mark_purchased_items(self, items):\n",
    "        self._purchased.update(set(items) & self._needed)\n",
    "        self._needed.difference_update(self._purchased)\n",
    "```\n",
    "\n",
    "```python\n",
    "# demonstrating `ShoppingList.__repr__`\n",
    ">>> l = ShoppingList([\"grapes\", \"beets\", \"apples\", \"milk\", \"melon\", \"coffee\"])\n",
    ">>> l.mark_purchased_items([\"grapes\", \"beets\", \"milk\"])\n",
    ">>> l\n",
    "• melon\n",
    "• apples\n",
    "• coffee\n",
    "• ̶g̶r̶a̶p̶e̶s\n",
    "• ̶m̶i̶l̶k\n",
    "• ̶b̶e̶e̶t̶s\n",
    "```"
   ]
  },
  {
   "cell_type": "markdown",
   "metadata": {},
   "source": [
    "## Interfacing with Mathematical Operators\n",
    "The following special methods control how an object interacts with `+`, `*`, `**`, and other mathematical operators. \n",
    "\n",
    "|Method| Signature | Explanation |\n",
    "|---|---|---|\n",
    "|Add|`__add__(self, other)`|`x + y` invokes `x.__add__(y)`|\n",
    "|Subtract|`__sub__(self, other)`|`x - y` invokes `x.__sub__(y)`|\n",
    "|Multiply|`__mul__(self, other)`|`x * y` invokes `x.__mul__(y)`|\n",
    "|Divide|`__truediv__(self, other)`|`x / y` invokes `x.__truediv__(y)`|\n",
    "|Power|`__pow__(self, other)`|`x ** y` invokes `x.__pow__(y)`|\n",
    "\n",
    "You may be wondering why division has the peculiar name `__truediv__`, whereas the other operators have more sensible names. This is an artifact of the transition from Python 2 to Python 3; [the default integer-division was replaced by float-division](http://www.pythonlikeyoumeanit.com/Module2_EssentialsOfPython/Basic_Objects.html#Number-Types), and thus `__div__` was replaced by `__truediv__` for the sake of 2-3 compatibility.     "
   ]
  },
  {
   "cell_type": "markdown",
   "metadata": {},
   "source": [
    "Let's give `ShoppingList` an `__add__` method, which allows us to merge shopping lists using the `+` operator. Rather than redefine the entire `ShoppingList` class, we can simply define this a function and use `setattr` to set it as a method to our existing class.\n",
    "\n",
    "```python\n",
    "def __add__(self, other):\n",
    "    \"\"\" Add the unpurchased and purchased items from another shopping\n",
    "        list to the present one.\n",
    "        \n",
    "        Parameters\n",
    "        ----------\n",
    "        other : ShoppingList\n",
    "            The shopping list whose items we will add to the present one.\n",
    "        Returns\n",
    "        -------\n",
    "        ShoppingList\n",
    "            The present shopping list, with items added to it.\"\"\"\n",
    "    new_list = ShoppingList([])\n",
    "    # populate new_list with items from `self` and `other`\n",
    "    for l in [self, other]:\n",
    "        new_list.add_new_items(l._needed)\n",
    "\n",
    "        # add purchased items to list, then mark as purchased\n",
    "        new_list.add_new_items(l._purchased) \n",
    "        new_list.mark_purchased_items(l._purchased) \n",
    "    return new_list\n",
    "```\n",
    "\n",
    "```python\n",
    "# set `__add__` as a method of `ShoppingList`\n",
    ">>> setattr(ShoppingList, \"__add__\", __add__)\n",
    "```\n",
    "\n",
    "Now let's create a few shopping lists and combine them:\n",
    "```python\n",
    ">>> food = ShoppingList([\"milk\", \"flour\", \"salt\", \"eggs\"])\n",
    ">>> food.mark_purchased_items([\"flour\", \"salt\"])\n",
    "\n",
    ">>> office_supplies = ShoppingList([\"staples\", \"pens\", \"pencils\"])\n",
    ">>> office_supplies.mark_purchased_items([\"pencils\"])\n",
    "\n",
    ">>> clothes = ShoppingList([\"t-shirts\", \"socks\"])\n",
    "\n",
    "# combine all three shopping lists\n",
    ">>> food + office_supplies + clothes\n",
    "• t-shirts\n",
    "• eggs\n",
    "• pens\n",
    "• milk\n",
    "• staples\n",
    "• socks\n",
    "• ̶f̶l̶o̶u̶r\n",
    "• ̶s̶a̶l̶t\n",
    "• ̶p̶e̶n̶c̶i̶l̶s\n",
    "```"
   ]
  },
  {
   "cell_type": "markdown",
   "metadata": {},
   "source": []
  },
  {
   "cell_type": "markdown",
   "metadata": {},
   "source": [
    "## Links to Official Documentation\n",
    "\n",
    "- [Special Methods](https://docs.python.org/3/reference/datamodel.html#special-method-names)"
   ]
  }
 ],
 "metadata": {
  "kernelspec": {
   "display_name": "Python 3",
   "language": "python",
   "name": "python3"
  },
  "language_info": {
   "codemirror_mode": {
    "name": "ipython",
    "version": 3
   },
   "file_extension": ".py",
   "mimetype": "text/x-python",
   "name": "python",
   "nbconvert_exporter": "python",
   "pygments_lexer": "ipython3",
   "version": "3.6.3"
  }
 },
 "nbformat": 4,
 "nbformat_minor": 2
}
