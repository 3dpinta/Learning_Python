{
 "cells": [
  {
   "cell_type": "markdown",
   "metadata": {},
   "source": [
    "# Instances of a Class\n",
    "\n",
    "Thus far we have learned about the syntax for defining a new class of object, specifying its name, attributes, and methods (which are attributes that are functions). The resulting *class object* is the singular object that encapsulates our class definition. We seldom will want to pass around or manipulate this class object once it is created. Rather, we will want to use it to create individual *instances* of that class. To be more concrete, `list` is a class object (remember that \"class\" and \"type\" are synonymous) - it is the same sort of object that is produced when a `class` definition is executed. As you saw in [Module 2](http://www.pythonlikeyoumeanit.com/Module2_EssentialsOfPython/Basic_Objects.html#Lists), we can use this class object to create individual *instances* of the list class.\n",
    "\n",
    "```python\n",
    "# using the class object `list` to create list-instances\n",
    ">>> list()\n",
    "[]\n",
    "\n",
    ">>> list((1, 2, 3))\n",
    "[1, 2, 3]\n",
    "\n",
    "# `a` and `b` are distinct instances of the list class/type\n",
    ">>> a = list((1, 2, 3))\n",
    ">>> b = list((1, 2, 3))\n",
    ">>> a is b\n",
    "False\n",
    "\n",
    ">>> isinstance(a, list)\n",
    "True\n",
    "\n",
    ">>> isinstance(b, list)\n",
    "True\n",
    "```\n",
    "\n",
    "Each of these instances share the common attributes `append`, `count`, `reverse`, and so on, as specified in the definition of Python's list class, which is encapsulated by the `list` class object. That being said, the specific content of any given list is an attribute of that particular list instance; that is, the content of a particular list is an *instance attribute* rather than a class attribute.\n",
    "\n",
    "Here we will learn about creating *instances* from our own class objects and how to define instance-specific attributes."
   ]
  },
  {
   "cell_type": "markdown",
   "metadata": {},
   "source": [
    "## Object Identity and Creating an Instance\n",
    "\n",
    "First, recall that the `is` operator checks to see if two items reference the exact same object. Also recall that the built-in `isinstance` function checks to see if an object is an instance of a class/type. \n",
    "\n",
    "Consider the following class:\n",
    "\n",
    "```python\n",
    "class Dummy:\n",
    "    x = 1\n",
    "```\n",
    "\n",
    "We can use the \"call\" syntax, familiar to calling a function in Python, to create individual instances of this class. \n",
    "\n",
    "```python\n",
    "# create an object that is an instance of our Dummy class\n",
    ">>> d = Dummy()\n",
    "\n",
    "# `Dummy` is the class object that encapsulates\n",
    "# our class definition\n",
    ">>> Dummy\n",
    "__main__.Dummy\n",
    "\n",
    "# `d` is an object that is an instance of our Dummy class.\n",
    "# It resides at a particular memory address: 0x2ae8f68f2e8\n",
    ">>> d\n",
    "<__main__.Dummy at 0x2ae8f68f2e8>\n",
    "\n",
    ">>> d is Dummy \n",
    "False\n",
    "\n",
    ">>> isinstance(d, Dummy)\n",
    "True\n",
    "```\n",
    "\n",
    "Invoking this syntax again will create a new, distinct instance of `Dummy`:\n",
    "```python\n",
    "# `d2` is a new instance of our Dummy class.\n",
    "# It resides at the distinct memory address: 0x2ae8f666f60\n",
    ">>> d2 = Dummy()\n",
    ">>> d2\n",
    "<__main__.Dummy at 0x2ae8f666f60>\n",
    "\n",
    ">>> d2 is d\n",
    "False\n",
    "\n",
    ">>> isinstance(d2, Dummy)\n",
    "True\n",
    "```\n",
    "\n",
    "Python's [rules for referencing objects with variables](http://www.pythonlikeyoumeanit.com/Module2_EssentialsOfPython/Variables_and_Assignment.html) still apply here. Assigning a variable to an object, be it a class object or an instance, does not create a distinct copy of that object. The variable merely references that object, serving only as an alias for it.\n",
    "\n",
    "```python\n",
    "# `a` references `Dummy`\n",
    ">>> a = Dummy\n",
    "\n",
    ">>> a is Dummy\n",
    "True\n",
    "\n",
    ">>> a()  # creates an instance of `Dummy`\n",
    "<__main__.Dummy at 0x2ae8f65fcf8>\n",
    "\n",
    ">>> isinstance(d, a)  # equivalent to `isinstance(d, Dummy)`\n",
    "True\n",
    "\n",
    "# `var` references the Dummy-instance `d`\n",
    ">>> var = d\n",
    "\n",
    ">>> var is d\n",
    "True\n",
    "\n",
    ">>> isinstance(d, Dummy)\n",
    "True\n",
    "\n",
    ">>> var is d2\n",
    "False\n",
    "```"
   ]
  },
  {
   "cell_type": "markdown",
   "metadata": {},
   "source": [
    "## Class and Instance Attributes\n",
    "\n",
    "Looking back to our definition of `Dummy`, we see that it has one class-level attribute `x`:\n",
    "\n",
    "```python\n",
    ">>> d1 = Dummy()\n",
    ">>> d2 = Dummy()\n",
    "\n",
    ">>> Dummy.x\n",
    "1\n",
    "\n",
    ">>> d1.x\n",
    "1\n",
    "\n",
    ">>> d2.x\n",
    "1\n",
    "```\n",
    "\n",
    "What do you suppose setting `Dummy.x` with a new value will do? How will this affect instances of `Dummy`? Remember that the class object `Dummy` encapsulates the very definition for this class/type of object. This means that setting a new value to `Dummy.x` will affect all current and future instances of `Dummy`.\n",
    "\n",
    "```python\n",
    "# update the class-attribute `x`\n",
    ">>> Dummy.x = -10\n",
    "\n",
    ">>> Dummy.x\n",
    "-10\n",
    "\n",
    "# this affects existing instances\n",
    ">>> d1.x\n",
    "-10\n",
    "\n",
    ">>> d2.x\n",
    "-10\n",
    "\n",
    "\n",
    "# this also affects new instances\n",
    ">>> d3 = Dummy()\n",
    ">>> d3.x\n",
    "-10\n",
    "```\n",
    "\n",
    "Updating the `x` attribute for a specific instance of `Dummy` *will only affect that instance*.\n",
    "\n",
    "```python\n",
    "# update the attribute `x` for the instance `d1`\n",
    ">>> d1.x = \"moo\"\n",
    "\n",
    "# the class at large is not affected\n",
    ">>> Dummy.x\n",
    "-10\n",
    "\n",
    "# no other instances are affected\n",
    ">>> d1.x\n",
    "'moo'\n",
    "\n",
    ">>> d2.x\n",
    "-10\n",
    "\n",
    ">>> d3.x\n",
    "-10\n",
    "```\n",
    "\n",
    "Now that `d1.x` has been set as an *instance-level*, it"
   ]
  },
  {
   "cell_type": "code",
   "execution_count": 37,
   "metadata": {},
   "outputs": [
    {
     "data": {
      "text/plain": [
       "<__main__.Dummy at 0x2ae8f65fcf8>"
      ]
     },
     "execution_count": 37,
     "metadata": {},
     "output_type": "execute_result"
    }
   ],
   "source": [
    "Dummy()"
   ]
  },
  {
   "cell_type": "code",
   "execution_count": 33,
   "metadata": {},
   "outputs": [],
   "source": [
    "# create an object that is an instance of our Dummy class\n",
    ">>> d = Dummy()\n"
   ]
  },
  {
   "cell_type": "code",
   "execution_count": 35,
   "metadata": {},
   "outputs": [],
   "source": [
    "Dummy.x = 22"
   ]
  },
  {
   "cell_type": "code",
   "execution_count": 36,
   "metadata": {},
   "outputs": [
    {
     "data": {
      "text/plain": [
       "22"
      ]
     },
     "execution_count": 36,
     "metadata": {},
     "output_type": "execute_result"
    }
   ],
   "source": [
    "d.x"
   ]
  },
  {
   "cell_type": "code",
   "execution_count": 29,
   "metadata": {},
   "outputs": [
    {
     "ename": "NameError",
     "evalue": "name 'd' is not defined",
     "output_type": "error",
     "traceback": [
      "\u001b[1;31m---------------------------------------------------------------------------\u001b[0m",
      "\u001b[1;31mNameError\u001b[0m                                 Traceback (most recent call last)",
      "\u001b[1;32m<ipython-input-29-b7de09ce3a14>\u001b[0m in \u001b[0;36m<module>\u001b[1;34m()\u001b[0m\n\u001b[0;32m      1\u001b[0m \u001b[0md2\u001b[0m \u001b[1;33m=\u001b[0m \u001b[0mDummy\u001b[0m\u001b[1;33m(\u001b[0m\u001b[1;33m)\u001b[0m\u001b[1;33m\u001b[0m\u001b[0m\n\u001b[1;32m----> 2\u001b[1;33m \u001b[0md2\u001b[0m \u001b[1;32mis\u001b[0m \u001b[0md\u001b[0m\u001b[1;33m\u001b[0m\u001b[0m\n\u001b[0m\u001b[0;32m      3\u001b[0m \u001b[1;32mFalse\u001b[0m\u001b[1;33m\u001b[0m\u001b[0m\n\u001b[0;32m      4\u001b[0m \u001b[1;33m\u001b[0m\u001b[0m\n\u001b[0;32m      5\u001b[0m \u001b[0misinstance\u001b[0m\u001b[1;33m(\u001b[0m\u001b[0md2\u001b[0m\u001b[1;33m,\u001b[0m \u001b[0mDummy\u001b[0m\u001b[1;33m)\u001b[0m\u001b[1;33m\u001b[0m\u001b[0m\n",
      "\u001b[1;31mNameError\u001b[0m: name 'd' is not defined"
     ]
    }
   ],
   "source": [
    ">>> d2 = Dummy()\n",
    ">>> d2 is d\n",
    "False\n",
    "\n",
    ">>> isinstance(d2, Dummy)\n",
    "Trued2"
   ]
  },
  {
   "cell_type": "code",
   "execution_count": 55,
   "metadata": {},
   "outputs": [
    {
     "data": {
      "text/plain": [
       "type"
      ]
     },
     "execution_count": 55,
     "metadata": {},
     "output_type": "execute_result"
    }
   ],
   "source": [
    "type(Dummy)"
   ]
  },
  {
   "cell_type": "code",
   "execution_count": 25,
   "metadata": {},
   "outputs": [
    {
     "data": {
      "text/plain": [
       "<__main__.Dummy at 0x2ae8f68f2e8>"
      ]
     },
     "execution_count": 25,
     "metadata": {},
     "output_type": "execute_result"
    }
   ],
   "source": [
    ">>> dummy = Dummy()\n",
    "\n",
    ">>> dummy"
   ]
  },
  {
   "cell_type": "code",
   "execution_count": 24,
   "metadata": {},
   "outputs": [
    {
     "data": {
      "text/plain": [
       "False"
      ]
     },
     "execution_count": 24,
     "metadata": {},
     "output_type": "execute_result"
    }
   ],
   "source": [
    "isinstance(Dummy, Dummy)"
   ]
  },
  {
   "cell_type": "code",
   "execution_count": 17,
   "metadata": {},
   "outputs": [
    {
     "data": {
      "text/plain": [
       "list"
      ]
     },
     "execution_count": 17,
     "metadata": {},
     "output_type": "execute_result"
    }
   ],
   "source": [
    "list"
   ]
  },
  {
   "cell_type": "code",
   "execution_count": 5,
   "metadata": {},
   "outputs": [],
   "source": [
    "from collections import UserList"
   ]
  },
  {
   "cell_type": "code",
   "execution_count": 14,
   "metadata": {},
   "outputs": [],
   "source": [
    "UserList.x = 33"
   ]
  },
  {
   "cell_type": "code",
   "execution_count": 16,
   "metadata": {},
   "outputs": [
    {
     "data": {
      "text/plain": [
       "type"
      ]
     },
     "execution_count": 16,
     "metadata": {},
     "output_type": "execute_result"
    }
   ],
   "source": [
    "type(list)"
   ]
  },
  {
   "cell_type": "code",
   "execution_count": 4,
   "metadata": {},
   "outputs": [
    {
     "name": "stdout",
     "output_type": "stream",
     "text": [
      "Help on class UserList in module collections:\n",
      "\n",
      "class UserList(collections.abc.MutableSequence)\n",
      " |  A more or less complete user-defined wrapper around list objects.\n",
      " |  \n",
      " |  Method resolution order:\n",
      " |      UserList\n",
      " |      collections.abc.MutableSequence\n",
      " |      collections.abc.Sequence\n",
      " |      collections.abc.Reversible\n",
      " |      collections.abc.Collection\n",
      " |      collections.abc.Sized\n",
      " |      collections.abc.Iterable\n",
      " |      collections.abc.Container\n",
      " |      builtins.object\n",
      " |  \n",
      " |  Methods defined here:\n",
      " |  \n",
      " |  __add__(self, other)\n",
      " |  \n",
      " |  __contains__(self, item)\n",
      " |  \n",
      " |  __delitem__(self, i)\n",
      " |  \n",
      " |  __eq__(self, other)\n",
      " |      Return self==value.\n",
      " |  \n",
      " |  __ge__(self, other)\n",
      " |      Return self>=value.\n",
      " |  \n",
      " |  __getitem__(self, i)\n",
      " |  \n",
      " |  __gt__(self, other)\n",
      " |      Return self>value.\n",
      " |  \n",
      " |  __iadd__(self, other)\n",
      " |  \n",
      " |  __imul__(self, n)\n",
      " |  \n",
      " |  __init__(self, initlist=None)\n",
      " |      Initialize self.  See help(type(self)) for accurate signature.\n",
      " |  \n",
      " |  __le__(self, other)\n",
      " |      Return self<=value.\n",
      " |  \n",
      " |  __len__(self)\n",
      " |  \n",
      " |  __lt__(self, other)\n",
      " |      Return self<value.\n",
      " |  \n",
      " |  __mul__(self, n)\n",
      " |  \n",
      " |  __radd__(self, other)\n",
      " |  \n",
      " |  __repr__(self)\n",
      " |      Return repr(self).\n",
      " |  \n",
      " |  __rmul__ = __mul__(self, n)\n",
      " |  \n",
      " |  __setitem__(self, i, item)\n",
      " |  \n",
      " |  append(self, item)\n",
      " |      S.append(value) -- append value to the end of the sequence\n",
      " |  \n",
      " |  clear(self)\n",
      " |      S.clear() -> None -- remove all items from S\n",
      " |  \n",
      " |  copy(self)\n",
      " |  \n",
      " |  count(self, item)\n",
      " |      S.count(value) -> integer -- return number of occurrences of value\n",
      " |  \n",
      " |  extend(self, other)\n",
      " |      S.extend(iterable) -- extend sequence by appending elements from the iterable\n",
      " |  \n",
      " |  index(self, item, *args)\n",
      " |      S.index(value, [start, [stop]]) -> integer -- return first index of value.\n",
      " |      Raises ValueError if the value is not present.\n",
      " |  \n",
      " |  insert(self, i, item)\n",
      " |      S.insert(index, value) -- insert value before index\n",
      " |  \n",
      " |  pop(self, i=-1)\n",
      " |      S.pop([index]) -> item -- remove and return item at index (default last).\n",
      " |      Raise IndexError if list is empty or index is out of range.\n",
      " |  \n",
      " |  remove(self, item)\n",
      " |      S.remove(value) -- remove first occurrence of value.\n",
      " |      Raise ValueError if the value is not present.\n",
      " |  \n",
      " |  reverse(self)\n",
      " |      S.reverse() -- reverse *IN PLACE*\n",
      " |  \n",
      " |  sort(self, *args, **kwds)\n",
      " |  \n",
      " |  ----------------------------------------------------------------------\n",
      " |  Data descriptors defined here:\n",
      " |  \n",
      " |  __dict__\n",
      " |      dictionary for instance variables (if defined)\n",
      " |  \n",
      " |  __weakref__\n",
      " |      list of weak references to the object (if defined)\n",
      " |  \n",
      " |  ----------------------------------------------------------------------\n",
      " |  Data and other attributes defined here:\n",
      " |  \n",
      " |  __abstractmethods__ = frozenset()\n",
      " |  \n",
      " |  __hash__ = None\n",
      " |  \n",
      " |  ----------------------------------------------------------------------\n",
      " |  Methods inherited from collections.abc.Sequence:\n",
      " |  \n",
      " |  __iter__(self)\n",
      " |  \n",
      " |  __reversed__(self)\n",
      " |  \n",
      " |  ----------------------------------------------------------------------\n",
      " |  Class methods inherited from collections.abc.Reversible:\n",
      " |  \n",
      " |  __subclasshook__(C) from abc.ABCMeta\n",
      " |      Abstract classes can override this to customize issubclass().\n",
      " |      \n",
      " |      This is invoked early on by abc.ABCMeta.__subclasscheck__().\n",
      " |      It should return True, False or NotImplemented.  If it returns\n",
      " |      NotImplemented, the normal algorithm is used.  Otherwise, it\n",
      " |      overrides the normal algorithm (and the outcome is cached).\n",
      "\n"
     ]
    }
   ],
   "source": [
    "help(collections.UserList)"
   ]
  },
  {
   "cell_type": "code",
   "execution_count": 1,
   "metadata": {},
   "outputs": [],
   "source": [
    "class M: a = 1"
   ]
  },
  {
   "cell_type": "code",
   "execution_count": 18,
   "metadata": {},
   "outputs": [],
   "source": [
    "m = M()"
   ]
  },
  {
   "cell_type": "code",
   "execution_count": 13,
   "metadata": {},
   "outputs": [],
   "source": [
    "m.a = 2"
   ]
  },
  {
   "cell_type": "code",
   "execution_count": 17,
   "metadata": {},
   "outputs": [],
   "source": [
    "M.a = 33"
   ]
  },
  {
   "cell_type": "code",
   "execution_count": 19,
   "metadata": {},
   "outputs": [
    {
     "data": {
      "text/plain": [
       "33"
      ]
     },
     "execution_count": 19,
     "metadata": {},
     "output_type": "execute_result"
    }
   ],
   "source": [
    "m.a"
   ]
  },
  {
   "cell_type": "code",
   "execution_count": null,
   "metadata": {},
   "outputs": [],
   "source": []
  }
 ],
 "metadata": {
  "kernelspec": {
   "display_name": "Python 3",
   "language": "python",
   "name": "python3"
  },
  "language_info": {
   "codemirror_mode": {
    "name": "ipython",
    "version": 3
   },
   "file_extension": ".py",
   "mimetype": "text/x-python",
   "name": "python",
   "nbconvert_exporter": "python",
   "pygments_lexer": "ipython3",
   "version": "3.6.3"
  }
 },
 "nbformat": 4,
 "nbformat_minor": 2
}
