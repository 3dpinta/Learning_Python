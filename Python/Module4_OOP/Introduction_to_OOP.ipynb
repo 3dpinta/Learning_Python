{
 "cells": [
  {
   "cell_type": "markdown",
   "metadata": {},
   "source": [
    "# Introduction to Object Oriented Programming\n",
    "\n",
    "Our first foray into the essentials of Python introduced us to the [basic object types: numbers, strings, and lists](http://www.pythonlikeyoumeanit.com/Module2_EssentialsOfPython/Basic_Objects.html). Likewise, our discussion of NumPy was centered around the [N-dimensional array](http://www.pythonlikeyoumeanit.com/Module3_IntroducingNumpy/IntroducingTheNDarray.html). These types of objects are distinguished in large part by the different functions that are bound to them. Functions bound to objects are known as **methods**. For example, where strings have methods designed to manipulate sequences of characters, a numpy array possesses methods for operating on numerical data.\n",
    "\n",
    "```python\n",
    "# Different types of objects can possess different methods \n",
    "\n",
    ">>> string = \"hello world\"\n",
    ">>> string.capitalize() # use the string-method `capitalize`\n",
    "'Hello world'\n",
    "\n",
    ">>> import numpy as np\n",
    ">>> array = np.array([[0, 1, 2],\n",
    "...                   [3, 4, 5]])\n",
    ">>> array.sum()  # use the array-method `sum`\n",
    "15\n",
    "```"
   ]
  },
  {
   "cell_type": "markdown",
   "metadata": {},
   "source": [
    "More generally, an object can possess data, known as **attributes**, which summarize information about that object. For example, the array-attributes `ndim` and `shape` provide information about the indexing-layout of that array's numerical data.\n",
    "\n",
    "```python\n",
    "# accessing an object's attributes\n",
    ">>> array.ndim\n",
    "2\n",
    ">>> array.shape\n",
    "(2, 3)\n",
    "```"
   ]
  },
  {
   "cell_type": "markdown",
   "metadata": {},
   "source": [
    "In this module, we will learn to define our own, customized object types with distinct collections of attributes and methods. In this way, we will be using Python as an \"objected oriented\" programming language; this will greatly expand our capabilities, as Python users, and deepen our understanding of the language itself.\n",
    "\n",
    "Moving forward, we will discuss the essential *class definition*, which will permit us to  define our own class (a.k.a type) of object. Next, we will learn about creating distinct *instances* of a given object type. This will lead to our first encounter with *special methods*, which enable us to affect how our object type behaves with Python's various operators. For example, we can define how the `+` operator interacts with our objects. Lastly, we will briefly discuss the concept of class inheritance. "
   ]
  },
  {
   "cell_type": "markdown",
   "metadata": {},
   "source": [
    "## Class vs Type: An Important Note on Terminology\n",
    "Before proceeding any further, it is worthwhile to draw our attention to a the fact that the terms \"type\" and \"class\" are practically synonymous in Python. Thus far, we have only encountered the term \"type\" to distinguish objects from one another. However, we will soon study *class* definitions for making new types objects, and soon introduce functions like `issubclass` into our lexicon. There are historical reasons for the existence of these two terms, but know that, [since Python 2.2](https://www.python.org/download/releases/2.2/descrintro/), *the terms type and class have been unified to mean the same thing*.\n",
    "\n",
    "In practice, people tend to reserve the word \"type\" to refer to built-in types (e.g. `int` and `str`) and \"class\" to refer to user-defined types. Again, in the modern versions of Python, these terms carry no practical distinction."
   ]
  },
  {
   "cell_type": "markdown",
   "metadata": {},
   "source": [
    "<div class=\"alert alert-info\">\n",
    "\n",
    "**Takeaway: **\n",
    "\n",
    "The terms \"type\" and \"class\" are synonymous; they both refer to the encapsulating definition of a specific type/class of Python object, with all of its attributes. Although they are not treated synonymously within the Python language - we will write class definitions, not type definitions, and we will use `type` to inspect an object and not `class` - these distinctions are merely relics of version of Python long passed.\n",
    "\n",
    "</div>"
   ]
  },
  {
   "cell_type": "markdown",
   "metadata": {},
   "source": [
    "## Links to Official Documentation\n",
    "\n",
    "- [Python Tutorial: A First Look at Classes](https://docs.python.org/3/tutorial/classes.html#a-first-look-at-classes)"
   ]
  }
 ],
 "metadata": {
  "kernelspec": {
   "display_name": "Python 3",
   "language": "python",
   "name": "python3"
  },
  "language_info": {
   "codemirror_mode": {
    "name": "ipython",
    "version": 3
   },
   "file_extension": ".py",
   "mimetype": "text/x-python",
   "name": "python",
   "nbconvert_exporter": "python",
   "pygments_lexer": "ipython3",
   "version": "3.6.3"
  }
 },
 "nbformat": 4,
 "nbformat_minor": 2
}
