{
 "cells": [
  {
   "cell_type": "markdown",
   "metadata": {},
   "source": [
    "## Section 2: Installing Python\n",
    "\n",
    "Without further adieu, we now provide instructions for installing Python and other useful Python libraries on your machine via the Anaconda platform. Installing the Anaconda platform will install the following:\n",
    " - Python (specifically the CPython interpreter that we discussed in the previous section)\n",
    " - A number of useful Python packages, like matplotlib, NumPy, and SciPy.\n",
    " - Jupyter: provides an interactive \"notebook\" environment for prototyping code.\n",
    " - \"conda\" a package manager that will allow you to install and update Python and additional Python packages, while handling all compatibility issues for you.\n",
    " \n",
    "Some of the packages provided by Anaconda, like NumPy, have been [optimized](https://docs.anaconda.com/mkl-optimizations/) and will run significantly faster than if you installed them manually.\n",
    "\n",
    "`conda` is not only a package manager, but also an environment manager. It is typically a big pain to have different versions of Python installed simultaneously. `conda` makes it easy to create independent environments with respective versions of Python installed in them. For this online class, you will want to install Python version 3 on your computer. Later, you may need Python version 2 in order to run older software; you will simply create a new environment using `conda` that has Python 2 installed in it.\n",
    "\n",
    "<div class=\"alert alert-block alert-success\">\n",
    "**Takeaway**: \"Anaconda\" is a collection of the CPython interpreter and a number of very popular Python libraries for doing data science related work. It also provides a package manager for downloading/updating Python packages, and an environment manager for maintaining independent installations of Python side-by-side.  \n",
    "</div>\n",
    "\n",
    "### Installing Anaconda\n",
    "1. Navigate to [this page](https://www.anaconda.com/download/), and click the \"Download\" button for **Python 3** (depending on when you read this, it may say Python 3.6 or Python 3.7, etc.)\n",
    "2. After the download is complete, begin the installation process.\n",
    " - There will be an installation option: `Add Anaconda to the system PATH environment variable`; we advise you to **enable** this installation option.\n",
    "3. Complete the 30 minute [\"Getting Started\"](https://conda.io/docs/user-guide/getting-started.html) tutorial to familiarize yourself with `conda`. This is very important!\n",
    "\n",
    "> - You will need to know how to open a terminal (cmd.exe for Windows users) on your computer, and how to navigate between directories in the terminal. If you do not know how to do this, read a 'how-to' for whatever operating system you are using.\n",
    "\n",
    "> Windows users: conda commands do not work in powershell. \n",
    "\n",
    "> Windows users: You can also install the minTTy terminal via [Git bash](https://git-for-windows.github.io/). This provides an alternative terminal for Windows, and can be nicer to use as it resembles the popular Linux terminal. Use the following installation options: \n",
    " - `Adjusting your PATH environment` -> Use Git from Git Bash only\n",
    " - `Choosing HTTPS transport backend` -> Use the OpenSSL library\n",
    " - `Configuring the line ending conversions` -> Checkout Windows-style, commit Unix-style line endings\n",
    " - `Configuring the terminal emulator to use with Git Bash` -> Use minTTY\n",
    " - `Configuring extra options` -> In addition to the defaults, add 'Enable symbolic links\n",
    "\n"
   ]
  }
 ],
 "metadata": {
  "kernelspec": {
   "display_name": "Python 3",
   "language": "python",
   "name": "python3"
  },
  "language_info": {
   "codemirror_mode": {
    "name": "ipython",
    "version": 3
   },
   "file_extension": ".py",
   "mimetype": "text/x-python",
   "name": "python",
   "nbconvert_exporter": "python",
   "pygments_lexer": "ipython3",
   "version": "3.6.1"
  }
 },
 "nbformat": 4,
 "nbformat_minor": 2
}
